{
 "cells": [
  {
   "cell_type": "code",
   "execution_count": 5,
   "metadata": {},
   "outputs": [
    {
     "name": "stdout",
     "output_type": "stream",
     "text": [
      "快速排序是一种高效的排序算法，基于分治策略。它选择一个基准元素，将数组分为两部分：小于基准和大于基准，然后递归排序这两部分。以下是Python实现：\n",
      "\n",
      "```python\n",
      "def quick_sort(arr):\n",
      "    if len(arr) <= 1:\n",
      "        return arr\n",
      "    pivot = arr[0]\n",
      "    left = [x for x in arr[1:] if x <= pivot]\n",
      "    right = [x for x in arr[1:] if x > pivot]\n",
      "    return quick_sort(left) + [pivot] + quick_sort(right)\n",
      "```\n",
      "\n",
      "### 代码解释：\n",
      "1. **基本情况**：如果数组长度小于等于1，直接返回数组。\n",
      "2. **选择基准**：选择数组第一个元素作为基准。\n",
      "3. **分割数组**：将元素分为小于等于基准（`left`）和大于基准（`right`）。\n",
      "4. **递归排序**：递归排序`left`和`right`，并将结果拼接。\n",
      "\n",
      "### 示例：\n",
      "```python\n",
      "arr = [3, 6, 2, 1, 3, 4, 5]\n",
      "print(quick_sort(arr))  # 输出: [1, 2, 3, 3, 4, 5, 6]\n",
      "```\n",
      "\n",
      "该实现简洁且易于理解，适用于小规模数据排序。"
     ]
    }
   ],
   "source": [
    "from openai import OpenAI\n",
    "\n",
    "client = OpenAI(\n",
    "    api_key=\"b9f77ae5-8867-4347-8ceb-71812ec967a7\", # 请替换成您的ModelScope SDK Token\n",
    "    base_url=\"https://api-inference.modelscope.cn/v1/\"\n",
    ")\n",
    "\n",
    "\n",
    "response = client.chat.completions.create(\n",
    "    # model=\"deepseek-ai/DeepSeek-R1\", # ModleScope Model-Id\n",
    "    model=\"deepseek-ai/DeepSeek-R1-Distill-Qwen-32B\",\n",
    "    messages=[\n",
    "        {\n",
    "            'role': 'system',\n",
    "            'content': 'You are a helpful assistant.'\n",
    "        },\n",
    "        {\n",
    "            'role': 'user',\n",
    "            'content': '用python写一下快排'\n",
    "        }\n",
    "    ],\n",
    "    stream=True\n",
    ")\n",
    "\n",
    "for chunk in response:\n",
    "    print(chunk.choices[0].delta.content, end='', flush=True)"
   ]
  },
  {
   "cell_type": "code",
   "execution_count": null,
   "metadata": {},
   "outputs": [],
   "source": []
  }
 ],
 "metadata": {
  "kernelspec": {
   "display_name": "py311",
   "language": "python",
   "name": "python3"
  },
  "language_info": {
   "codemirror_mode": {
    "name": "ipython",
    "version": 3
   },
   "file_extension": ".py",
   "mimetype": "text/x-python",
   "name": "python",
   "nbconvert_exporter": "python",
   "pygments_lexer": "ipython3",
   "version": "3.11.9"
  }
 },
 "nbformat": 4,
 "nbformat_minor": 2
}
