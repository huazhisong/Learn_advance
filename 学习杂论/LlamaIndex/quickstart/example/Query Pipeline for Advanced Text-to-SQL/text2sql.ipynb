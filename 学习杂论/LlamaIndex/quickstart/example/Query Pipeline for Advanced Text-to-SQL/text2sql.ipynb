{
 "cells": [
  {
   "cell_type": "markdown",
   "metadata": {},
   "source": [
    "# Load and Ingest Data\n",
    "## Load Data"
   ]
  },
  {
   "cell_type": "code",
   "execution_count": 3,
   "metadata": {},
   "outputs": [],
   "source": [
    "# !wget \"https://github.com/ppasupat/WikiTableQuestions/releases/download/v1.0.2/WikiTableQuestions-1.0.2-compact.zip\" -O data.zip\n",
    "# !unzip data.zip\n"
   ]
  },
  {
   "cell_type": "code",
   "execution_count": 4,
   "metadata": {},
   "outputs": [
    {
     "name": "stdout",
     "output_type": "stream",
     "text": [
      "processing file: WikiTableQuestions/csv/200-csv/0.csv\n",
      "processing file: WikiTableQuestions/csv/200-csv/1.csv\n",
      "processing file: WikiTableQuestions/csv/200-csv/10.csv\n",
      "processing file: WikiTableQuestions/csv/200-csv/11.csv\n",
      "processing file: WikiTableQuestions/csv/200-csv/12.csv\n",
      "processing file: WikiTableQuestions/csv/200-csv/14.csv\n",
      "processing file: WikiTableQuestions/csv/200-csv/15.csv\n",
      "Error parsing WikiTableQuestions/csv/200-csv/15.csv: Error tokenizing data. C error: Expected 4 fields in line 16, saw 5\n",
      "\n",
      "processing file: WikiTableQuestions/csv/200-csv/17.csv\n",
      "Error parsing WikiTableQuestions/csv/200-csv/17.csv: Error tokenizing data. C error: Expected 6 fields in line 5, saw 7\n",
      "\n",
      "processing file: WikiTableQuestions/csv/200-csv/18.csv\n",
      "processing file: WikiTableQuestions/csv/200-csv/20.csv\n",
      "processing file: WikiTableQuestions/csv/200-csv/22.csv\n",
      "processing file: WikiTableQuestions/csv/200-csv/24.csv\n",
      "processing file: WikiTableQuestions/csv/200-csv/25.csv\n",
      "processing file: WikiTableQuestions/csv/200-csv/26.csv\n",
      "processing file: WikiTableQuestions/csv/200-csv/28.csv\n",
      "processing file: WikiTableQuestions/csv/200-csv/29.csv\n",
      "processing file: WikiTableQuestions/csv/200-csv/3.csv\n",
      "processing file: WikiTableQuestions/csv/200-csv/30.csv\n",
      "processing file: WikiTableQuestions/csv/200-csv/31.csv\n",
      "processing file: WikiTableQuestions/csv/200-csv/32.csv\n",
      "processing file: WikiTableQuestions/csv/200-csv/33.csv\n",
      "processing file: WikiTableQuestions/csv/200-csv/34.csv\n",
      "Error parsing WikiTableQuestions/csv/200-csv/34.csv: Error tokenizing data. C error: Expected 4 fields in line 6, saw 13\n",
      "\n",
      "processing file: WikiTableQuestions/csv/200-csv/35.csv\n",
      "processing file: WikiTableQuestions/csv/200-csv/36.csv\n",
      "processing file: WikiTableQuestions/csv/200-csv/37.csv\n",
      "processing file: WikiTableQuestions/csv/200-csv/38.csv\n",
      "processing file: WikiTableQuestions/csv/200-csv/4.csv\n",
      "processing file: WikiTableQuestions/csv/200-csv/41.csv\n",
      "processing file: WikiTableQuestions/csv/200-csv/42.csv\n",
      "processing file: WikiTableQuestions/csv/200-csv/44.csv\n",
      "processing file: WikiTableQuestions/csv/200-csv/45.csv\n",
      "processing file: WikiTableQuestions/csv/200-csv/46.csv\n",
      "processing file: WikiTableQuestions/csv/200-csv/47.csv\n",
      "processing file: WikiTableQuestions/csv/200-csv/48.csv\n",
      "processing file: WikiTableQuestions/csv/200-csv/7.csv\n",
      "processing file: WikiTableQuestions/csv/200-csv/8.csv\n",
      "processing file: WikiTableQuestions/csv/200-csv/9.csv\n"
     ]
    }
   ],
   "source": [
    "import pandas as pd\n",
    "from pathlib import Path\n",
    "\n",
    "data_dir = Path(\"./WikiTableQuestions/csv/200-csv\")\n",
    "csv_files = sorted([f for f in data_dir.glob(\"*.csv\")])\n",
    "dfs = []\n",
    "for csv_file in csv_files:\n",
    "    print(f\"processing file: {csv_file}\")\n",
    "    try:\n",
    "        df = pd.read_csv(csv_file)\n",
    "        dfs.append(df)\n",
    "    except Exception as e:\n",
    "        print(f\"Error parsing {csv_file}: {str(e)}\")"
   ]
  },
  {
   "cell_type": "markdown",
   "metadata": {},
   "source": [
    "## Extract Table Name and Summary from each Table"
   ]
  },
  {
   "cell_type": "code",
   "execution_count": 5,
   "metadata": {},
   "outputs": [
    {
     "name": "stderr",
     "output_type": "stream",
     "text": [
      "WARNING: All log messages before absl::InitializeLog() is called are written to STDERR\n",
      "I0000 00:00:1737948939.345619 2580638 fork_posix.cc:77] Other threads are currently calling into gRPC, skipping fork() handlers\n"
     ]
    },
    {
     "name": "stdout",
     "output_type": "stream",
     "text": [
      "mkdir: WikiTableQuestions_TableInfo: File exists\n"
     ]
    }
   ],
   "source": [
    "tableinfo_dir = \"WikiTableQuestions_TableInfo\"\n",
    "!mkdir {tableinfo_dir}\n"
   ]
  },
  {
   "cell_type": "code",
   "execution_count": 6,
   "metadata": {},
   "outputs": [],
   "source": [
    "from llama_index.core.program import LLMTextCompletionProgram\n",
    "from llama_index.core.bridge.pydantic import BaseModel, Field\n",
    "from llama_index.llms.openai import OpenAI\n",
    "\n",
    "\n",
    "class TableInfo(BaseModel):\n",
    "    \"\"\"Information regarding a structured table.\"\"\"\n",
    "\n",
    "    table_name: str = Field(\n",
    "        ..., description=\"table name (must be underscores and NO spaces)\"\n",
    "    )\n",
    "    table_summary: str = Field(\n",
    "        ..., description=\"short, concise summary/caption of the table\"\n",
    "    )\n",
    "\n",
    "\n",
    "prompt_str = \"\"\"\\\n",
    "Give me a summary of the table with the following JSON format.\n",
    "\n",
    "- The table name must be unique to the table and describe it while being concise. \n",
    "- Do NOT output a generic table name (e.g. table, my_table).\n",
    "\n",
    "Do NOT make the table name one of the following: {exclude_table_name_list}\n",
    "\n",
    "Table:\n",
    "{table_str}\n",
    "\n",
    "Summary: \"\"\"\n",
    "\n",
    "program = LLMTextCompletionProgram.from_defaults(\n",
    "    output_cls=TableInfo,\n",
    "    llm=OpenAI(model=\"gpt-3.5-turbo\",api_key=\"sk-S1h0hPEa3Qa5pCAJHNf6sd9EHxjGSlzd99xOgE4GYRpdBxek\",api_base=\"https://api.chatanywhere.tech/v1\"),\n",
    "    prompt_template_str=prompt_str,\n",
    ")"
   ]
  },
  {
   "cell_type": "code",
   "execution_count": 7,
   "metadata": {},
   "outputs": [
    {
     "name": "stderr",
     "output_type": "stream",
     "text": [
      "/var/folders/7m/hvn7fgns7mg_16dpc1v14wmc0000gn/T/ipykernel_96012/2332672304.py:11: PydanticDeprecatedSince20: The `parse_file` method is deprecated; load the data from file, then if your data is JSON use `model_validate_json`, otherwise `model_validate` instead. Deprecated in Pydantic V2.0 to be removed in V3.0. See Pydantic V2 Migration Guide at https://errors.pydantic.dev/2.10/migration/\n",
      "  return TableInfo.parse_file(path)\n"
     ]
    }
   ],
   "source": [
    "import json\n",
    "\n",
    "\n",
    "def _get_tableinfo_with_index(idx: int) -> str:\n",
    "    results_gen = Path(tableinfo_dir).glob(f\"{idx}_*\")\n",
    "    results_list = list(results_gen)\n",
    "    if len(results_list) == 0:\n",
    "        return None\n",
    "    elif len(results_list) == 1:\n",
    "        path = results_list[0]\n",
    "        return TableInfo.parse_file(path)\n",
    "    else:\n",
    "        raise ValueError(\n",
    "            f\"More than one file matching index: {list(results_gen)}\"\n",
    "        )\n",
    "\n",
    "\n",
    "table_names = set()\n",
    "table_infos = []\n",
    "for idx, df in enumerate(dfs):\n",
    "    table_info = _get_tableinfo_with_index(idx)\n",
    "    if table_info:\n",
    "        table_infos.append(table_info)\n",
    "    else:\n",
    "        while True:\n",
    "            df_str = df.head(10).to_csv()\n",
    "            table_info = program(\n",
    "                table_str=df_str,\n",
    "                exclude_table_name_list=str(list(table_names)),\n",
    "            )\n",
    "            table_name = table_info.table_name\n",
    "            print(f\"Processed table: {table_name}\")\n",
    "            if table_name not in table_names:\n",
    "                table_names.add(table_name)\n",
    "                break\n",
    "            else:\n",
    "                # try again\n",
    "                print(f\"Table name {table_name} already exists, trying again.\")\n",
    "                pass\n",
    "\n",
    "        out_file = f\"{tableinfo_dir}/{idx}_{table_name}.json\"\n",
    "        json.dump(table_info.dict(), open(out_file, \"w\"))\n",
    "    table_infos.append(table_info)"
   ]
  },
  {
   "cell_type": "markdown",
   "metadata": {},
   "source": [
    "## Put Data in SQL Database"
   ]
  },
  {
   "cell_type": "code",
   "execution_count": 8,
   "metadata": {},
   "outputs": [
    {
     "name": "stderr",
     "output_type": "stream",
     "text": [
      "/var/folders/7m/hvn7fgns7mg_16dpc1v14wmc0000gn/T/ipykernel_96012/2332672304.py:11: PydanticDeprecatedSince20: The `parse_file` method is deprecated; load the data from file, then if your data is JSON use `model_validate_json`, otherwise `model_validate` instead. Deprecated in Pydantic V2.0 to be removed in V3.0. See Pydantic V2 Migration Guide at https://errors.pydantic.dev/2.10/migration/\n",
      "  return TableInfo.parse_file(path)\n",
      "/var/folders/7m/hvn7fgns7mg_16dpc1v14wmc0000gn/T/ipykernel_96012/2332672304.py:11: PydanticDeprecatedSince20: The `parse_file` method is deprecated; load the data from file, then if your data is JSON use `model_validate_json`, otherwise `model_validate` instead. Deprecated in Pydantic V2.0 to be removed in V3.0. See Pydantic V2 Migration Guide at https://errors.pydantic.dev/2.10/migration/\n",
      "  return TableInfo.parse_file(path)\n",
      "/var/folders/7m/hvn7fgns7mg_16dpc1v14wmc0000gn/T/ipykernel_96012/2332672304.py:11: PydanticDeprecatedSince20: The `parse_file` method is deprecated; load the data from file, then if your data is JSON use `model_validate_json`, otherwise `model_validate` instead. Deprecated in Pydantic V2.0 to be removed in V3.0. See Pydantic V2 Migration Guide at https://errors.pydantic.dev/2.10/migration/\n",
      "  return TableInfo.parse_file(path)\n",
      "/var/folders/7m/hvn7fgns7mg_16dpc1v14wmc0000gn/T/ipykernel_96012/2332672304.py:11: PydanticDeprecatedSince20: The `parse_file` method is deprecated; load the data from file, then if your data is JSON use `model_validate_json`, otherwise `model_validate` instead. Deprecated in Pydantic V2.0 to be removed in V3.0. See Pydantic V2 Migration Guide at https://errors.pydantic.dev/2.10/migration/\n",
      "  return TableInfo.parse_file(path)\n",
      "/var/folders/7m/hvn7fgns7mg_16dpc1v14wmc0000gn/T/ipykernel_96012/2332672304.py:11: PydanticDeprecatedSince20: The `parse_file` method is deprecated; load the data from file, then if your data is JSON use `model_validate_json`, otherwise `model_validate` instead. Deprecated in Pydantic V2.0 to be removed in V3.0. See Pydantic V2 Migration Guide at https://errors.pydantic.dev/2.10/migration/\n",
      "  return TableInfo.parse_file(path)\n",
      "/var/folders/7m/hvn7fgns7mg_16dpc1v14wmc0000gn/T/ipykernel_96012/2332672304.py:11: PydanticDeprecatedSince20: The `parse_file` method is deprecated; load the data from file, then if your data is JSON use `model_validate_json`, otherwise `model_validate` instead. Deprecated in Pydantic V2.0 to be removed in V3.0. See Pydantic V2 Migration Guide at https://errors.pydantic.dev/2.10/migration/\n",
      "  return TableInfo.parse_file(path)\n",
      "/var/folders/7m/hvn7fgns7mg_16dpc1v14wmc0000gn/T/ipykernel_96012/2332672304.py:11: PydanticDeprecatedSince20: The `parse_file` method is deprecated; load the data from file, then if your data is JSON use `model_validate_json`, otherwise `model_validate` instead. Deprecated in Pydantic V2.0 to be removed in V3.0. See Pydantic V2 Migration Guide at https://errors.pydantic.dev/2.10/migration/\n",
      "  return TableInfo.parse_file(path)\n",
      "/var/folders/7m/hvn7fgns7mg_16dpc1v14wmc0000gn/T/ipykernel_96012/2332672304.py:11: PydanticDeprecatedSince20: The `parse_file` method is deprecated; load the data from file, then if your data is JSON use `model_validate_json`, otherwise `model_validate` instead. Deprecated in Pydantic V2.0 to be removed in V3.0. See Pydantic V2 Migration Guide at https://errors.pydantic.dev/2.10/migration/\n",
      "  return TableInfo.parse_file(path)\n",
      "/var/folders/7m/hvn7fgns7mg_16dpc1v14wmc0000gn/T/ipykernel_96012/2332672304.py:11: PydanticDeprecatedSince20: The `parse_file` method is deprecated; load the data from file, then if your data is JSON use `model_validate_json`, otherwise `model_validate` instead. Deprecated in Pydantic V2.0 to be removed in V3.0. See Pydantic V2 Migration Guide at https://errors.pydantic.dev/2.10/migration/\n",
      "  return TableInfo.parse_file(path)\n",
      "/var/folders/7m/hvn7fgns7mg_16dpc1v14wmc0000gn/T/ipykernel_96012/2332672304.py:11: PydanticDeprecatedSince20: The `parse_file` method is deprecated; load the data from file, then if your data is JSON use `model_validate_json`, otherwise `model_validate` instead. Deprecated in Pydantic V2.0 to be removed in V3.0. See Pydantic V2 Migration Guide at https://errors.pydantic.dev/2.10/migration/\n",
      "  return TableInfo.parse_file(path)\n",
      "/var/folders/7m/hvn7fgns7mg_16dpc1v14wmc0000gn/T/ipykernel_96012/2332672304.py:11: PydanticDeprecatedSince20: The `parse_file` method is deprecated; load the data from file, then if your data is JSON use `model_validate_json`, otherwise `model_validate` instead. Deprecated in Pydantic V2.0 to be removed in V3.0. See Pydantic V2 Migration Guide at https://errors.pydantic.dev/2.10/migration/\n",
      "  return TableInfo.parse_file(path)\n",
      "/var/folders/7m/hvn7fgns7mg_16dpc1v14wmc0000gn/T/ipykernel_96012/2332672304.py:11: PydanticDeprecatedSince20: The `parse_file` method is deprecated; load the data from file, then if your data is JSON use `model_validate_json`, otherwise `model_validate` instead. Deprecated in Pydantic V2.0 to be removed in V3.0. See Pydantic V2 Migration Guide at https://errors.pydantic.dev/2.10/migration/\n",
      "  return TableInfo.parse_file(path)\n"
     ]
    },
    {
     "name": "stdout",
     "output_type": "stream",
     "text": [
      "Creating table: progression_of_renaissance_albums\n",
      "Creating table: filmography_of_diane_and_others\n",
      "Creating table: annual_deaths_and_accidents_statistics\n",
      "Creating table: academy_and_bafta_awards_1972\n",
      "Creating table: theatrical_awards_nominations_and_wins\n",
      "Creating table: bad_boy_artists_album_release_years\n",
      "Creating table: south_dakota_radio_stations\n",
      "Creating table: missing_persons_cases_1982\n",
      "Creating table: mick_jagger_single_chart_performance\n",
      "Creating table: kodachrome_film_types_and_dates\n",
      "Creating table: bbc_radio_services_costs_2012_2013\n",
      "Creating table: french_aerodromes_and_airports_usage\n"
     ]
    },
    {
     "name": "stderr",
     "output_type": "stream",
     "text": [
      "/var/folders/7m/hvn7fgns7mg_16dpc1v14wmc0000gn/T/ipykernel_96012/2332672304.py:11: PydanticDeprecatedSince20: The `parse_file` method is deprecated; load the data from file, then if your data is JSON use `model_validate_json`, otherwise `model_validate` instead. Deprecated in Pydantic V2.0 to be removed in V3.0. See Pydantic V2 Migration Guide at https://errors.pydantic.dev/2.10/migration/\n",
      "  return TableInfo.parse_file(path)\n",
      "/var/folders/7m/hvn7fgns7mg_16dpc1v14wmc0000gn/T/ipykernel_96012/2332672304.py:11: PydanticDeprecatedSince20: The `parse_file` method is deprecated; load the data from file, then if your data is JSON use `model_validate_json`, otherwise `model_validate` instead. Deprecated in Pydantic V2.0 to be removed in V3.0. See Pydantic V2 Migration Guide at https://errors.pydantic.dev/2.10/migration/\n",
      "  return TableInfo.parse_file(path)\n"
     ]
    },
    {
     "name": "stdout",
     "output_type": "stream",
     "text": [
      "Creating table: voter_registration_statistics_by_party\n",
      "Creating table: norwegian_and_england_club_performance_statistics\n",
      "Creating table: triple_crown_winners_history\n",
      "Creating table: grammy_awards_performance_by_artist\n",
      "Creating table: boxing_fight_results_history\n",
      "Creating table: historical_college_football_records\n",
      "Creating table: yamato_prefecture_population_density\n",
      "Creating table: voter_registration_statistics_by_party_type\n",
      "Creating table: best_actress_awards_nominations_and_wins\n",
      "Creating table: uk_ministers_and_titles_history\n",
      "Creating table: municipalities_and_seat_assignments\n",
      "Creating table: euro_2020_group_stage_team_performance\n",
      "Creating table: binary_encoding_implied_probabilities\n",
      "Creating table: monthly_climate_statistics\n",
      "Creating table: italian_government_terms_of_office\n",
      "Creating table: new_mexico_government_officials\n",
      "Creating table: monthly_climate_statistics_overview\n",
      "Creating table: rainfall_events_timeline\n",
      "Creating table: monthly_temperature_and_precipitation_statistics\n",
      "Creating table: multilingual_greetings_and_phrases\n",
      "Creating table: ohio_private_schools_application_info\n",
      "Creating table: cancer_related_genetic_factors_and_functions\n"
     ]
    },
    {
     "name": "stderr",
     "output_type": "stream",
     "text": [
      "/var/folders/7m/hvn7fgns7mg_16dpc1v14wmc0000gn/T/ipykernel_96012/2332672304.py:11: PydanticDeprecatedSince20: The `parse_file` method is deprecated; load the data from file, then if your data is JSON use `model_validate_json`, otherwise `model_validate` instead. Deprecated in Pydantic V2.0 to be removed in V3.0. See Pydantic V2 Migration Guide at https://errors.pydantic.dev/2.10/migration/\n",
      "  return TableInfo.parse_file(path)\n",
      "/var/folders/7m/hvn7fgns7mg_16dpc1v14wmc0000gn/T/ipykernel_96012/2332672304.py:11: PydanticDeprecatedSince20: The `parse_file` method is deprecated; load the data from file, then if your data is JSON use `model_validate_json`, otherwise `model_validate` instead. Deprecated in Pydantic V2.0 to be removed in V3.0. See Pydantic V2 Migration Guide at https://errors.pydantic.dev/2.10/migration/\n",
      "  return TableInfo.parse_file(path)\n",
      "/var/folders/7m/hvn7fgns7mg_16dpc1v14wmc0000gn/T/ipykernel_96012/2332672304.py:11: PydanticDeprecatedSince20: The `parse_file` method is deprecated; load the data from file, then if your data is JSON use `model_validate_json`, otherwise `model_validate` instead. Deprecated in Pydantic V2.0 to be removed in V3.0. See Pydantic V2 Migration Guide at https://errors.pydantic.dev/2.10/migration/\n",
      "  return TableInfo.parse_file(path)\n",
      "/var/folders/7m/hvn7fgns7mg_16dpc1v14wmc0000gn/T/ipykernel_96012/2332672304.py:11: PydanticDeprecatedSince20: The `parse_file` method is deprecated; load the data from file, then if your data is JSON use `model_validate_json`, otherwise `model_validate` instead. Deprecated in Pydantic V2.0 to be removed in V3.0. See Pydantic V2 Migration Guide at https://errors.pydantic.dev/2.10/migration/\n",
      "  return TableInfo.parse_file(path)\n",
      "/var/folders/7m/hvn7fgns7mg_16dpc1v14wmc0000gn/T/ipykernel_96012/2332672304.py:11: PydanticDeprecatedSince20: The `parse_file` method is deprecated; load the data from file, then if your data is JSON use `model_validate_json`, otherwise `model_validate` instead. Deprecated in Pydantic V2.0 to be removed in V3.0. See Pydantic V2 Migration Guide at https://errors.pydantic.dev/2.10/migration/\n",
      "  return TableInfo.parse_file(path)\n",
      "/var/folders/7m/hvn7fgns7mg_16dpc1v14wmc0000gn/T/ipykernel_96012/2332672304.py:11: PydanticDeprecatedSince20: The `parse_file` method is deprecated; load the data from file, then if your data is JSON use `model_validate_json`, otherwise `model_validate` instead. Deprecated in Pydantic V2.0 to be removed in V3.0. See Pydantic V2 Migration Guide at https://errors.pydantic.dev/2.10/migration/\n",
      "  return TableInfo.parse_file(path)\n",
      "/var/folders/7m/hvn7fgns7mg_16dpc1v14wmc0000gn/T/ipykernel_96012/2332672304.py:11: PydanticDeprecatedSince20: The `parse_file` method is deprecated; load the data from file, then if your data is JSON use `model_validate_json`, otherwise `model_validate` instead. Deprecated in Pydantic V2.0 to be removed in V3.0. See Pydantic V2 Migration Guide at https://errors.pydantic.dev/2.10/migration/\n",
      "  return TableInfo.parse_file(path)\n",
      "/var/folders/7m/hvn7fgns7mg_16dpc1v14wmc0000gn/T/ipykernel_96012/2332672304.py:11: PydanticDeprecatedSince20: The `parse_file` method is deprecated; load the data from file, then if your data is JSON use `model_validate_json`, otherwise `model_validate` instead. Deprecated in Pydantic V2.0 to be removed in V3.0. See Pydantic V2 Migration Guide at https://errors.pydantic.dev/2.10/migration/\n",
      "  return TableInfo.parse_file(path)\n",
      "/var/folders/7m/hvn7fgns7mg_16dpc1v14wmc0000gn/T/ipykernel_96012/2332672304.py:11: PydanticDeprecatedSince20: The `parse_file` method is deprecated; load the data from file, then if your data is JSON use `model_validate_json`, otherwise `model_validate` instead. Deprecated in Pydantic V2.0 to be removed in V3.0. See Pydantic V2 Migration Guide at https://errors.pydantic.dev/2.10/migration/\n",
      "  return TableInfo.parse_file(path)\n",
      "/var/folders/7m/hvn7fgns7mg_16dpc1v14wmc0000gn/T/ipykernel_96012/2332672304.py:11: PydanticDeprecatedSince20: The `parse_file` method is deprecated; load the data from file, then if your data is JSON use `model_validate_json`, otherwise `model_validate` instead. Deprecated in Pydantic V2.0 to be removed in V3.0. See Pydantic V2 Migration Guide at https://errors.pydantic.dev/2.10/migration/\n",
      "  return TableInfo.parse_file(path)\n",
      "/var/folders/7m/hvn7fgns7mg_16dpc1v14wmc0000gn/T/ipykernel_96012/2332672304.py:11: PydanticDeprecatedSince20: The `parse_file` method is deprecated; load the data from file, then if your data is JSON use `model_validate_json`, otherwise `model_validate` instead. Deprecated in Pydantic V2.0 to be removed in V3.0. See Pydantic V2 Migration Guide at https://errors.pydantic.dev/2.10/migration/\n",
      "  return TableInfo.parse_file(path)\n",
      "/var/folders/7m/hvn7fgns7mg_16dpc1v14wmc0000gn/T/ipykernel_96012/2332672304.py:11: PydanticDeprecatedSince20: The `parse_file` method is deprecated; load the data from file, then if your data is JSON use `model_validate_json`, otherwise `model_validate` instead. Deprecated in Pydantic V2.0 to be removed in V3.0. See Pydantic V2 Migration Guide at https://errors.pydantic.dev/2.10/migration/\n",
      "  return TableInfo.parse_file(path)\n",
      "/var/folders/7m/hvn7fgns7mg_16dpc1v14wmc0000gn/T/ipykernel_96012/2332672304.py:11: PydanticDeprecatedSince20: The `parse_file` method is deprecated; load the data from file, then if your data is JSON use `model_validate_json`, otherwise `model_validate` instead. Deprecated in Pydantic V2.0 to be removed in V3.0. See Pydantic V2 Migration Guide at https://errors.pydantic.dev/2.10/migration/\n",
      "  return TableInfo.parse_file(path)\n",
      "/var/folders/7m/hvn7fgns7mg_16dpc1v14wmc0000gn/T/ipykernel_96012/2332672304.py:11: PydanticDeprecatedSince20: The `parse_file` method is deprecated; load the data from file, then if your data is JSON use `model_validate_json`, otherwise `model_validate` instead. Deprecated in Pydantic V2.0 to be removed in V3.0. See Pydantic V2 Migration Guide at https://errors.pydantic.dev/2.10/migration/\n",
      "  return TableInfo.parse_file(path)\n",
      "/var/folders/7m/hvn7fgns7mg_16dpc1v14wmc0000gn/T/ipykernel_96012/2332672304.py:11: PydanticDeprecatedSince20: The `parse_file` method is deprecated; load the data from file, then if your data is JSON use `model_validate_json`, otherwise `model_validate` instead. Deprecated in Pydantic V2.0 to be removed in V3.0. See Pydantic V2 Migration Guide at https://errors.pydantic.dev/2.10/migration/\n",
      "  return TableInfo.parse_file(path)\n",
      "/var/folders/7m/hvn7fgns7mg_16dpc1v14wmc0000gn/T/ipykernel_96012/2332672304.py:11: PydanticDeprecatedSince20: The `parse_file` method is deprecated; load the data from file, then if your data is JSON use `model_validate_json`, otherwise `model_validate` instead. Deprecated in Pydantic V2.0 to be removed in V3.0. See Pydantic V2 Migration Guide at https://errors.pydantic.dev/2.10/migration/\n",
      "  return TableInfo.parse_file(path)\n",
      "/var/folders/7m/hvn7fgns7mg_16dpc1v14wmc0000gn/T/ipykernel_96012/2332672304.py:11: PydanticDeprecatedSince20: The `parse_file` method is deprecated; load the data from file, then if your data is JSON use `model_validate_json`, otherwise `model_validate` instead. Deprecated in Pydantic V2.0 to be removed in V3.0. See Pydantic V2 Migration Guide at https://errors.pydantic.dev/2.10/migration/\n",
      "  return TableInfo.parse_file(path)\n",
      "/var/folders/7m/hvn7fgns7mg_16dpc1v14wmc0000gn/T/ipykernel_96012/2332672304.py:11: PydanticDeprecatedSince20: The `parse_file` method is deprecated; load the data from file, then if your data is JSON use `model_validate_json`, otherwise `model_validate` instead. Deprecated in Pydantic V2.0 to be removed in V3.0. See Pydantic V2 Migration Guide at https://errors.pydantic.dev/2.10/migration/\n",
      "  return TableInfo.parse_file(path)\n",
      "/var/folders/7m/hvn7fgns7mg_16dpc1v14wmc0000gn/T/ipykernel_96012/2332672304.py:11: PydanticDeprecatedSince20: The `parse_file` method is deprecated; load the data from file, then if your data is JSON use `model_validate_json`, otherwise `model_validate` instead. Deprecated in Pydantic V2.0 to be removed in V3.0. See Pydantic V2 Migration Guide at https://errors.pydantic.dev/2.10/migration/\n",
      "  return TableInfo.parse_file(path)\n",
      "/var/folders/7m/hvn7fgns7mg_16dpc1v14wmc0000gn/T/ipykernel_96012/2332672304.py:11: PydanticDeprecatedSince20: The `parse_file` method is deprecated; load the data from file, then if your data is JSON use `model_validate_json`, otherwise `model_validate` instead. Deprecated in Pydantic V2.0 to be removed in V3.0. See Pydantic V2 Migration Guide at https://errors.pydantic.dev/2.10/migration/\n",
      "  return TableInfo.parse_file(path)\n"
     ]
    }
   ],
   "source": [
    "# put data into sqlite db\n",
    "from sqlalchemy import (\n",
    "    create_engine,\n",
    "    MetaData,\n",
    "    Table,\n",
    "    Column,\n",
    "    String,\n",
    "    Integer,\n",
    ")\n",
    "import re\n",
    "\n",
    "\n",
    "# Function to create a sanitized column name\n",
    "def sanitize_column_name(col_name):\n",
    "    # Remove special characters and replace spaces with underscores\n",
    "    return re.sub(r\"\\W+\", \"_\", col_name)\n",
    "\n",
    "\n",
    "# Function to create a table from a DataFrame using SQLAlchemy\n",
    "def create_table_from_dataframe(\n",
    "    df: pd.DataFrame, table_name: str, engine, metadata_obj\n",
    "):\n",
    "    # Sanitize column names\n",
    "    sanitized_columns = {col: sanitize_column_name(col) for col in df.columns}\n",
    "    df = df.rename(columns=sanitized_columns)\n",
    "\n",
    "    # Dynamically create columns based on DataFrame columns and data types\n",
    "    columns = [\n",
    "        Column(col, String if dtype == \"object\" else Integer)\n",
    "        for col, dtype in zip(df.columns, df.dtypes)\n",
    "    ]\n",
    "\n",
    "    # Create a table with the defined columns\n",
    "    table = Table(table_name, metadata_obj, *columns)\n",
    "\n",
    "    # Create the table in the database\n",
    "    metadata_obj.create_all(engine)\n",
    "\n",
    "    # Insert data from DataFrame into the table\n",
    "    with engine.connect() as conn:\n",
    "        for _, row in df.iterrows():\n",
    "            insert_stmt = table.insert().values(**row.to_dict())\n",
    "            conn.execute(insert_stmt)\n",
    "        conn.commit()\n",
    "\n",
    "\n",
    "engine = create_engine(\"sqlite:///:memory:\")\n",
    "metadata_obj = MetaData()\n",
    "for idx, df in enumerate(dfs):\n",
    "    tableinfo = _get_tableinfo_with_index(idx)\n",
    "    print(f\"Creating table: {tableinfo.table_name}\")\n",
    "    create_table_from_dataframe(df, tableinfo.table_name, engine, metadata_obj)"
   ]
  },
  {
   "cell_type": "code",
   "execution_count": 9,
   "metadata": {},
   "outputs": [
    {
     "name": "stderr",
     "output_type": "stream",
     "text": [
      "Existing running Phoenix instance detected! Shutting it down and starting a new instance...\n"
     ]
    },
    {
     "name": "stdout",
     "output_type": "stream",
     "text": [
      "🌍 To view the Phoenix app in your browser, visit http://localhost:6006/\n",
      "📖 For more information on how to use Phoenix, check out https://docs.arize.com/phoenix\n"
     ]
    }
   ],
   "source": [
    "# setup Arize Phoenix for logging/observability\n",
    "import phoenix as px\n",
    "import llama_index.core\n",
    "\n",
    "px.launch_app()\n",
    "llama_index.core.set_global_handler(\"arize_phoenix\")"
   ]
  },
  {
   "cell_type": "markdown",
   "metadata": {},
   "source": [
    "# Advanced Capability 1: Text-to-SQL with Query-Time Table Retrieval."
   ]
  },
  {
   "cell_type": "markdown",
   "metadata": {},
   "source": [
    "## Define Modules"
   ]
  },
  {
   "cell_type": "markdown",
   "metadata": {},
   "source": [
    "#### Object index, retriever, SQLDatabase"
   ]
  },
  {
   "cell_type": "code",
   "execution_count": 10,
   "metadata": {},
   "outputs": [],
   "source": [
    "from llama_index.core.objects import (\n",
    "    SQLTableNodeMapping,\n",
    "    ObjectIndex,\n",
    "    SQLTableSchema,\n",
    ")\n",
    "from llama_index.core import SQLDatabase, VectorStoreIndex\n",
    "\n",
    "sql_database = SQLDatabase(engine)\n",
    "\n",
    "table_node_mapping = SQLTableNodeMapping(sql_database)\n",
    "table_schema_objs = [\n",
    "    SQLTableSchema(table_name=t.table_name, context_str=t.table_summary)\n",
    "    for t in table_infos\n",
    "]  # add a SQLTableSchema for each table\n",
    "\n",
    "obj_index = ObjectIndex.from_objects(\n",
    "    table_schema_objs,\n",
    "    table_node_mapping,\n",
    "    VectorStoreIndex,\n",
    ")\n",
    "obj_retriever = obj_index.as_retriever(similarity_top_k=3)"
   ]
  },
  {
   "cell_type": "markdown",
   "metadata": {},
   "source": [
    "#### SQLRetriever + Table Parser"
   ]
  },
  {
   "cell_type": "code",
   "execution_count": 11,
   "metadata": {},
   "outputs": [],
   "source": [
    "from llama_index.core.retrievers import SQLRetriever\n",
    "from typing import List\n",
    "from llama_index.core.query_pipeline import FnComponent\n",
    "\n",
    "sql_retriever = SQLRetriever(sql_database)\n",
    "\n",
    "\n",
    "def get_table_context_str(table_schema_objs: List[SQLTableSchema]):\n",
    "    \"\"\"Get table context string.\"\"\"\n",
    "    context_strs = []\n",
    "    for table_schema_obj in table_schema_objs:\n",
    "        table_info = sql_database.get_single_table_info(\n",
    "            table_schema_obj.table_name\n",
    "        )\n",
    "        if table_schema_obj.context_str:\n",
    "            table_opt_context = \" The table description is: \"\n",
    "            table_opt_context += table_schema_obj.context_str\n",
    "            table_info += table_opt_context\n",
    "\n",
    "        context_strs.append(table_info)\n",
    "    return \"\\n\\n\".join(context_strs)\n",
    "\n",
    "\n",
    "table_parser_component = FnComponent(fn=get_table_context_str)"
   ]
  },
  {
   "cell_type": "markdown",
   "metadata": {},
   "source": [
    "#### Text-to-SQL Prompt + Output Parser"
   ]
  },
  {
   "cell_type": "code",
   "execution_count": 12,
   "metadata": {},
   "outputs": [
    {
     "name": "stdout",
     "output_type": "stream",
     "text": [
      "Given an input question, first create a syntactically correct {dialect} query to run, then look at the results of the query and return the answer. You can order the results by a relevant column to return the most interesting examples in the database.\n",
      "\n",
      "Never query for all the columns from a specific table, only ask for a few relevant columns given the question.\n",
      "\n",
      "Pay attention to use only the column names that you can see in the schema description. Be careful to not query for columns that do not exist. Pay attention to which column is in which table. Also, qualify column names with the table name when needed. You are required to use the following format, each taking one line:\n",
      "\n",
      "Question: Question here\n",
      "SQLQuery: SQL Query to run\n",
      "SQLResult: Result of the SQLQuery\n",
      "Answer: Final answer here\n",
      "\n",
      "Only use tables listed below.\n",
      "{schema}\n",
      "\n",
      "Question: {query_str}\n",
      "SQLQuery: \n"
     ]
    }
   ],
   "source": [
    "from llama_index.core.prompts.default_prompts import DEFAULT_TEXT_TO_SQL_PROMPT\n",
    "from llama_index.core import PromptTemplate\n",
    "from llama_index.core.query_pipeline import FnComponent\n",
    "from llama_index.core.llms import ChatResponse\n",
    "\n",
    "\n",
    "def parse_response_to_sql(response: ChatResponse) -> str:\n",
    "    \"\"\"Parse response to SQL.\"\"\"\n",
    "    response = response.message.content\n",
    "    sql_query_start = response.find(\"SQLQuery:\")\n",
    "    if sql_query_start != -1:\n",
    "        response = response[sql_query_start:]\n",
    "        # TODO: move to removeprefix after Python 3.9+\n",
    "        if response.startswith(\"SQLQuery:\"):\n",
    "            response = response[len(\"SQLQuery:\") :]\n",
    "    sql_result_start = response.find(\"SQLResult:\")\n",
    "    if sql_result_start != -1:\n",
    "        response = response[:sql_result_start]\n",
    "    return response.strip().strip(\"```\").strip()\n",
    "\n",
    "\n",
    "sql_parser_component = FnComponent(fn=parse_response_to_sql)\n",
    "\n",
    "text2sql_prompt = DEFAULT_TEXT_TO_SQL_PROMPT.partial_format(\n",
    "    dialect=engine.dialect.name\n",
    ")\n",
    "print(text2sql_prompt.template)"
   ]
  },
  {
   "cell_type": "markdown",
   "metadata": {},
   "source": [
    "#### Response Synthesis Prompt"
   ]
  },
  {
   "cell_type": "code",
   "execution_count": 13,
   "metadata": {},
   "outputs": [],
   "source": [
    "response_synthesis_prompt_str = (\n",
    "    \"Given an input question, synthesize a response from the query results.\\n\"\n",
    "    \"Query: {query_str}\\n\"\n",
    "    \"SQL: {sql_query}\\n\"\n",
    "    \"SQL Response: {context_str}\\n\"\n",
    "    \"Response: \"\n",
    ")\n",
    "response_synthesis_prompt = PromptTemplate(\n",
    "    response_synthesis_prompt_str,\n",
    ")"
   ]
  },
  {
   "cell_type": "code",
   "execution_count": 14,
   "metadata": {},
   "outputs": [],
   "source": [
    "llm = OpenAI(model=\"gpt-3.5-turbo\",api_key=\"sk-S1h0hPEa3Qa5pCAJHNf6sd9EHxjGSlzd99xOgE4GYRpdBxek\",api_base=\"https://api.chatanywhere.tech/v1\")"
   ]
  },
  {
   "cell_type": "markdown",
   "metadata": {},
   "source": [
    "## Define Query Pipeline"
   ]
  },
  {
   "cell_type": "code",
   "execution_count": 15,
   "metadata": {},
   "outputs": [],
   "source": [
    "from llama_index.core.query_pipeline import (\n",
    "    QueryPipeline as QP,\n",
    "    Link,\n",
    "    InputComponent,\n",
    "    CustomQueryComponent,\n",
    ")\n",
    "\n",
    "qp = QP(\n",
    "    modules={\n",
    "        \"input\": InputComponent(),\n",
    "        \"table_retriever\": obj_retriever,\n",
    "        \"table_output_parser\": table_parser_component,\n",
    "        \"text2sql_prompt\": text2sql_prompt,\n",
    "        \"text2sql_llm\": llm,\n",
    "        \"sql_output_parser\": sql_parser_component,\n",
    "        \"sql_retriever\": sql_retriever,\n",
    "        \"response_synthesis_prompt\": response_synthesis_prompt,\n",
    "        \"response_synthesis_llm\": llm,\n",
    "    },\n",
    "    verbose=True,\n",
    ")"
   ]
  },
  {
   "cell_type": "code",
   "execution_count": 16,
   "metadata": {},
   "outputs": [],
   "source": [
    "qp.add_chain([\"input\", \"table_retriever\", \"table_output_parser\"])\n",
    "qp.add_link(\"input\", \"text2sql_prompt\", dest_key=\"query_str\")\n",
    "qp.add_link(\"table_output_parser\", \"text2sql_prompt\", dest_key=\"schema\")\n",
    "qp.add_chain(\n",
    "    [\"text2sql_prompt\", \"text2sql_llm\", \"sql_output_parser\", \"sql_retriever\"]\n",
    ")\n",
    "qp.add_link(\n",
    "    \"sql_output_parser\", \"response_synthesis_prompt\", dest_key=\"sql_query\"\n",
    ")\n",
    "qp.add_link(\n",
    "    \"sql_retriever\", \"response_synthesis_prompt\", dest_key=\"context_str\"\n",
    ")\n",
    "qp.add_link(\"input\", \"response_synthesis_prompt\", dest_key=\"query_str\")\n",
    "qp.add_link(\"response_synthesis_prompt\", \"response_synthesis_llm\")"
   ]
  },
  {
   "cell_type": "markdown",
   "metadata": {},
   "source": [
    "## Visualize Query Pipeline"
   ]
  },
  {
   "cell_type": "code",
   "execution_count": 17,
   "metadata": {},
   "outputs": [],
   "source": [
    "from pyvis.network import Network\n",
    "\n",
    "net = Network(notebook=True, cdn_resources=\"in_line\", directed=True)\n",
    "net.from_nx(qp.dag)"
   ]
  },
  {
   "cell_type": "code",
   "execution_count": 18,
   "metadata": {},
   "outputs": [],
   "source": [
    "# Save the network as \"text2sql_dag.html\"\n",
    "net.write_html(\"text2sql_dag.html\")"
   ]
  },
  {
   "cell_type": "markdown",
   "metadata": {},
   "source": [
    "## Run Some Queries!"
   ]
  },
  {
   "cell_type": "code",
   "execution_count": 20,
   "metadata": {},
   "outputs": [
    {
     "name": "stdout",
     "output_type": "stream",
     "text": [
      "\u001b[1;3;38;2;155;135;227m> Running module input with input: \n",
      "query: What was the year that The Notorious B.I.G was signed to Bad Boy?\n",
      "\n",
      "\u001b[0m\u001b[1;3;38;2;155;135;227m> Running module table_retriever with input: \n",
      "input: What was the year that The Notorious B.I.G was signed to Bad Boy?\n",
      "\n",
      "\u001b[0m\u001b[1;3;38;2;155;135;227m> Running module table_output_parser with input: \n",
      "table_schema_objs: [SQLTableSchema(table_name='bad_boy_artists_album_release_years', context_str='List of artists signed to Bad Boy Records with their signing year and number of albums released.'), SQLTableSchema(table_...\n",
      "\n",
      "\u001b[0m\u001b[1;3;38;2;155;135;227m> Running module text2sql_prompt with input: \n",
      "query_str: What was the year that The Notorious B.I.G was signed to Bad Boy?\n",
      "schema: Table 'bad_boy_artists_album_release_years' has columns: Act (VARCHAR), Year_signed (INTEGER), _Albums_released_under_Bad_Boy (VARCHAR), . The table description is: List of artists signed to Bad Boy R...\n",
      "\n",
      "\u001b[0m\u001b[1;3;38;2;155;135;227m> Running module text2sql_llm with input: \n",
      "messages: Given an input question, first create a syntactically correct sqlite query to run, then look at the results of the query and return the answer. You can order the results by a relevant column to return...\n",
      "\n",
      "\u001b[0m\u001b[1;3;38;2;155;135;227m> Running module sql_output_parser with input: \n",
      "response: assistant: SQLQuery: SELECT Year_signed FROM bad_boy_artists_album_release_years WHERE Act = 'The Notorious B.I.G';\n",
      "SQLResult: 1993\n",
      "Answer: The Notorious B.I.G was signed to Bad Boy in 1993.\n",
      "\n",
      "\u001b[0m\u001b[1;3;38;2;155;135;227m> Running module sql_retriever with input: \n",
      "input: SELECT Year_signed FROM bad_boy_artists_album_release_years WHERE Act = 'The Notorious B.I.G';\n",
      "\n",
      "\u001b[0m\u001b[1;3;38;2;155;135;227m> Running module response_synthesis_prompt with input: \n",
      "query_str: What was the year that The Notorious B.I.G was signed to Bad Boy?\n",
      "sql_query: SELECT Year_signed FROM bad_boy_artists_album_release_years WHERE Act = 'The Notorious B.I.G';\n",
      "context_str: [NodeWithScore(node=TextNode(id_='5cdb09cc-e859-42ae-b03a-87e067a69261', embedding=None, metadata={'sql_query': \"SELECT Year_signed FROM bad_boy_artists_album_release_years WHERE Act = 'The Notorious ...\n",
      "\n",
      "\u001b[0m\u001b[1;3;38;2;155;135;227m> Running module response_synthesis_llm with input: \n",
      "messages: Given an input question, synthesize a response from the query results.\n",
      "Query: What was the year that The Notorious B.I.G was signed to Bad Boy?\n",
      "SQL: SELECT Year_signed FROM bad_boy_artists_album_relea...\n",
      "\n",
      "\u001b[0massistant: The Notorious B.I.G was signed to Bad Boy in 1993.\n"
     ]
    }
   ],
   "source": [
    "response = qp.run(\n",
    "    query=\"What was the year that The Notorious B.I.G was signed to Bad Boy?\"\n",
    ")\n",
    "print(str(response))"
   ]
  },
  {
   "cell_type": "code",
   "execution_count": 21,
   "metadata": {},
   "outputs": [
    {
     "name": "stdout",
     "output_type": "stream",
     "text": [
      "\u001b[1;3;38;2;155;135;227m> Running module input with input: \n",
      "query: Who won best director in the 1972 academy awards\n",
      "\n",
      "\u001b[0m\u001b[1;3;38;2;155;135;227m> Running module table_retriever with input: \n",
      "input: Who won best director in the 1972 academy awards\n",
      "\n",
      "\u001b[0m\u001b[1;3;38;2;155;135;227m> Running module table_output_parser with input: \n",
      "table_schema_objs: [SQLTableSchema(table_name='academy_and_bafta_awards_1972', context_str='Awards and nominations for the 1972 Academy and BAFTA ceremonies.'), SQLTableSchema(table_name='best_actress_awards_nominations...\n",
      "\n",
      "\u001b[0m\u001b[1;3;38;2;155;135;227m> Running module text2sql_prompt with input: \n",
      "query_str: Who won best director in the 1972 academy awards\n",
      "schema: Table 'academy_and_bafta_awards_1972' has columns: Award (VARCHAR), Category (VARCHAR), Nominee (VARCHAR), Result (VARCHAR), . The table description is: Awards and nominations for the 1972 Academy and...\n",
      "\n",
      "\u001b[0m\u001b[1;3;38;2;155;135;227m> Running module text2sql_llm with input: \n",
      "messages: Given an input question, first create a syntactically correct sqlite query to run, then look at the results of the query and return the answer. You can order the results by a relevant column to return...\n",
      "\n",
      "\u001b[0m\u001b[1;3;38;2;155;135;227m> Running module sql_output_parser with input: \n",
      "response: assistant: SQLQuery: SELECT Nominee FROM academy_and_bafta_awards_1972 WHERE Category = 'Best Director' AND Result = 'Won'\n",
      "SQLResult: Result of the SQLQuery\n",
      "Answer: Final answer here\n",
      "\n",
      "\u001b[0m\u001b[1;3;38;2;155;135;227m> Running module sql_retriever with input: \n",
      "input: SELECT Nominee FROM academy_and_bafta_awards_1972 WHERE Category = 'Best Director' AND Result = 'Won'\n",
      "\n",
      "\u001b[0m\u001b[1;3;38;2;155;135;227m> Running module response_synthesis_prompt with input: \n",
      "query_str: Who won best director in the 1972 academy awards\n",
      "sql_query: SELECT Nominee FROM academy_and_bafta_awards_1972 WHERE Category = 'Best Director' AND Result = 'Won'\n",
      "context_str: [NodeWithScore(node=TextNode(id_='b253f8b5-8cdd-487f-8e7c-6237b72076e8', embedding=None, metadata={'sql_query': \"SELECT Nominee FROM academy_and_bafta_awards_1972 WHERE Category = 'Best Director' AND ...\n",
      "\n",
      "\u001b[0m\u001b[1;3;38;2;155;135;227m> Running module response_synthesis_llm with input: \n",
      "messages: Given an input question, synthesize a response from the query results.\n",
      "Query: Who won best director in the 1972 academy awards\n",
      "SQL: SELECT Nominee FROM academy_and_bafta_awards_1972 WHERE Category = '...\n",
      "\n",
      "\u001b[0massistant: William Friedkin won the Best Director award at the 1972 Academy Awards.\n"
     ]
    }
   ],
   "source": [
    "response = qp.run(query=\"Who won best director in the 1972 academy awards\")\n",
    "print(str(response))"
   ]
  },
  {
   "cell_type": "code",
   "execution_count": 22,
   "metadata": {},
   "outputs": [
    {
     "name": "stdout",
     "output_type": "stream",
     "text": [
      "\u001b[1;3;38;2;155;135;227m> Running module input with input: \n",
      "query: What was the term of Pasquale Preziosa?\n",
      "\n",
      "\u001b[0m\u001b[1;3;38;2;155;135;227m> Running module table_retriever with input: \n",
      "input: What was the term of Pasquale Preziosa?\n",
      "\n",
      "\u001b[0m\u001b[1;3;38;2;155;135;227m> Running module table_output_parser with input: \n",
      "table_schema_objs: [SQLTableSchema(table_name='italian_government_terms_of_office', context_str='List of individuals and their terms in Italian government positions from 1926 to 1951.'), SQLTableSchema(table_name='uk_mi...\n",
      "\n",
      "\u001b[0m\u001b[1;3;38;2;155;135;227m> Running module text2sql_prompt with input: \n",
      "query_str: What was the term of Pasquale Preziosa?\n",
      "schema: Table 'italian_government_terms_of_office' has columns: Name (VARCHAR), Term_start (VARCHAR), Term_end (VARCHAR), . The table description is: List of individuals and their terms in Italian government ...\n",
      "\n",
      "\u001b[0m\u001b[1;3;38;2;155;135;227m> Running module text2sql_llm with input: \n",
      "messages: Given an input question, first create a syntactically correct sqlite query to run, then look at the results of the query and return the answer. You can order the results by a relevant column to return...\n",
      "\n",
      "\u001b[0m\u001b[1;3;38;2;155;135;227m> Running module sql_output_parser with input: \n",
      "response: assistant: SQLQuery: SELECT Term_start, Term_end FROM italian_government_terms_of_office WHERE Name = 'Pasquale Preziosa'\n",
      "SQLResult: Result not available (as I cannot execute SQL queries)\n",
      "Answer: The ...\n",
      "\n",
      "\u001b[0m\u001b[1;3;38;2;155;135;227m> Running module sql_retriever with input: \n",
      "input: SELECT Term_start, Term_end FROM italian_government_terms_of_office WHERE Name = 'Pasquale Preziosa'\n",
      "\n",
      "\u001b[0m\u001b[1;3;38;2;155;135;227m> Running module response_synthesis_prompt with input: \n",
      "query_str: What was the term of Pasquale Preziosa?\n",
      "sql_query: SELECT Term_start, Term_end FROM italian_government_terms_of_office WHERE Name = 'Pasquale Preziosa'\n",
      "context_str: [NodeWithScore(node=TextNode(id_='866372ad-7034-4254-9bb3-f57e133dbc6f', embedding=None, metadata={'sql_query': \"SELECT Term_start, Term_end FROM italian_government_terms_of_office WHERE Name = 'Pasqu...\n",
      "\n",
      "\u001b[0m\u001b[1;3;38;2;155;135;227m> Running module response_synthesis_llm with input: \n",
      "messages: Given an input question, synthesize a response from the query results.\n",
      "Query: What was the term of Pasquale Preziosa?\n",
      "SQL: SELECT Term_start, Term_end FROM italian_government_terms_of_office WHERE Nam...\n",
      "\n",
      "\u001b[0massistant: Pasquale Preziosa began his term on 25 February 2013 and is currently still in office.\n"
     ]
    }
   ],
   "source": [
    "response = qp.run(query=\"What was the term of Pasquale Preziosa?\")\n",
    "print(str(response))"
   ]
  },
  {
   "cell_type": "code",
   "execution_count": 25,
   "metadata": {},
   "outputs": [
    {
     "name": "stdout",
     "output_type": "stream",
     "text": [
      "\u001b[1;3;38;2;155;135;227m> Running module input with input: \n",
      "query: Who was the Italian president named Pasquale Preziosa?When did Pasquale Preziosa begin his presidency?How long did Pasquale Preziosa’s presidency last?\n",
      "\n",
      "\u001b[0m\u001b[1;3;38;2;155;135;227m> Running module table_retriever with input: \n",
      "input: Who was the Italian president named Pasquale Preziosa?When did Pasquale Preziosa begin his presidency?How long did Pasquale Preziosa’s presidency last?\n",
      "\n",
      "\u001b[0m\u001b[1;3;38;2;155;135;227m> Running module table_output_parser with input: \n",
      "table_schema_objs: [SQLTableSchema(table_name='italian_government_terms_of_office', context_str='List of individuals and their terms in Italian government positions from 1926 to 1951.'), SQLTableSchema(table_name='uk_mi...\n",
      "\n",
      "\u001b[0m\u001b[1;3;38;2;155;135;227m> Running module text2sql_prompt with input: \n",
      "query_str: Who was the Italian president named Pasquale Preziosa?When did Pasquale Preziosa begin his presidency?How long did Pasquale Preziosa’s presidency last?\n",
      "schema: Table 'italian_government_terms_of_office' has columns: Name (VARCHAR), Term_start (VARCHAR), Term_end (VARCHAR), . The table description is: List of individuals and their terms in Italian government ...\n",
      "\n",
      "\u001b[0m\u001b[1;3;38;2;155;135;227m> Running module text2sql_llm with input: \n",
      "messages: Given an input question, first create a syntactically correct sqlite query to run, then look at the results of the query and return the answer. You can order the results by a relevant column to return...\n",
      "\n",
      "\u001b[0m\u001b[1;3;38;2;155;135;227m> Running module sql_output_parser with input: \n",
      "response: assistant: SQLQuery: SELECT Name, Term_start, Term_end FROM italian_government_terms_of_office WHERE Name = 'Pasquale Preziosa'\n",
      "SQLResult: Result not available (assuming no such entry exists in the da...\n",
      "\n",
      "\u001b[0m\u001b[1;3;38;2;155;135;227m> Running module sql_retriever with input: \n",
      "input: SELECT Name, Term_start, Term_end FROM italian_government_terms_of_office WHERE Name = 'Pasquale Preziosa'\n",
      "\n",
      "\u001b[0m\u001b[1;3;38;2;155;135;227m> Running module response_synthesis_prompt with input: \n",
      "query_str: Who was the Italian president named Pasquale Preziosa?When did Pasquale Preziosa begin his presidency?How long did Pasquale Preziosa’s presidency last?\n",
      "sql_query: SELECT Name, Term_start, Term_end FROM italian_government_terms_of_office WHERE Name = 'Pasquale Preziosa'\n",
      "context_str: [NodeWithScore(node=TextNode(id_='6e401a60-ee17-40bd-9927-4ed66efbe0a2', embedding=None, metadata={'sql_query': \"SELECT Name, Term_start, Term_end FROM italian_government_terms_of_office WHERE Name = ...\n",
      "\n",
      "\u001b[0m\u001b[1;3;38;2;155;135;227m> Running module response_synthesis_llm with input: \n",
      "messages: Given an input question, synthesize a response from the query results.\n",
      "Query: Who was the Italian president named Pasquale Preziosa?When did Pasquale Preziosa begin his presidency?How long did Pasqual...\n",
      "\n",
      "\u001b[0massistant: Pasquale Preziosa is an Italian president who began his presidency on February 25, 2013, and he is currently serving as the incumbent.\n"
     ]
    }
   ],
   "source": [
    "response = qp.run(query=\"Who was the Italian president named Pasquale Preziosa?When did Pasquale Preziosa begin his presidency?How long did Pasquale Preziosa’s presidency last?\")\n",
    "print(str(response))"
   ]
  },
  {
   "cell_type": "markdown",
   "metadata": {},
   "source": [
    "# Advanced Capability 2: Text-to-SQL with Query-Time Row Retrieval (along with Table Retrieval)"
   ]
  },
  {
   "cell_type": "markdown",
   "metadata": {},
   "source": [
    "## Index Each Table"
   ]
  },
  {
   "cell_type": "code",
   "execution_count": 26,
   "metadata": {},
   "outputs": [
    {
     "name": "stdout",
     "output_type": "stream",
     "text": [
      "Indexing rows in table: academy_and_bafta_awards_1972\n",
      "Indexing rows in table: annual_deaths_and_accidents_statistics\n",
      "Indexing rows in table: bad_boy_artists_album_release_years\n",
      "Indexing rows in table: bbc_radio_services_costs_2012_2013\n",
      "Indexing rows in table: best_actress_awards_nominations_and_wins\n",
      "Indexing rows in table: binary_encoding_implied_probabilities\n",
      "Indexing rows in table: boxing_fight_results_history\n",
      "Indexing rows in table: cancer_related_genetic_factors_and_functions\n",
      "Indexing rows in table: euro_2020_group_stage_team_performance\n",
      "Indexing rows in table: filmography_of_diane_and_others\n",
      "Indexing rows in table: french_aerodromes_and_airports_usage\n",
      "Indexing rows in table: grammy_awards_performance_by_artist\n",
      "Indexing rows in table: historical_college_football_records\n",
      "Indexing rows in table: italian_government_terms_of_office\n",
      "Indexing rows in table: kodachrome_film_types_and_dates\n",
      "Indexing rows in table: mick_jagger_single_chart_performance\n",
      "Indexing rows in table: missing_persons_cases_1982\n",
      "Indexing rows in table: monthly_climate_statistics\n",
      "Indexing rows in table: monthly_climate_statistics_overview\n",
      "Indexing rows in table: monthly_temperature_and_precipitation_statistics\n",
      "Indexing rows in table: multilingual_greetings_and_phrases\n",
      "Indexing rows in table: municipalities_and_seat_assignments\n",
      "Indexing rows in table: new_mexico_government_officials\n",
      "Indexing rows in table: norwegian_and_england_club_performance_statistics\n",
      "Indexing rows in table: ohio_private_schools_application_info\n",
      "Indexing rows in table: progression_of_renaissance_albums\n",
      "Indexing rows in table: rainfall_events_timeline\n",
      "Indexing rows in table: south_dakota_radio_stations\n",
      "Indexing rows in table: theatrical_awards_nominations_and_wins\n",
      "Indexing rows in table: triple_crown_winners_history\n",
      "Indexing rows in table: uk_ministers_and_titles_history\n",
      "Indexing rows in table: voter_registration_statistics_by_party\n",
      "Indexing rows in table: voter_registration_statistics_by_party_type\n",
      "Indexing rows in table: yamato_prefecture_population_density\n"
     ]
    }
   ],
   "source": [
    "from llama_index.core import VectorStoreIndex, load_index_from_storage\n",
    "from sqlalchemy import text\n",
    "from llama_index.core.schema import TextNode\n",
    "from llama_index.core import StorageContext\n",
    "import os\n",
    "from pathlib import Path\n",
    "from typing import Dict\n",
    "\n",
    "\n",
    "def index_all_tables(\n",
    "    sql_database: SQLDatabase, table_index_dir: str = \"table_index_dir\"\n",
    ") -> Dict[str, VectorStoreIndex]:\n",
    "    \"\"\"Index all tables.\"\"\"\n",
    "    if not Path(table_index_dir).exists():\n",
    "        os.makedirs(table_index_dir)\n",
    "\n",
    "    vector_index_dict = {}\n",
    "    engine = sql_database.engine\n",
    "    for table_name in sql_database.get_usable_table_names():\n",
    "        print(f\"Indexing rows in table: {table_name}\")\n",
    "        if not os.path.exists(f\"{table_index_dir}/{table_name}\"):\n",
    "            # get all rows from table\n",
    "            with engine.connect() as conn:\n",
    "                cursor = conn.execute(text(f'SELECT * FROM \"{table_name}\"'))\n",
    "                result = cursor.fetchall()\n",
    "                row_tups = []\n",
    "                for row in result:\n",
    "                    row_tups.append(tuple(row))\n",
    "\n",
    "            # index each row, put into vector store index\n",
    "            nodes = [TextNode(text=str(t)) for t in row_tups]\n",
    "\n",
    "            # put into vector store index (use OpenAIEmbeddings by default)\n",
    "            index = VectorStoreIndex(nodes)\n",
    "\n",
    "            # save index\n",
    "            index.set_index_id(\"vector_index\")\n",
    "            index.storage_context.persist(f\"{table_index_dir}/{table_name}\")\n",
    "        else:\n",
    "            # rebuild storage context\n",
    "            storage_context = StorageContext.from_defaults(\n",
    "                persist_dir=f\"{table_index_dir}/{table_name}\"\n",
    "            )\n",
    "            # load index\n",
    "            index = load_index_from_storage(\n",
    "                storage_context, index_id=\"vector_index\"\n",
    "            )\n",
    "        vector_index_dict[table_name] = index\n",
    "\n",
    "    return vector_index_dict\n",
    "\n",
    "\n",
    "vector_index_dict = index_all_tables(sql_database)"
   ]
  },
  {
   "cell_type": "markdown",
   "metadata": {},
   "source": [
    "## Define Expanded Table Parser Component"
   ]
  },
  {
   "cell_type": "code",
   "execution_count": 27,
   "metadata": {},
   "outputs": [],
   "source": [
    "from llama_index.core.retrievers import SQLRetriever\n",
    "from typing import List\n",
    "from llama_index.core.query_pipeline import FnComponent\n",
    "\n",
    "sql_retriever = SQLRetriever(sql_database)\n",
    "\n",
    "\n",
    "def get_table_context_and_rows_str(\n",
    "    query_str: str, table_schema_objs: List[SQLTableSchema]\n",
    "):\n",
    "    \"\"\"Get table context string.\"\"\"\n",
    "    context_strs = []\n",
    "    for table_schema_obj in table_schema_objs:\n",
    "        # first append table info + additional context\n",
    "        table_info = sql_database.get_single_table_info(\n",
    "            table_schema_obj.table_name\n",
    "        )\n",
    "        if table_schema_obj.context_str:\n",
    "            table_opt_context = \" The table description is: \"\n",
    "            table_opt_context += table_schema_obj.context_str\n",
    "            table_info += table_opt_context\n",
    "\n",
    "        # also lookup vector index to return relevant table rows\n",
    "        vector_retriever = vector_index_dict[\n",
    "            table_schema_obj.table_name\n",
    "        ].as_retriever(similarity_top_k=2)\n",
    "        relevant_nodes = vector_retriever.retrieve(query_str)\n",
    "        if len(relevant_nodes) > 0:\n",
    "            table_row_context = \"\\nHere are some relevant example rows (values in the same order as columns above)\\n\"\n",
    "            for node in relevant_nodes:\n",
    "                table_row_context += str(node.get_content()) + \"\\n\"\n",
    "            table_info += table_row_context\n",
    "\n",
    "        context_strs.append(table_info)\n",
    "    return \"\\n\\n\".join(context_strs)\n",
    "\n",
    "\n",
    "table_parser_component = FnComponent(fn=get_table_context_and_rows_str)"
   ]
  },
  {
   "cell_type": "markdown",
   "metadata": {},
   "source": [
    "## Define Expanded Query Pipeline"
   ]
  },
  {
   "cell_type": "code",
   "execution_count": 28,
   "metadata": {},
   "outputs": [],
   "source": [
    "from llama_index.core.query_pipeline import (\n",
    "    QueryPipeline as QP,\n",
    "    Link,\n",
    "    InputComponent,\n",
    "    CustomQueryComponent,\n",
    ")\n",
    "\n",
    "qp = QP(\n",
    "    modules={\n",
    "        \"input\": InputComponent(),\n",
    "        \"table_retriever\": obj_retriever,\n",
    "        \"table_output_parser\": table_parser_component,\n",
    "        \"text2sql_prompt\": text2sql_prompt,\n",
    "        \"text2sql_llm\": llm,\n",
    "        \"sql_output_parser\": sql_parser_component,\n",
    "        \"sql_retriever\": sql_retriever,\n",
    "        \"response_synthesis_prompt\": response_synthesis_prompt,\n",
    "        \"response_synthesis_llm\": llm,\n",
    "    },\n",
    "    verbose=True,\n",
    ")"
   ]
  },
  {
   "cell_type": "code",
   "execution_count": 29,
   "metadata": {},
   "outputs": [],
   "source": [
    "qp.add_link(\"input\", \"table_retriever\")\n",
    "qp.add_link(\"input\", \"table_output_parser\", dest_key=\"query_str\")\n",
    "qp.add_link(\n",
    "    \"table_retriever\", \"table_output_parser\", dest_key=\"table_schema_objs\"\n",
    ")\n",
    "qp.add_link(\"input\", \"text2sql_prompt\", dest_key=\"query_str\")\n",
    "qp.add_link(\"table_output_parser\", \"text2sql_prompt\", dest_key=\"schema\")\n",
    "qp.add_chain(\n",
    "    [\"text2sql_prompt\", \"text2sql_llm\", \"sql_output_parser\", \"sql_retriever\"]\n",
    ")\n",
    "qp.add_link(\n",
    "    \"sql_output_parser\", \"response_synthesis_prompt\", dest_key=\"sql_query\"\n",
    ")\n",
    "qp.add_link(\n",
    "    \"sql_retriever\", \"response_synthesis_prompt\", dest_key=\"context_str\"\n",
    ")\n",
    "qp.add_link(\"input\", \"response_synthesis_prompt\", dest_key=\"query_str\")\n",
    "qp.add_link(\"response_synthesis_prompt\", \"response_synthesis_llm\")"
   ]
  },
  {
   "cell_type": "code",
   "execution_count": 31,
   "metadata": {},
   "outputs": [],
   "source": [
    "# from pyvis.network import Network\n",
    "\n",
    "# net = Network(notebook=True, cdn_resources=\"in_line\", directed=True)\n",
    "# net.from_nx(qp.dag)\n",
    "# net.show(\"text2sql_dag.html\")"
   ]
  },
  {
   "cell_type": "markdown",
   "metadata": {},
   "source": [
    "## Run Some Queries"
   ]
  },
  {
   "cell_type": "code",
   "execution_count": 32,
   "metadata": {},
   "outputs": [
    {
     "name": "stdout",
     "output_type": "stream",
     "text": [
      "\u001b[1;3;38;2;155;135;227m> Running module input with input: \n",
      "query: What was the year that The Notorious BIG was signed to Bad Boy?\n",
      "\n",
      "\u001b[0m\u001b[1;3;38;2;155;135;227m> Running module table_retriever with input: \n",
      "input: What was the year that The Notorious BIG was signed to Bad Boy?\n",
      "\n",
      "\u001b[0m\u001b[1;3;38;2;155;135;227m> Running module table_output_parser with input: \n",
      "query_str: What was the year that The Notorious BIG was signed to Bad Boy?\n",
      "table_schema_objs: [SQLTableSchema(table_name='bad_boy_artists_album_release_years', context_str='List of artists signed to Bad Boy Records with their signing year and number of albums released.'), SQLTableSchema(table_...\n",
      "\n",
      "\u001b[0m\u001b[1;3;38;2;155;135;227m> Running module text2sql_prompt with input: \n",
      "query_str: What was the year that The Notorious BIG was signed to Bad Boy?\n",
      "schema: Table 'bad_boy_artists_album_release_years' has columns: Act (VARCHAR), Year_signed (INTEGER), _Albums_released_under_Bad_Boy (VARCHAR), . The table description is: List of artists signed to Bad Boy R...\n",
      "\n",
      "\u001b[0m\u001b[1;3;38;2;155;135;227m> Running module text2sql_llm with input: \n",
      "messages: Given an input question, first create a syntactically correct sqlite query to run, then look at the results of the query and return the answer. You can order the results by a relevant column to return...\n",
      "\n",
      "\u001b[0m\u001b[1;3;38;2;155;135;227m> Running module sql_output_parser with input: \n",
      "response: assistant: SQLQuery: SELECT Year_signed FROM bad_boy_artists_album_release_years WHERE Act = 'The Notorious B.I.G';\n",
      "SQLResult: [(1993,)]\n",
      "Answer: The Notorious B.I.G was signed to Bad Boy in 1993.\n",
      "\n",
      "\u001b[0m\u001b[1;3;38;2;155;135;227m> Running module sql_retriever with input: \n",
      "input: SELECT Year_signed FROM bad_boy_artists_album_release_years WHERE Act = 'The Notorious B.I.G';\n",
      "\n",
      "\u001b[0m\u001b[1;3;38;2;155;135;227m> Running module response_synthesis_prompt with input: \n",
      "query_str: What was the year that The Notorious BIG was signed to Bad Boy?\n",
      "sql_query: SELECT Year_signed FROM bad_boy_artists_album_release_years WHERE Act = 'The Notorious B.I.G';\n",
      "context_str: [NodeWithScore(node=TextNode(id_='d1f0fe76-8856-44fe-84b2-68bd57126d66', embedding=None, metadata={'sql_query': \"SELECT Year_signed FROM bad_boy_artists_album_release_years WHERE Act = 'The Notorious ...\n",
      "\n",
      "\u001b[0m\u001b[1;3;38;2;155;135;227m> Running module response_synthesis_llm with input: \n",
      "messages: Given an input question, synthesize a response from the query results.\n",
      "Query: What was the year that The Notorious BIG was signed to Bad Boy?\n",
      "SQL: SELECT Year_signed FROM bad_boy_artists_album_release...\n",
      "\n",
      "\u001b[0massistant: The Notorious B.I.G was signed to Bad Boy in 1993.\n"
     ]
    }
   ],
   "source": [
    "response = qp.run(\n",
    "    query=\"What was the year that The Notorious BIG was signed to Bad Boy?\"\n",
    ")\n",
    "print(str(response))"
   ]
  },
  {
   "cell_type": "code",
   "execution_count": null,
   "metadata": {},
   "outputs": [],
   "source": []
  }
 ],
 "metadata": {
  "kernelspec": {
   "display_name": "py311",
   "language": "python",
   "name": "python3"
  },
  "language_info": {
   "codemirror_mode": {
    "name": "ipython",
    "version": 3
   },
   "file_extension": ".py",
   "mimetype": "text/x-python",
   "name": "python",
   "nbconvert_exporter": "python",
   "pygments_lexer": "ipython3",
   "version": "3.11.9"
  }
 },
 "nbformat": 4,
 "nbformat_minor": 2
}
