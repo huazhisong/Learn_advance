{
 "cells": [
  {
   "cell_type": "code",
   "execution_count": 1,
   "metadata": {},
   "outputs": [
    {
     "name": "stdout",
     "output_type": "stream",
     "text": [
      "Paul Graham is a prominent computer scientist, entrepreneur, and venture capitalist, best known for his work in the field of programming languages and for co-founding the startup accelerator Y Combinator. He is also an influential essayist, having written extensively on topics related to startups, technology, and the philosophy of entrepreneurship. Graham is known for his advocacy of Lisp programming language and has authored several essays that have gained significant attention in the tech community. His insights on startup culture, innovation, and the challenges faced by entrepreneurs have made him a respected figure in Silicon Valley and beyond.\n"
     ]
    }
   ],
   "source": [
    "from llama_index.llms.openai import OpenAI\n",
    "\n",
    "response = OpenAI(model=\"gpt-4o-mini\", api_key=\"sk-S1h0hPEa3Qa5pCAJHNf6sd9EHxjGSlzd99xOgE4GYRpdBxek\",api_base=\"https://api.chatanywhere.tech\").complete(\"Paul Graham is \")\n",
    "print(response)"
   ]
  },
  {
   "cell_type": "code",
   "execution_count": null,
   "metadata": {},
   "outputs": [],
   "source": []
  }
 ],
 "metadata": {
  "kernelspec": {
   "display_name": "py311",
   "language": "python",
   "name": "python3"
  },
  "language_info": {
   "codemirror_mode": {
    "name": "ipython",
    "version": 3
   },
   "file_extension": ".py",
   "mimetype": "text/x-python",
   "name": "python",
   "nbconvert_exporter": "python",
   "pygments_lexer": "ipython3",
   "version": "3.11.9"
  }
 },
 "nbformat": 4,
 "nbformat_minor": 2
}
