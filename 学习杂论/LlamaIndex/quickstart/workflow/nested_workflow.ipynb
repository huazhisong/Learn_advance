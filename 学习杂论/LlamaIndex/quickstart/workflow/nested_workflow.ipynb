{
 "cells": [
  {
   "cell_type": "code",
   "execution_count": 1,
   "metadata": {},
   "outputs": [],
   "source": [
    "from llama_index.core.workflow import (\n",
    "    StartEvent,\n",
    "    StopEvent,\n",
    "    Workflow,\n",
    "    step,\n",
    "    Event,\n",
    "    Context,\n",
    ")\n",
    "from llama_index.utils.workflow import draw_all_possible_flows\n",
    "\n",
    "\n",
    "class Step2Event(Event):\n",
    "    query: str\n",
    "\n",
    "\n",
    "class MainWorkflow(Workflow):\n",
    "    @step\n",
    "    async def start(\n",
    "        self, ctx: Context, ev: StartEvent, reflection_workflow: Workflow\n",
    "    ) -> Step2Event:\n",
    "        print(\"Need to run reflection\")\n",
    "        res = await reflection_workflow.run(query=ev.query)\n",
    "\n",
    "        return Step2Event(query=res)\n",
    "\n",
    "    @step\n",
    "    async def step_two(self, ctx: Context, ev: Step2Event) -> StopEvent:\n",
    "        print(\"Query is \", ev.query)\n",
    "        # do something with the query here\n",
    "        return StopEvent(result=ev.query)"
   ]
  },
  {
   "cell_type": "code",
   "execution_count": 2,
   "metadata": {},
   "outputs": [],
   "source": [
    "class ReflectionFlow(Workflow):\n",
    "    @step\n",
    "    async def sub_start(self, ctx: Context, ev: StartEvent) -> StopEvent:\n",
    "        print(\"Doing custom reflection\")\n",
    "        return StopEvent(result=\"Improved query\")"
   ]
  },
  {
   "cell_type": "code",
   "execution_count": 3,
   "metadata": {},
   "outputs": [
    {
     "name": "stdout",
     "output_type": "stream",
     "text": [
      "Need to run reflection\n",
      "Doing custom reflection\n",
      "Query is  Improved query\n",
      "Improved query\n"
     ]
    }
   ],
   "source": [
    "w = MainWorkflow(timeout=10, verbose=False)\n",
    "w.add_workflows(reflection_workflow=ReflectionFlow())\n",
    "result = await w.run(query=\"Initial query\")\n",
    "print(result)"
   ]
  },
  {
   "cell_type": "code",
   "execution_count": null,
   "metadata": {},
   "outputs": [],
   "source": []
  }
 ],
 "metadata": {
  "kernelspec": {
   "display_name": "py311",
   "language": "python",
   "name": "python3"
  },
  "language_info": {
   "codemirror_mode": {
    "name": "ipython",
    "version": 3
   },
   "file_extension": ".py",
   "mimetype": "text/x-python",
   "name": "python",
   "nbconvert_exporter": "python",
   "pygments_lexer": "ipython3",
   "version": "3.11.9"
  }
 },
 "nbformat": 4,
 "nbformat_minor": 2
}
