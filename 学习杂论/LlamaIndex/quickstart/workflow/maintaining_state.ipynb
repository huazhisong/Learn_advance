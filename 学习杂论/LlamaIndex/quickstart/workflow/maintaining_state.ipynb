{
 "cells": [
  {
   "cell_type": "markdown",
   "metadata": {},
   "source": [
    "# maintaining-state"
   ]
  },
  {
   "cell_type": "code",
   "execution_count": 1,
   "metadata": {},
   "outputs": [],
   "source": [
    "from llama_index.core.workflow import (\n",
    "    StartEvent,\n",
    "    StopEvent,\n",
    "    Workflow,\n",
    "    step,\n",
    "    Event,\n",
    "    Context,\n",
    ")"
   ]
  },
  {
   "cell_type": "code",
   "execution_count": 2,
   "metadata": {},
   "outputs": [],
   "source": [
    "class SetupEvent(Event):\n",
    "    query: str\n",
    "\n",
    "\n",
    "class StepTwoEvent(Event):\n",
    "    query: str\n",
    "\n",
    "\n",
    "class StatefulFlow(Workflow):\n",
    "    @step\n",
    "    async def start(\n",
    "        self, ctx: Context, ev: StartEvent\n",
    "    ) -> SetupEvent | StepTwoEvent:\n",
    "        db = await ctx.get(\"some_database\", default=None)\n",
    "        if db is None:\n",
    "            print(\"Need to load data\")\n",
    "            return SetupEvent(query=ev.query)\n",
    "\n",
    "        # do something with the query\n",
    "        return StepTwoEvent(query=ev.query)\n",
    "\n",
    "    @step\n",
    "    async def setup(self, ctx: Context, ev: SetupEvent) -> StartEvent:\n",
    "        # load data\n",
    "        await ctx.set(\"some_database\", [1, 2, 3])\n",
    "        return StartEvent(query=ev.query)\n",
    "    \n",
    "    @step\n",
    "    async def step_two(self, ctx: Context, ev: StepTwoEvent) -> StopEvent:\n",
    "        # do something with the data\n",
    "        print(\"Data is \", await ctx.get(\"some_database\"))\n",
    "\n",
    "        return StopEvent(result=await ctx.get(\"some_database\"))\n"
   ]
  },
  {
   "cell_type": "code",
   "execution_count": 3,
   "metadata": {},
   "outputs": [
    {
     "name": "stdout",
     "output_type": "stream",
     "text": [
      "Need to load data\n",
      "Data is  [1, 2, 3]\n",
      "[1, 2, 3]\n"
     ]
    }
   ],
   "source": [
    "w = StatefulFlow(timeout=10, verbose=False)\n",
    "result = await w.run(query=\"Some query\")\n",
    "print(result)"
   ]
  },
  {
   "cell_type": "code",
   "execution_count": null,
   "metadata": {},
   "outputs": [],
   "source": []
  }
 ],
 "metadata": {
  "kernelspec": {
   "display_name": "py311",
   "language": "python",
   "name": "python3"
  },
  "language_info": {
   "codemirror_mode": {
    "name": "ipython",
    "version": 3
   },
   "file_extension": ".py",
   "mimetype": "text/x-python",
   "name": "python",
   "nbconvert_exporter": "python",
   "pygments_lexer": "ipython3",
   "version": "3.11.9"
  }
 },
 "nbformat": 4,
 "nbformat_minor": 2
}
