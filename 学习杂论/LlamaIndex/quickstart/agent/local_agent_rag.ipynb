{
 "cells": [
  {
   "cell_type": "code",
   "execution_count": 1,
   "metadata": {},
   "outputs": [
    {
     "data": {
      "application/vnd.jupyter.widget-view+json": {
       "model_id": "c8617c609d1d49c7a388d734ebf9bdfa",
       "version_major": 2,
       "version_minor": 0
      },
      "text/plain": [
       "model.safetensors:   0%|          | 0.00/2.27G [00:00<?, ?B/s]"
      ]
     },
     "metadata": {},
     "output_type": "display_data"
    },
    {
     "name": "stdout",
     "output_type": "stream",
     "text": [
      "> Running step c7cd003d-dbd8-47e4-bd03-7f67e4957552. Step input: What is the total amount of the 2023 Canadian federal budget multiplied by 3? Go step by step, using a tool to do any math.\n",
      "\u001b[1;3;38;5;200mThought: The user wants me to find out what's the total amount of the 2023 Canadian federal budget and then multiply it by 3. To get this information I need to use the `canadian_budget_2023` tool.\n",
      "Action: canadian_budget_2023\n",
      "Action Input: {'input': 'What is the total amount of the 2023 Canadian federal budget?'}\n",
      "\u001b[0m\u001b[1;3;34mObservation: The total projected revenue for the 2023 Canadian federal budget is $456.8 billion, while the total projected expenditures are $496.9 billion. This results in a projected deficit of $40.1 billion.\n",
      "\u001b[0m> Running step 7286c477-01ad-4a85-b224-5a858aa4d38e. Step input: None\n",
      "\u001b[1;3;38;5;200mThought: Now that I know the total projected expenditures for the 2023 Canadian federal budget, which is $496.9 billion, I can multiply this number by 3 to get the final answer.\n",
      "Action: multiply\n",
      "Action Input: {'a': 496.9, 'b': 3}\n",
      "\u001b[0m\u001b[1;3;34mObservation: 1490.6999999999998\n",
      "\u001b[0m> Running step a21d59c2-09b7-41ca-ad2a-6608b720cbd1. Step input: None\n",
      "\u001b[1;3;38;5;200mThought: I can now form the final answer by rounding off the result to a more user-friendly format.\n",
      "Answer: The total amount of the 2023 Canadian federal budget, when multiplied by 3, is approximately $1490.7 billion.\n",
      "\u001b[0mThe total amount of the 2023 Canadian federal budget, when multiplied by 3, is approximately $1490.7 billion.\n"
     ]
    }
   ],
   "source": [
    "from dotenv import load_dotenv\n",
    "from llama_index.core.agent import ReActAgent\n",
    "from llama_index.core.tools import FunctionTool\n",
    "from llama_index.core import SimpleDirectoryReader, VectorStoreIndex, Settings\n",
    "from llama_index.core.tools import QueryEngineTool\n",
    "from llama_index.embeddings.huggingface import HuggingFaceEmbedding\n",
    "from llama_index.llms.ollama import Ollama\n",
    "load_dotenv()\n",
    "\n",
    "\n",
    "# bge-base embedding model\n",
    "Settings.embed_model = HuggingFaceEmbedding(model_name=\"BAAI/bge-m3\")\n",
    "\n",
    "# ollama model\n",
    "Settings.llm = Ollama(model=\"qwen2.5:7b\", request_timeout=360.0)\n",
    "\n",
    "# function tools\n",
    "def multiply(a: float, b: float) -> float:\n",
    "    \"\"\"Multiply two numbers and returns the product\"\"\"\n",
    "    return a * b\n",
    "\n",
    "multiply_tool = FunctionTool.from_defaults(fn=multiply)\n",
    "\n",
    "def add(a: float, b: float) -> float:\n",
    "    \"\"\"Add two numbers and returns the sum\"\"\"\n",
    "    return a + b\n",
    "\n",
    "add_tool = FunctionTool.from_defaults(fn=add)\n",
    "\n",
    "# rag pipeline\n",
    "documents = SimpleDirectoryReader(\"./data\").load_data()\n",
    "index = VectorStoreIndex.from_documents(documents)\n",
    "query_engine = index.as_query_engine()\n",
    "\n",
    "# response = query_engine.query(\"What was the total amount of the 2023 Canadian federal budget?\")\n",
    "# print(response)\n",
    "\n",
    "# rag pipeline as a tool\n",
    "budget_tool =  QueryEngineTool.from_defaults(\n",
    "    query_engine, \n",
    "    name=\"canadian_budget_2023\",\n",
    "    description=\"A RAG engine with some basic facts about the 2023 Canadian federal budget.\"\n",
    ")\n",
    "\n",
    "agent = ReActAgent.from_tools([multiply_tool, add_tool, budget_tool], verbose=True)\n",
    "\n",
    "response = agent.chat(\"What is the total amount of the 2023 Canadian federal budget multiplied by 3? Go step by step, using a tool to do any math.\")\n",
    "\n",
    "print(response)"
   ]
  },
  {
   "cell_type": "code",
   "execution_count": null,
   "metadata": {},
   "outputs": [],
   "source": []
  }
 ],
 "metadata": {
  "kernelspec": {
   "display_name": "py311",
   "language": "python",
   "name": "python3"
  },
  "language_info": {
   "codemirror_mode": {
    "name": "ipython",
    "version": 3
   },
   "file_extension": ".py",
   "mimetype": "text/x-python",
   "name": "python",
   "nbconvert_exporter": "python",
   "pygments_lexer": "ipython3",
   "version": "3.11.9"
  }
 },
 "nbformat": 4,
 "nbformat_minor": 2
}
