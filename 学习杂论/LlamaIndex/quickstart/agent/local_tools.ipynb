{
 "cells": [
  {
   "cell_type": "code",
   "execution_count": 2,
   "metadata": {},
   "outputs": [
    {
     "name": "stdout",
     "output_type": "stream",
     "text": [
      "> Running step 8e5bea90-22c4-4dc6-8ae9-fecb1730f6d7. Step input: What is the current price of NVDA?\n",
      "\u001b[1;3;38;5;200mThought: The user wants to know the current price of a stock, specifically NVDA. I need to use a tool that fetches this information.\n",
      "Action: stock_basic_info\n",
      "Action Input: {'ticker': 'NVDA'}\n",
      "\u001b[0m\u001b[1;3;34mObservation: Info: \n",
      "{'address1': '2788 San Tomas Expressway', 'city': 'Santa Clara', 'state': 'CA', 'zip': '95051', 'country': 'United States', 'phone': '408 486 2000', 'website': 'https://www.nvidia.com', 'industry': 'Semiconductors', 'industryKey': 'semiconductors', 'industryDisp': 'Semiconductors', 'sector': 'Technology', 'sectorKey': 'technology', 'sectorDisp': 'Technology', 'longBusinessSummary': \"NVIDIA Corporation provides graphics and compute and networking solutions in the United States, Taiwan, China, Hong Kong, and internationally. The Graphics segment offers GeForce GPUs for gaming and PCs, the GeForce NOW game streaming service and related infrastructure, and solutions for gaming platforms; Quadro/NVIDIA RTX GPUs for enterprise workstation graphics; virtual GPU or vGPU software for cloud-based visual and virtual computing; automotive platforms for infotainment systems; and Omniverse software for building and operating metaverse and 3D internet applications. The Compute & Networking segment comprises Data Center computing platforms and end-to-end networking platforms, including Quantum for InfiniBand and Spectrum for Ethernet; NVIDIA DRIVE automated-driving platform and automotive development agreements; Jetson robotics and other embedded platforms; NVIDIA AI Enterprise and other software; and DGX Cloud software and services. The company's products are used in gaming, professional visualization, data center, and automotive markets. It sells its products to original equipment manufacturers, original device manufacturers, system integrators and distributors, independent software vendors, cloud service providers, consumer internet companies, add-in board manufacturers, distributors, automotive manufacturers and tier-1 automotive suppliers, and other ecosystem participants. NVIDIA Corporation was incorporated in 1993 and is headquartered in Santa Clara, California.\", 'fullTimeEmployees': 29600, 'companyOfficers': [{'maxAge': 1, 'name': 'Mr. Jen-Hsun  Huang', 'age': 60, 'title': 'Co-Founder, CEO, President & Director', 'yearBorn': 1963, 'fiscalYear': 2024, 'totalPay': 7491487, 'exercisedValue': 217327152, 'unexercisedValue': 0}, {'maxAge': 1, 'name': 'Ms. Colette M. Kress', 'age': 56, 'title': 'Executive VP & CFO', 'yearBorn': 1967, 'fiscalYear': 2024, 'totalPay': 1510765, 'exercisedValue': 0, 'unexercisedValue': 0}, {'maxAge': 1, 'name': 'Ms. Debora  Shoquist', 'age': 68, 'title': 'Executive Vice President of Operations', 'yearBorn': 1955, 'fiscalYear': 2024, 'totalPay': 1371266, 'exercisedValue': 0, 'unexercisedValue': 0}, {'maxAge': 1, 'name': 'Mr. Timothy S. Teter J.D.', 'age': 56, 'title': 'Executive VP, General Counsel & Secretary', 'yearBorn': 1967, 'fiscalYear': 2024, 'totalPay': 1360939, 'exercisedValue': 0, 'unexercisedValue': 0}, {'maxAge': 1, 'name': 'Mr. Ajay K. Puri', 'age': 68, 'title': 'Executive Vice President of Worldwide Field Operations', 'yearBorn': 1955, 'fiscalYear': 2024, 'totalPay': 2295097, 'exercisedValue': 0, 'unexercisedValue': 0}, {'maxAge': 1, 'name': 'Mr. Chris A. Malachowsky', 'title': 'Co-Founder', 'fiscalYear': 2024, 'totalPay': 320000, 'exercisedValue': 0, 'unexercisedValue': 0}, {'maxAge': 1, 'name': 'Mr. Donald F. Robertson Jr.', 'age': 54, 'title': 'VP & Chief Accounting Officer', 'yearBorn': 1969, 'fiscalYear': 2024, 'exercisedValue': 0, 'unexercisedValue': 0}, {'maxAge': 1, 'name': 'Prof. William J. Dally Ph.D.', 'age': 62, 'title': 'Chief Scientist & Senior VP of Research', 'yearBorn': 1961, 'fiscalYear': 2024, 'exercisedValue': 0, 'unexercisedValue': 0}, {'maxAge': 1, 'name': 'Ms. Mylene  Mangalindan', 'title': 'VP of Corporate Communications', 'fiscalYear': 2024, 'exercisedValue': 0, 'unexercisedValue': 0}, {'maxAge': 1, 'name': 'Mr. Tommy  Lee', 'title': 'Senior Vice President of Systems Engineering & Application', 'fiscalYear': 2024, 'exercisedValue': 0, 'unexercisedValue': 0}], 'auditRisk': 7, 'boardRisk': 10, 'compensationRisk': 5, 'shareHolderRightsRisk': 6, 'overallRisk': 8, 'governanceEpochDate': 1730419200, 'compensationAsOfEpochDate': 1735603200, 'irWebsite': 'http://phx.corporate-ir.net/phoenix.zhtml?c=116466&p=irol-IRHome', 'maxAge': 86400, 'priceHint': 2, 'previousClose': 140.11, 'open': 137.37, 'dayLow': 134.61, 'dayHigh': 137.675, 'regularMarketPreviousClose': 140.11, 'regularMarketOpen': 137.37, 'regularMarketDayLow': 134.61, 'regularMarketDayHigh': 137.675, 'dividendRate': 0.04, 'dividendYield': 0.00029999999, 'exDividendDate': 1726099200, 'payoutRatio': 0.0111, 'fiveYearAvgDividendYield': 0.09, 'beta': 1.657, 'trailingPE': 53.33465, 'forwardPE': 30.415699, 'volume': 48149641, 'regularMarketVolume': 48149641, 'averageVolume': 218339586, 'averageVolume10days': 198741830, 'averageDailyVolume10Day': 198741830, 'bid': 135.33, 'ask': 135.45, 'bidSize': 100, 'askSize': 100, 'marketCap': 3317660385280, 'fiftyTwoWeekLow': 54.33, 'fiftyTwoWeekHigh': 153.13, 'priceToSalesTrailing12Months': 34.448795, 'fiftyDayAverage': 139.9634, 'twoHundredDayAverage': 119.15671, 'currency': 'USD', 'enterpriseValue': 3553896693760, 'profitMargins': 0.55041003, 'floatShares': 23541441000, 'sharesOutstanding': 24490000384, 'sharesShort': 246400791, 'sharesShortPriorMonth': 251090067, 'sharesShortPreviousMonthDate': 1727654400, 'dateShortInterest': 1730332800, 'sharesPercentSharesOut': 0.01, 'heldPercentInsiders': 0.0429, 'heldPercentInstitutions': 0.6617, 'shortRatio': 1.01, 'shortPercentOfFloat': 0.0105, 'impliedSharesOutstanding': 25413099520, 'bookValue': 1.744, 'priceToBook': 77.67776, 'lastFiscalYearEnd': 1706400000, 'nextFiscalYearEnd': 1738022400, 'mostRecentQuarter': 1722124800, 'earningsQuarterlyGrowth': 1.682, 'netIncomeToCommon': 53007998976, 'trailingEps': 2.54, 'forwardEps': 4.12, 'lastSplitFactor': '10:1', 'lastSplitDate': 1717977600, 'enterpriseToRevenue': 36.902, 'enterpriseToEbitda': 58.085, '52WeekChange': 1.5609577, 'SandP52WeekChange': 0.23713636, 'lastDividendValue': 0.01, 'lastDividendDate': 1733356800, 'exchange': 'NMS', 'quoteType': 'EQUITY', 'symbol': 'NVDA', 'underlyingSymbol': 'NVDA', 'shortName': 'NVIDIA Corporation', 'longName': 'NVIDIA Corporation', 'firstTradeDateEpochUtc': 917015400, 'timeZoneFullName': 'America/New_York', 'timeZoneShortName': 'EST', 'uuid': '7f5f6a07-b148-30f4-98a2-2caa3df2aed0', 'messageBoardId': 'finmb_32307', 'gmtOffSetMilliseconds': -18000000, 'currentPrice': 135.47, 'targetHighPrice': 220.0, 'targetLowPrice': 130.0, 'targetMeanPrice': 172.98717, 'targetMedianPrice': 175.0, 'recommendationMean': 1.31746, 'recommendationKey': 'strong_buy', 'numberOfAnalystOpinions': 53, 'totalCash': 34800001024, 'totalCashPerShare': 1.419, 'ebitda': 61184000000, 'totalDebt': 10014999552, 'quickRatio': 3.503, 'currentRatio': 4.269, 'totalRevenue': 96307003392, 'debtToEquity': 17.221, 'revenuePerShare': 3.91, 'returnOnAssets': 0.55258, 'returnOnEquity': 1.23767, 'freeCashflow': 33725874176, 'operatingCashflow': 48663998464, 'earningsGrowth': 1.68, 'revenueGrowth': 1.224, 'grossMargins': 0.75975996, 'ebitdaMargins': 0.6353, 'operatingMargins': 0.62057, 'financialCurrency': 'USD', 'trailingPegRatio': 1.0042}\n",
      "\u001b[0m> Running step 8644a979-941b-4330-bd9e-740efc02c8d9. Step input: None\n",
      "\u001b[1;3;38;5;200mThought: (Implicit) I can answer without any more tools!\n",
      "Answer: Thought you wanted information about NVIDIA Corporation (symbol: NVDA), based on the provided data. Could you specify what kind of information or analysis you're looking for? It includes financial details, stock performance metrics, company overview, and more.\n",
      "\u001b[0mThought you wanted information about NVIDIA Corporation (symbol: NVDA), based on the provided data. Could you specify what kind of information or analysis you're looking for? It includes financial details, stock performance metrics, company overview, and more.\n"
     ]
    }
   ],
   "source": [
    "from dotenv import load_dotenv\n",
    "load_dotenv()\n",
    "from llama_index.core.agent import ReActAgent\n",
    "from llama_index.llms.openai import OpenAI\n",
    "from llama_index.core.tools import FunctionTool\n",
    "from llama_index.core import Settings\n",
    "from llama_index.tools.yahoo_finance import YahooFinanceToolSpec\n",
    "from llama_index.embeddings.huggingface import HuggingFaceEmbedding\n",
    "from llama_index.llms.ollama import Ollama\n",
    "# bge-base embedding model\n",
    "# Settings.embed_model = HuggingFaceEmbedding(model_name=\"BAAI/bge-m3\")\n",
    "\n",
    "# ollama model\n",
    "Settings.llm = Ollama(model=\"qwen2.5:3b\", request_timeout=360.0)\n",
    "\n",
    "# function tools\n",
    "def multiply(a: float, b: float) -> float:\n",
    "    \"\"\"Multiply two numbers and returns the product\"\"\"\n",
    "    return a * b\n",
    "\n",
    "multiply_tool = FunctionTool.from_defaults(fn=multiply)\n",
    "\n",
    "def add(a: float, b: float) -> float:\n",
    "    \"\"\"Add two numbers and returns the sum\"\"\"\n",
    "    return a + b\n",
    "\n",
    "add_tool = FunctionTool.from_defaults(fn=add)\n",
    "\n",
    "finance_tools = YahooFinanceToolSpec().to_tool_list()\n",
    "finance_tools.extend([multiply_tool, add_tool])\n",
    "\n",
    "agent = ReActAgent.from_tools(finance_tools, verbose=True)\n",
    "\n",
    "response = agent.chat(\"What is the current price of NVDA?\")\n",
    "\n",
    "print(response)"
   ]
  },
  {
   "cell_type": "code",
   "execution_count": null,
   "metadata": {},
   "outputs": [],
   "source": []
  }
 ],
 "metadata": {
  "kernelspec": {
   "display_name": "py311",
   "language": "python",
   "name": "python3"
  },
  "language_info": {
   "codemirror_mode": {
    "name": "ipython",
    "version": 3
   },
   "file_extension": ".py",
   "mimetype": "text/x-python",
   "name": "python",
   "nbconvert_exporter": "python",
   "pygments_lexer": "ipython3",
   "version": "3.11.9"
  }
 },
 "nbformat": 4,
 "nbformat_minor": 2
}
