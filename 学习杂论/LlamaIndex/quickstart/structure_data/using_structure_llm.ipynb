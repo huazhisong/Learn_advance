{
 "cells": [
  {
   "cell_type": "markdown",
   "metadata": {},
   "source": [
    "# Using Structured LLMs"
   ]
  },
  {
   "cell_type": "code",
   "execution_count": 1,
   "metadata": {},
   "outputs": [],
   "source": [
    "from datetime import datetime\n",
    "from pydantic import BaseModel\n",
    "from pydantic.fields import Field\n",
    "\n",
    "class LineItem(BaseModel):\n",
    "    \"\"\"A line item in an invoice.\"\"\"\n",
    "\n",
    "    item_name: str = Field(description=\"The name of this item\")\n",
    "    price: float = Field(description=\"The price of this item\")\n",
    "\n",
    "\n",
    "class Invoice(BaseModel):\n",
    "    \"\"\"A representation of information from an invoice.\"\"\"\n",
    "\n",
    "    invoice_id: str = Field(\n",
    "        description=\"A unique identifier for this invoice, often a number\"\n",
    "    )\n",
    "    date: datetime = Field(description=\"The date this invoice was created\")\n",
    "    line_items: list[LineItem] = Field(\n",
    "        description=\"A list of all the items in this invoice\"\n",
    "    )"
   ]
  },
  {
   "cell_type": "code",
   "execution_count": 2,
   "metadata": {},
   "outputs": [
    {
     "data": {
      "text/plain": [
       "'‹\\xa02022 2024›\\n2023 budget of the\\nCanadian federal\\ngovernment\\nSubmitted 28 March 2023\\nPresented 28 March 2023\\nParliament 44th\\nParty Liberal\\nFinance\\nminister\\nChrystia Freeland\\nTotal revenue $456.8 billion\\n(projected)\\nTotal\\nexpenditures\\n$496.9 billion\\n(projected)\\nDeﬁcit $40.1 billion\\n(projected)[ 1 ] \\nGDP TBA\\nWebsite 2023 Budget (http\\ns://www.budget.can\\nada.ca/2023/home-\\naccueil-en.html)\\n2023 Canadian federal budget\\nThe Canadian federal budget for the fiscal years of 2023–24 was\\npresented to the House of Commons by Finance Minister Chrystia\\nFreeland on 28 March 2023.[2] The budget was meant to reflect\\nPrime Minister Justin Trudeau\\'s stated policy objective to \"make\\nlife more affordable for Canadians\"[3] while also reducing\\ngovernment expenditures.[4]\\nThe 2023 budget is the seventh budget document introduced in\\nthe House of Commons under the premiership of Justin Trudeau.\\nIt comes at the heel of the first anniversary of the Russian\\ninvasion of Ukraine, following which Canada sent one billion\\ndollars in military aid to Ukraine.[5]\\nUnited States President Joe Biden\\'s Inflation Reduction Act of\\n2022 included unprecedented investments in initiatives aimed at\\npromoting Green growth. Canada was expected to announce\\nsimilar investments in its 2023 budget in order to remain\\ncompetitive with its southern neighbour.[6]\\nOn 22 June 2023, all parts of the budget received Royal assent,\\nand became law.[7]\\nThe budget included $43B in net new spending over six years,[8]\\nincluding $20B for a new 15 per cent refundable tax credit to\\npromote investment in green technologies.[9] $13B was also\\nallocated to implement a means-tested dental care program, a\\npolicy originating in the NDP-Liberal deal of 2022.[8] The Canadian Dental Care Plan began rollout in\\nDecember 2023.[10]\\nThe budget introduced a \"grocery rebate\" of up to $467 for eligible families and up to $234 for eligible\\nsingle people with no kids. The Canada Student Grants also saw a 40% increase in funding.[11]\\nFreeland issued $15B of spending cuts, achieved by defunding public services and cancelling\\npreviously announced programs.[12] A new tax 2% on stock buybacks was also introduced.[11]\\nBackground\\nMeasures\\nHousing\\n6/19/24, 1:59 PM 2023 Canadian federal budget - Wikipedia\\nhttps://en.wikipedia.org/wiki/2023_Canadian_federal_budget 1/4'"
      ]
     },
     "execution_count": 2,
     "metadata": {},
     "output_type": "execute_result"
    }
   ],
   "source": [
    "from llama_index.readers.file import PDFReader\n",
    "from pathlib import Path\n",
    "\n",
    "pdf_reader = PDFReader()\n",
    "documents = pdf_reader.load_data(file=Path(\"/Users/hyjiang/song_ws/code_ware/Learn_advance/学习杂论/LlamaIndex/quickstart/start_rag/data/2023_canadian_budget.pdf\"))\n",
    "text = documents[0].text\n",
    "text"
   ]
  },
  {
   "cell_type": "code",
   "execution_count": 3,
   "metadata": {},
   "outputs": [
    {
     "data": {
      "text/plain": [
       "True"
      ]
     },
     "execution_count": 3,
     "metadata": {},
     "output_type": "execute_result"
    }
   ],
   "source": [
    "import dotenv\n",
    "dotenv.load_dotenv()"
   ]
  },
  {
   "cell_type": "code",
   "execution_count": 4,
   "metadata": {},
   "outputs": [],
   "source": [
    "from llama_index.llms.openai import OpenAI\n",
    "\n",
    "llm = OpenAI(model=\"gpt-4o\")\n",
    "sllm = llm.as_structured_llm(Invoice)\n",
    "\n",
    "response = sllm.complete(text)"
   ]
  },
  {
   "cell_type": "code",
   "execution_count": 5,
   "metadata": {},
   "outputs": [],
   "source": [
    "import json"
   ]
  },
  {
   "cell_type": "code",
   "execution_count": 6,
   "metadata": {},
   "outputs": [
    {
     "name": "stdout",
     "output_type": "stream",
     "text": [
      "{\n",
      "  \"invoice_id\": \"2023-CAN-BUDGET\",\n",
      "  \"date\": \"2023-03-28T00:00:00Z\",\n",
      "  \"line_items\": [\n",
      "    {\n",
      "      \"item_name\": \"Total Revenue\",\n",
      "      \"price\": 456800000000.0\n",
      "    },\n",
      "    {\n",
      "      \"item_name\": \"Total Expenditures\",\n",
      "      \"price\": 496900000000.0\n",
      "    },\n",
      "    {\n",
      "      \"item_name\": \"Deficit\",\n",
      "      \"price\": 40100000000.0\n",
      "    },\n",
      "    {\n",
      "      \"item_name\": \"Net New Spending (6 years)\",\n",
      "      \"price\": 43000000000.0\n",
      "    },\n",
      "    {\n",
      "      \"item_name\": \"Green Technology Tax Credit\",\n",
      "      \"price\": 20000000000.0\n",
      "    },\n",
      "    {\n",
      "      \"item_name\": \"Means-Tested Dental Care Program\",\n",
      "      \"price\": 13000000000.0\n",
      "    },\n",
      "    {\n",
      "      \"item_name\": \"Grocery Rebate\",\n",
      "      \"price\": 467.0\n",
      "    },\n",
      "    {\n",
      "      \"item_name\": \"Canada Student Grants Increase\",\n",
      "      \"price\": 0.0\n",
      "    },\n",
      "    {\n",
      "      \"item_name\": \"Spending Cuts\",\n",
      "      \"price\": -15000000000.0\n",
      "    },\n",
      "    {\n",
      "      \"item_name\": \"Stock Buybacks Tax Revenue\",\n",
      "      \"price\": 0.0\n",
      "    }\n",
      "  ]\n",
      "}\n"
     ]
    }
   ],
   "source": [
    "json_response = json.loads(response.text)\n",
    "print(json.dumps(json_response, indent=2))"
   ]
  },
  {
   "cell_type": "code",
   "execution_count": 7,
   "metadata": {},
   "outputs": [
    {
     "name": "stdout",
     "output_type": "stream",
     "text": [
      "Invoice(invoice_id='2023-CAN-BUDGET', date=datetime.datetime(2023, 3, 28, 0, 0, tzinfo=TzInfo(UTC)), line_items=[LineItem(item_name='Total Revenue', price=456800000000.0), LineItem(item_name='Total Expenditures', price=496900000000.0), LineItem(item_name='Deficit', price=40100000000.0), LineItem(item_name='Net New Spending (6 years)', price=43000000000.0), LineItem(item_name='Green Technology Tax Credit', price=20000000000.0), LineItem(item_name='Means-Tested Dental Care Program', price=13000000000.0), LineItem(item_name='Grocery Rebate', price=467.0), LineItem(item_name='Canada Student Grants Increase', price=0.0), LineItem(item_name='Spending Cuts', price=-15000000000.0), LineItem(item_name='Stock Buybacks Tax Revenue', price=0.0)])\n"
     ]
    }
   ],
   "source": [
    "from pprint import pprint\n",
    "\n",
    "pprint(response.raw)"
   ]
  },
  {
   "cell_type": "code",
   "execution_count": 8,
   "metadata": {},
   "outputs": [],
   "source": [
    "from llama_index.core.prompts import PromptTemplate\n",
    "\n",
    "prompt = PromptTemplate(\n",
    "    \"Extract an invoice from the following text. If you cannot find an invoice ID, use the company name '{company_name}' and the date as the invoice ID: {text}\"\n",
    ")\n",
    "\n",
    "response = llm.structured_predict(\n",
    "    Invoice, prompt, text=text, company_name=\"Uber\"\n",
    ")"
   ]
  },
  {
   "cell_type": "code",
   "execution_count": 9,
   "metadata": {},
   "outputs": [
    {
     "data": {
      "text/plain": [
       "Invoice(invoice_id='Uber-2023-03-28', date=datetime.datetime(2023, 3, 28, 0, 0), line_items=[LineItem(item_name='Total revenue', price=456800000000.0), LineItem(item_name='Total expenditures', price=496900000000.0), LineItem(item_name='Deficit', price=40100000000.0)])"
      ]
     },
     "execution_count": 9,
     "metadata": {},
     "output_type": "execute_result"
    }
   ],
   "source": [
    "response"
   ]
  },
  {
   "cell_type": "code",
   "execution_count": 10,
   "metadata": {},
   "outputs": [
    {
     "name": "stdout",
     "output_type": "stream",
     "text": [
      "{\n",
      "  \"invoice_id\": \"Uber-2023-03-28\",\n",
      "  \"date\": \"2023-03-28T00:00:00\",\n",
      "  \"line_items\": [\n",
      "    {\n",
      "      \"item_name\": \"Total revenue\",\n",
      "      \"price\": 456800000000.0\n",
      "    },\n",
      "    {\n",
      "      \"item_name\": \"Total expenditures\",\n",
      "      \"price\": 496900000000.0\n",
      "    },\n",
      "    {\n",
      "      \"item_name\": \"Deficit\",\n",
      "      \"price\": 40100000000.0\n",
      "    }\n",
      "  ]\n",
      "}\n"
     ]
    }
   ],
   "source": [
    "json_output = response.model_dump_json()\n",
    "print(json.dumps(json.loads(json_output), indent=2))"
   ]
  },
  {
   "cell_type": "markdown",
   "metadata": {},
   "source": [
    "# Structured Prediction"
   ]
  },
  {
   "cell_type": "code",
   "execution_count": 11,
   "metadata": {},
   "outputs": [],
   "source": [
    "from llama_index.core.prompts import PromptTemplate\n",
    "\n",
    "prompt = PromptTemplate(\n",
    "    \"Extract an invoice from the following text. If you cannot find an invoice ID, use the company name '{company_name}' and the date as the invoice ID: {text}\"\n",
    ")\n",
    "\n",
    "response = llm.structured_predict(\n",
    "    Invoice, prompt, text=text, company_name=\"Uber\"\n",
    ")"
   ]
  },
  {
   "cell_type": "code",
   "execution_count": 12,
   "metadata": {},
   "outputs": [
    {
     "name": "stdout",
     "output_type": "stream",
     "text": [
      "{\n",
      "  \"invoice_id\": \"Uber_2023-03-28\",\n",
      "  \"date\": \"2023-03-28T00:00:00Z\",\n",
      "  \"line_items\": [\n",
      "    {\n",
      "      \"item_name\": \"Total revenue\",\n",
      "      \"price\": 456800000000.0\n",
      "    },\n",
      "    {\n",
      "      \"item_name\": \"Total expenditures\",\n",
      "      \"price\": 496900000000.0\n",
      "    },\n",
      "    {\n",
      "      \"item_name\": \"Deficit\",\n",
      "      \"price\": 40100000000.0\n",
      "    },\n",
      "    {\n",
      "      \"item_name\": \"Net new spending over six years\",\n",
      "      \"price\": 43000000000.0\n",
      "    },\n",
      "    {\n",
      "      \"item_name\": \"Refundable tax credit for green technologies\",\n",
      "      \"price\": 20000000000.0\n",
      "    },\n",
      "    {\n",
      "      \"item_name\": \"Means-tested dental care program\",\n",
      "      \"price\": 13000000000.0\n",
      "    },\n",
      "    {\n",
      "      \"item_name\": \"Grocery rebate for eligible families\",\n",
      "      \"price\": 467.0\n",
      "    },\n",
      "    {\n",
      "      \"item_name\": \"Grocery rebate for eligible single people\",\n",
      "      \"price\": 234.0\n",
      "    },\n",
      "    {\n",
      "      \"item_name\": \"Spending cuts\",\n",
      "      \"price\": 15000000000.0\n",
      "    }\n",
      "  ]\n",
      "}\n"
     ]
    }
   ],
   "source": [
    "json_output = response.model_dump_json()\n",
    "print(json.dumps(json.loads(json_output), indent=2))"
   ]
  },
  {
   "cell_type": "markdown",
   "metadata": {},
   "source": [
    "# Low-level structured data extraction"
   ]
  },
  {
   "cell_type": "markdown",
   "metadata": {},
   "source": [
    "## Calling tools directly"
   ]
  },
  {
   "cell_type": "code",
   "execution_count": 14,
   "metadata": {},
   "outputs": [
    {
     "name": "stdout",
     "output_type": "stream",
     "text": [
      "invoice_id='2023 Canadian federal budget' date=datetime.datetime(2023, 3, 28, 0, 0, tzinfo=TzInfo(UTC)) line_items=[LineItem(item_name='Total revenue', price=456.8), LineItem(item_name='Total expenditures', price=496.9), LineItem(item_name='Deficit', price=40.1)]\n"
     ]
    }
   ],
   "source": [
    "from llama_index.core.program.function_program import get_function_tool\n",
    "\n",
    "tool = get_function_tool(Invoice)\n",
    "llm = OpenAI(model=\"gpt-3.5-turbo\")\n",
    "resp = llm.chat_with_tools(\n",
    "    [tool],\n",
    "    # chat_history=chat_history,  # can optionally pass in chat history instead of user_msg\n",
    "    user_msg=\"Extract an invoice from the following text: \" + text,\n",
    "    # tool_choice=\"Invoice\",  # can optionally force the tool call\n",
    ")\n",
    "\n",
    "tool_calls = llm.get_tool_calls_from_response(\n",
    "    resp, error_on_no_tool_calls=False\n",
    ")\n",
    "\n",
    "outputs = []\n",
    "for tool_call in tool_calls:\n",
    "    if tool_call.tool_name == \"Invoice\":\n",
    "        outputs.append(Invoice(**tool_call.tool_kwargs))\n",
    "\n",
    "# use your outputs\n",
    "print(outputs[0])"
   ]
  },
  {
   "cell_type": "code",
   "execution_count": 16,
   "metadata": {},
   "outputs": [
    {
     "name": "stdout",
     "output_type": "stream",
     "text": [
      "[LineItem(item_name='Total revenue', price=456.8)]\n"
     ]
    }
   ],
   "source": [
    "from llama_index.core.program.function_program import get_function_tool\n",
    "\n",
    "tool = get_function_tool(LineItem)\n",
    "\n",
    "resp = llm.chat_with_tools(\n",
    "    [tool],\n",
    "    user_msg=\"Extract line items from the following text: \" + text,\n",
    "    allow_parallel_tool_calls=True,\n",
    ")\n",
    "\n",
    "tool_calls = llm.get_tool_calls_from_response(\n",
    "    resp, error_on_no_tool_calls=False\n",
    ")\n",
    "\n",
    "outputs = []\n",
    "for tool_call in tool_calls:\n",
    "    if tool_call.tool_name == \"LineItem\":\n",
    "        outputs.append(LineItem(**tool_call.tool_kwargs))\n",
    "\n",
    "# use your outputs\n",
    "print(outputs)"
   ]
  },
  {
   "cell_type": "code",
   "execution_count": 17,
   "metadata": {},
   "outputs": [
    {
     "name": "stdout",
     "output_type": "stream",
     "text": [
      "{\n",
      "  \"invoice_id\": \"2023-001\",\n",
      "  \"date\": \"2023-03-28T00:00:00Z\",\n",
      "  \"line_items\": [\n",
      "    {\n",
      "      \"item_name\": \"Total Revenue\",\n",
      "      \"price\": 456.8\n",
      "    },\n",
      "    {\n",
      "      \"item_name\": \"Total Expenditures\",\n",
      "      \"price\": 496.9\n",
      "    },\n",
      "    {\n",
      "      \"item_name\": \"Deficit\",\n",
      "      \"price\": 40.1\n",
      "    }\n",
      "  ]\n",
      "}\n",
      "Invoice(invoice_id='2023-001', date=datetime.datetime(2023, 3, 28, 0, 0, tzinfo=TzInfo(UTC)), line_items=[LineItem(item_name='Total Revenue', price=456.8), LineItem(item_name='Total Expenditures', price=496.9), LineItem(item_name='Deficit', price=40.1)])\n"
     ]
    }
   ],
   "source": [
    "schema = Invoice.model_json_schema()\n",
    "prompt = \"Here is a JSON schema for an invoice: \" + json.dumps(\n",
    "    schema, indent=2\n",
    ")\n",
    "prompt += (\n",
    "    \"\"\"\n",
    "  Extract an invoice from the following text.\n",
    "  Format your output as a JSON object according to the schema above.\n",
    "  Do not include any other text than the JSON object.\n",
    "  Omit any markdown formatting. Do not include any preamble or explanation.\n",
    "\"\"\"\n",
    "    + text\n",
    ")\n",
    "\n",
    "response = llm.complete(prompt)\n",
    "\n",
    "print(response)\n",
    "\n",
    "invoice = Invoice.model_validate_json(response.text)\n",
    "\n",
    "pprint(invoice)"
   ]
  },
  {
   "cell_type": "code",
   "execution_count": null,
   "metadata": {},
   "outputs": [],
   "source": []
  }
 ],
 "metadata": {
  "kernelspec": {
   "display_name": "py311",
   "language": "python",
   "name": "python3"
  },
  "language_info": {
   "codemirror_mode": {
    "name": "ipython",
    "version": 3
   },
   "file_extension": ".py",
   "mimetype": "text/x-python",
   "name": "python",
   "nbconvert_exporter": "python",
   "pygments_lexer": "ipython3",
   "version": "3.11.9"
  }
 },
 "nbformat": 4,
 "nbformat_minor": 2
}
