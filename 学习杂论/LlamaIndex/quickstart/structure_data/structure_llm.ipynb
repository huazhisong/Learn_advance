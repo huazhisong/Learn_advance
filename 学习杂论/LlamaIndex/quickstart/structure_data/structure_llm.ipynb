{
 "cells": [
  {
   "cell_type": "code",
   "execution_count": 1,
   "metadata": {},
   "outputs": [],
   "source": [
    "from datetime import datetime\n",
    "from pydantic import BaseModel, Field\n",
    "\n",
    "\n",
    "class LineItem(BaseModel):\n",
    "    \"\"\"A line item in an invoice.\"\"\"\n",
    "\n",
    "    item_name: str = Field(description=\"The name of this item\")\n",
    "    price: float = Field(description=\"The price of this item\")\n",
    "\n",
    "\n",
    "class Invoice(BaseModel):\n",
    "    \"\"\"A representation of information from an invoice.\"\"\"\n",
    "\n",
    "    invoice_id: str = Field(\n",
    "        description=\"A unique identifier for this invoice, often a number\"\n",
    "    )\n",
    "    date: datetime = Field(description=\"The date this invoice was created\")\n",
    "    line_items: list[LineItem] = Field(\n",
    "        description=\"A list of all the items in this invoice\"\n",
    "    )"
   ]
  },
  {
   "cell_type": "code",
   "execution_count": 2,
   "metadata": {},
   "outputs": [],
   "source": [
    "from llama_index.readers.file import PDFReader\n",
    "from pathlib import Path\n",
    "\n",
    "pdf_reader = PDFReader()\n",
    "# documents = pdf_reader.load_data(file=Path(\"./uber_receipt.pdf\"))\n",
    "documents = pdf_reader.load_data(file=Path(\"../agent/data/2023_canadian_budget.pdf\"))\n",
    "text = documents[0].text"
   ]
  },
  {
   "cell_type": "code",
   "execution_count": 3,
   "metadata": {},
   "outputs": [
    {
     "data": {
      "text/plain": [
       "'‹\\xa02022 2024›\\n2023 budget of the\\nCanadian federal\\ngovernment\\nSubmitted 28 March 2023\\nPresented 28 March 2023\\nParliament 44th\\nParty Liberal\\nFinance\\nminister\\nChrystia Freeland\\nTotal revenue $456.8 billion\\n(projected)\\nTotal\\nexpenditures\\n$496.9 billion\\n(projected)\\nDeﬁcit $40.1 billion\\n(projected)[ 1 ] \\nGDP TBA\\nWebsite 2023 Budget (http\\ns://www.budget.can\\nada.ca/2023/home-\\naccueil-en.html)\\n2023 Canadian federal budget\\nThe Canadian federal budget for the fiscal years of 2023–24 was\\npresented to the House of Commons by Finance Minister Chrystia\\nFreeland on 28 March 2023.[2] The budget was meant to reflect\\nPrime Minister Justin Trudeau\\'s stated policy objective to \"make\\nlife more affordable for Canadians\"[3] while also reducing\\ngovernment expenditures.[4]\\nThe 2023 budget is the seventh budget document introduced in\\nthe House of Commons under the premiership of Justin Trudeau.\\nIt comes at the heel of the first anniversary of the Russian\\ninvasion of Ukraine, following which Canada sent one billion\\ndollars in military aid to Ukraine.[5]\\nUnited States President Joe Biden\\'s Inflation Reduction Act of\\n2022 included unprecedented investments in initiatives aimed at\\npromoting Green growth. Canada was expected to announce\\nsimilar investments in its 2023 budget in order to remain\\ncompetitive with its southern neighbour.[6]\\nOn 22 June 2023, all parts of the budget received Royal assent,\\nand became law.[7]\\nThe budget included $43B in net new spending over six years,[8]\\nincluding $20B for a new 15 per cent refundable tax credit to\\npromote investment in green technologies.[9] $13B was also\\nallocated to implement a means-tested dental care program, a\\npolicy originating in the NDP-Liberal deal of 2022.[8] The Canadian Dental Care Plan began rollout in\\nDecember 2023.[10]\\nThe budget introduced a \"grocery rebate\" of up to $467 for eligible families and up to $234 for eligible\\nsingle people with no kids. The Canada Student Grants also saw a 40% increase in funding.[11]\\nFreeland issued $15B of spending cuts, achieved by defunding public services and cancelling\\npreviously announced programs.[12] A new tax 2% on stock buybacks was also introduced.[11]\\nBackground\\nMeasures\\nHousing\\n6/19/24, 1:59 PM 2023 Canadian federal budget - Wikipedia\\nhttps://en.wikipedia.org/wiki/2023_Canadian_federal_budget 1/4'"
      ]
     },
     "execution_count": 3,
     "metadata": {},
     "output_type": "execute_result"
    }
   ],
   "source": [
    "text"
   ]
  },
  {
   "cell_type": "code",
   "execution_count": 4,
   "metadata": {},
   "outputs": [],
   "source": [
    "# from llama_index.llms.openai import OpenAI\n",
    "# llm = OpenAI(model=\"gpt-4o\")\n",
    "from llama_index.llms.ollama import Ollama\n",
    "llm = Ollama(model=\"qwen2.5:7b\", request_timeout=720.0)\n",
    "sllm = llm.as_structured_llm(Invoice)\n",
    "\n",
    "response = sllm.complete(text)"
   ]
  },
  {
   "cell_type": "code",
   "execution_count": 5,
   "metadata": {},
   "outputs": [
    {
     "name": "stdout",
     "output_type": "stream",
     "text": [
      "{\n",
      "  \"invoice_id\": \"BC2023-01\",\n",
      "  \"date\": \"2023-06-22T00:00:00Z\",\n",
      "  \"line_items\": [\n",
      "    {\n",
      "      \"item_name\": \"Budget Presentation to the House of Commons\",\n",
      "      \"price\": 0.0\n",
      "    },\n",
      "    {\n",
      "      \"item_name\": \"Introduction of Net New Spending Over Six Years ($43B)\",\n",
      "      \"price\": 43000000000.0\n",
      "    },\n",
      "    {\n",
      "      \"item_name\": \"Green Technologies Tax Credit (15% Refundable, $20B)\",\n",
      "      \"price\": 20000000000.0\n",
      "    },\n",
      "    {\n",
      "      \"item_name\": \"Dental Care Program ($13B for Means-Tested Dental Coverage)\",\n",
      "      \"price\": 13000000000.0\n",
      "    },\n",
      "    {\n",
      "      \"item_name\": \"Grocery Rebate (Up to $467 for Families, Up to $234 for Singles Without Kids)\",\n",
      "      \"price\": 0.0\n",
      "    },\n",
      "    {\n",
      "      \"item_name\": \"Increased Canada Student Grants Funding (40% Increase in Funding)\",\n",
      "      \"price\": 0.0\n",
      "    },\n",
      "    {\n",
      "      \"item_name\": \"Spending Cuts ($15B Achieved by Defunding Public Services and Canceling Programs)\",\n",
      "      \"price\": -15000000000.0\n",
      "    },\n",
      "    {\n",
      "      \"item_name\": \"Stock Buyback Tax (2% on Stock Buybacks)\",\n",
      "      \"price\": 0.0\n",
      "    }\n",
      "  ]\n",
      "}\n"
     ]
    }
   ],
   "source": [
    "import json\n",
    "json_response = json.loads(response.text)\n",
    "print(json.dumps(json_response, indent=2))"
   ]
  },
  {
   "cell_type": "code",
   "execution_count": null,
   "metadata": {},
   "outputs": [],
   "source": []
  }
 ],
 "metadata": {
  "kernelspec": {
   "display_name": "py311",
   "language": "python",
   "name": "python3"
  },
  "language_info": {
   "codemirror_mode": {
    "name": "ipython",
    "version": 3
   },
   "file_extension": ".py",
   "mimetype": "text/x-python",
   "name": "python",
   "nbconvert_exporter": "python",
   "pygments_lexer": "ipython3",
   "version": "3.11.9"
  }
 },
 "nbformat": 4,
 "nbformat_minor": 2
}
