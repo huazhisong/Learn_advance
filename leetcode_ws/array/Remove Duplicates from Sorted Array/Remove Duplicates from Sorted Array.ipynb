{
 "cells": [
  {
   "cell_type": "markdown",
   "metadata": {},
   "source": [
    "Given a sorted array, remove the duplicates in place such that each element appear only once and return the new length.\n",
    "Do not allocate extra space for another array, you must do this in place with constant memory.\n",
    "For example, Given input array A = [1,1,2],\n",
    "Your function should return length = 2, and A is now [1,2]."
   ]
  },
  {
   "cell_type": "code",
   "execution_count": 8,
   "metadata": {
    "collapsed": true
   },
   "outputs": [],
   "source": [
    "class Solution(object):\n",
    "    def removeDuplicates(self, nums):\n",
    "        \"\"\"\n",
    "        \n",
    "        :type nums: List[int]\n",
    "        :rtype: int\n",
    "        \"\"\"\n",
    "        nums_len = len(nums)\n",
    "        if nums_len  < 2:\n",
    "            return nums_len\n",
    "        i = 0\n",
    "        j = 0\n",
    "        while j < nums_len:\n",
    "            print(j)\n",
    "            if nums[i] != nums[j]:\n",
    "                i += 1\n",
    "                nums[i] = nums[j]\n",
    "            j += 1\n",
    "        return i + 1\n"
   ]
  },
  {
   "cell_type": "code",
   "execution_count": 9,
   "metadata": {},
   "outputs": [
    {
     "data": {
      "text/plain": [
       "[1]"
      ]
     },
     "execution_count": 9,
     "metadata": {},
     "output_type": "execute_result"
    }
   ],
   "source": [
    "Solution().removeDuplicates([1])"
   ]
  },
  {
   "cell_type": "markdown",
   "metadata": {
    "collapsed": true
   },
   "source": [
    "总是把这句\n",
    "    if nums_len  < 2:\n",
    "        return nums_len \n",
    "写成\n",
    "    if nums_len  < 2:\n",
    "        return nums\n",
    "结果总是报一些莫名的错误。\n",
    "Line 58: TypeError: range() integer end argument expected, got list."
   ]
  },
  {
   "cell_type": "markdown",
   "metadata": {
    "collapsed": true
   },
   "source": [
    "一定要注意将数组进行重新安排，不能只返回新数组的长度。"
   ]
  },
  {
   "cell_type": "code",
   "execution_count": 19,
   "metadata": {
    "collapsed": true
   },
   "outputs": [],
   "source": [
    "class Solution:\n",
    "    # @param a list of integers\n",
    "    # @return an integer\n",
    "    def removeDuplicates(self, A):\n",
    "        \"\"\"\n",
    "            这种方法是将i遍历数组，查找不同的值，\n",
    "            j记录当前对比的值，所以每次找到不同的\n",
    "            值，A[j+1] = A[i]就好\n",
    "            令人疑惑的是A[i] = A[j+1]，为什么要把A[j+1]的值\n",
    "            复制给A[i]呢，i指针会继续加1，根本用不到这一步\n",
    "        \"\"\"\n",
    "        if len(A) == 0:\n",
    "            return 0\n",
    "        j = 0\n",
    "        for i in range(0, len(A)):\n",
    "            print(i, j)\n",
    "            if A[i] != A[j]:\n",
    "                A[i], A[j+1] = A[j+1], A[i]\n",
    "                j = j + 1\n",
    "                print(A, 'change', i,j)\n",
    "        return j+1\n",
    "    def removeDuplicates_change(self, A):\n",
    "        \"\"\"\n",
    "            事实证明我的想法是对的，唯一的区别在于\n",
    "            其方法保全了整个数组，使其数组中的元素\n",
    "            不会改变，原来是俩个2，后面还是两个2\n",
    "        \"\"\"\n",
    "        if len(A) == 0:\n",
    "            return 0\n",
    "        j = 0\n",
    "        for i in range(0, len(A)):\n",
    "            print(i, j)\n",
    "            if A[i] != A[j]:\n",
    "                A[j+1] = A[i]\n",
    "                j = j + 1\n",
    "                print(A, 'change', i,j)\n",
    "        return j+1"
   ]
  },
  {
   "cell_type": "code",
   "execution_count": 15,
   "metadata": {},
   "outputs": [
    {
     "name": "stdout",
     "output_type": "stream",
     "text": [
      "0 0\n",
      "1 0\n",
      "[1, 2, 2, 3, 3, 3, 4, 4, 4, 4, 4] change 1 1\n",
      "2 1\n",
      "3 1\n",
      "[1, 2, 3, 2, 3, 3, 4, 4, 4, 4, 4] change 3 2\n",
      "4 2\n",
      "5 2\n",
      "6 2\n",
      "[1, 2, 3, 4, 3, 3, 2, 4, 4, 4, 4] change 6 3\n",
      "7 3\n",
      "8 3\n",
      "9 3\n",
      "10 3\n"
     ]
    },
    {
     "data": {
      "text/plain": [
       "4"
      ]
     },
     "execution_count": 15,
     "metadata": {},
     "output_type": "execute_result"
    }
   ],
   "source": [
    "Solution().removeDuplicates([1, 2, 2, 3, 3, 3 ,4, 4, 4, 4, 4])"
   ]
  },
  {
   "cell_type": "code",
   "execution_count": 20,
   "metadata": {},
   "outputs": [
    {
     "name": "stdout",
     "output_type": "stream",
     "text": [
      "0 0\n",
      "1 0\n",
      "[1, 2, 2, 3, 3, 3, 4, 4, 4, 4, 4] change 1 1\n",
      "2 1\n",
      "3 1\n",
      "[1, 2, 3, 3, 3, 3, 4, 4, 4, 4, 4] change 3 2\n",
      "4 2\n",
      "5 2\n",
      "6 2\n",
      "[1, 2, 3, 4, 3, 3, 4, 4, 4, 4, 4] change 6 3\n",
      "7 3\n",
      "8 3\n",
      "9 3\n",
      "10 3\n"
     ]
    },
    {
     "data": {
      "text/plain": [
       "4"
      ]
     },
     "execution_count": 20,
     "metadata": {},
     "output_type": "execute_result"
    }
   ],
   "source": [
    "Solution().removeDuplicates_change([1, 2, 2, 3, 3, 3 ,4, 4, 4, 4, 4])"
   ]
  },
  {
   "cell_type": "code",
   "execution_count": null,
   "metadata": {
    "collapsed": true
   },
   "outputs": [],
   "source": []
  }
 ],
 "metadata": {
  "kernelspec": {
   "display_name": "Python 3",
   "language": "python",
   "name": "python3"
  },
  "language_info": {
   "codemirror_mode": {
    "name": "ipython",
    "version": 3
   },
   "file_extension": ".py",
   "mimetype": "text/x-python",
   "name": "python",
   "nbconvert_exporter": "python",
   "pygments_lexer": "ipython3",
   "version": "3.6.1"
  }
 },
 "nbformat": 4,
 "nbformat_minor": 2
}
