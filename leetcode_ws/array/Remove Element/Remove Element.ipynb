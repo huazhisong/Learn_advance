{
 "cells": [
  {
   "cell_type": "markdown",
   "metadata": {},
   "source": [
    "Given an array and a value, remove all instances of that value in place and return the new length.\n",
    "\n",
    "Do not allocate extra space for another array, you must do this in place with constant memory.\n",
    "\n",
    "The order of elements can be changed. It doesn't matter what you leave beyond the new length.\n",
    "\n",
    "Example:\n",
    "Given input array nums = [3,2,2,3], val = 3\n",
    "\n",
    "Your function should return length = 2, with the first two elements of nums being 2."
   ]
  },
  {
   "cell_type": "code",
   "execution_count": 33,
   "metadata": {
    "collapsed": true
   },
   "outputs": [],
   "source": [
    "class Solution(object):\n",
    "    def removeElement(self, nums, val):\n",
    "        \"\"\"\n",
    "        :type nums: List[int]\n",
    "        :type val: int\n",
    "        :rtype: int\n",
    "        \"\"\"\n",
    "        nums_len = len(nums)\n",
    "        i, j = 0, 0\n",
    "        while j < nums_len:\n",
    "            if nums[j] != val:\n",
    "                nums[i] = nums[j]\n",
    "                i += 1\n",
    "            j += 1\n",
    "        return i"
   ]
  },
  {
   "cell_type": "code",
   "execution_count": 34,
   "metadata": {},
   "outputs": [
    {
     "data": {
      "text/plain": [
       "0"
      ]
     },
     "execution_count": 34,
     "metadata": {},
     "output_type": "execute_result"
    }
   ],
   "source": [
    "Solution().removeElement([1], 1)"
   ]
  },
  {
   "cell_type": "code",
   "execution_count": 3,
   "metadata": {
    "collapsed": true
   },
   "outputs": [],
   "source": [
    "class Solution:\n",
    "    # @param    A       a list of integers\n",
    "    # @param    elem    an integer, value need to be removed\n",
    "    # @return an integer\n",
    "    # clrs qsort\n",
    "    def removeElement(self, A, elem):\n",
    "        \"\"\"\n",
    "            这种方法是将target的值倒序放到后面\n",
    "            虽然保全整个数组的完整性，但是数组\n",
    "            的元素顺序并不是原来的顺序了\n",
    "            \n",
    "        \"\"\"\n",
    "        j = len(A)-1\n",
    "        for i in range(len(A) - 1, -1, -1):\n",
    "            if A[i] == elem:\n",
    "                A[i], A[j] = A[j], A[i]\n",
    "                j -= 1\n",
    "                print(A)\n",
    "        return j+1"
   ]
  },
  {
   "cell_type": "code",
   "execution_count": 5,
   "metadata": {},
   "outputs": [
    {
     "name": "stdout",
     "output_type": "stream",
     "text": [
      "[3, 2, 4, 8, 5, 6, 3]\n",
      "[6, 2, 4, 8, 5, 3, 3]\n"
     ]
    },
    {
     "data": {
      "text/plain": [
       "5"
      ]
     },
     "execution_count": 5,
     "metadata": {},
     "output_type": "execute_result"
    }
   ],
   "source": [
    "Solution().removeElement([3, 2, 4, 3, 5, 6, 8], 3)"
   ]
  },
  {
   "cell_type": "code",
   "execution_count": null,
   "metadata": {
    "collapsed": true
   },
   "outputs": [],
   "source": []
  }
 ],
 "metadata": {
  "kernelspec": {
   "display_name": "Python 3",
   "language": "python",
   "name": "python3"
  },
  "language_info": {
   "codemirror_mode": {
    "name": "ipython",
    "version": 3
   },
   "file_extension": ".py",
   "mimetype": "text/x-python",
   "name": "python",
   "nbconvert_exporter": "python",
   "pygments_lexer": "ipython3",
   "version": "3.6.1"
  }
 },
 "nbformat": 4,
 "nbformat_minor": 2
}
