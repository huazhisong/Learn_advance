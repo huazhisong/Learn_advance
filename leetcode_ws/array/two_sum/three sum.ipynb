{
 "cells": [
  {
   "cell_type": "markdown",
   "metadata": {},
   "source": [
    "给定一个数组，查找里面所有加和等于零的triplets。"
   ]
  },
  {
   "cell_type": "code",
   "execution_count": null,
   "metadata": {
    "collapsed": true
   },
   "outputs": [],
   "source": [
    "def threesum(nums):\n",
    "    # nums length\n",
    "    nums_len = len(nums)\n",
    "    # add index to tmp\n",
    "    tmp = list()\n",
    "    for i in range(nums_len):\n",
    "        tmp.append([nums[i], i])\n",
    "    # sorted nums\n",
    "    tmp = sorted(tmp, key=lambda a: a[0])\n",
    "    \n",
    "    # init pointers\n",
    "    i = 0, j = 1, k = nums_len - 1\n",
    "    while True:\n",
    "        sum = tmp[i][0] + tmp[j][0] + tmp[k][0]\n",
    "        if sum > 0:\n",
    "            k -= 1\n",
    "        elif sum < 0:\n",
    "            j += 1\n",
    "        \n",
    "            "
   ]
  }
 ],
 "metadata": {
  "kernelspec": {
   "display_name": "Python 3",
   "language": "python",
   "name": "python3"
  },
  "language_info": {
   "codemirror_mode": {
    "name": "ipython",
    "version": 3
   },
   "file_extension": ".py",
   "mimetype": "text/x-python",
   "name": "python",
   "nbconvert_exporter": "python",
   "pygments_lexer": "ipython3",
   "version": "3.5.3"
  }
 },
 "nbformat": 4,
 "nbformat_minor": 2
}
