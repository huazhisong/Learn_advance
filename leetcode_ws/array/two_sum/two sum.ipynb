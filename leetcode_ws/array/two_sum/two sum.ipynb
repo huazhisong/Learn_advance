{
 "cells": [
  {
   "cell_type": "markdown",
   "metadata": {},
   "source": [
    "\n",
    "    "
   ]
  },
  {
   "cell_type": "markdown",
   "metadata": {},
   "source": [
    "给定一个数组和一个target数字，找到数组中加起来等于target的两个数，并返回他们的索引。\n",
    "假定答案是唯一的，并且不允许两个数的索引是相同的。"
   ]
  },
  {
   "cell_type": "code",
   "execution_count": 22,
   "metadata": {
    "collapsed": true
   },
   "outputs": [],
   "source": [
    "def twoSum(nums, target):\n",
    "    \"\"\"\n",
    "    :type nums: List[int]\n",
    "    :type target: int\n",
    "    :rtype: List[int]\n",
    "    \"\"\"\n",
    "    i = 0\n",
    "    nums_len = len(nums)\n",
    "    j = nums_len - 1\n",
    "    nums_sorted = sorted(nums)\n",
    "    while i < j:\n",
    "        sum = nums_sorted[i] + nums_sorted[j]\n",
    "        if sum < target:\n",
    "            i += 1\n",
    "        elif sum > target:\n",
    "            j -= 1\n",
    "        else:\n",
    "            ii =  nums.index(nums_sorted[i])\n",
    "            if nums_sorted[i] == nums_sorted[j]:\n",
    "                nums.pop(ii)\n",
    "                j = nums.index(nums_sorted[j]) + 1\n",
    "            else:\n",
    "                j = nums.index(nums_sorted[j])\n",
    "            return min(ii, j), max(ii, j)\n",
    "             "
   ]
  },
  {
   "cell_type": "markdown",
   "metadata": {},
   "source": [
    "将数组nums的index记录起来，然后一起排序，根据加和移动i，j指针，最后注意返回的参数是有顺序的"
   ]
  },
  {
   "cell_type": "code",
   "execution_count": 7,
   "metadata": {
    "collapsed": true
   },
   "outputs": [],
   "source": [
    "def twoSum(nums, target):\n",
    "    a = list()\n",
    "    nums_len = len(nums)\n",
    "    for i in range(nums_len):\n",
    "        a.append([nums[i], i])\n",
    "    a = sorted(a, key=lambda a: a[0])\n",
    "    i = 0\n",
    "    j = nums_len - 1\n",
    "    while i < j:\n",
    "        sum = a[i][0] + a[j][0]\n",
    "        if sum == target:\n",
    "            return [a[i][1], a[j][1]] if a[i][1] <  a[j][1] else [a[j][1], a[i][1]]\n",
    "        elif sum < target:\n",
    "            i += 1\n",
    "        else:\n",
    "            j -= 1"
   ]
  },
  {
   "cell_type": "code",
   "execution_count": 8,
   "metadata": {},
   "outputs": [
    {
     "name": "stdout",
     "output_type": "stream",
     "text": [
      "[0, 1]\n"
     ]
    }
   ],
   "source": [
    "nums = [3, 3]\n",
    "print(twoSum(nums, 6))"
   ]
  },
  {
   "cell_type": "code",
   "execution_count": 15,
   "metadata": {
    "collapsed": true
   },
   "outputs": [],
   "source": [
    "class Solution(object):\n",
    "    def twoSum(self, nums, target):\n",
    "        \"\"\"\n",
    "        将已经看到的内容放进篮子里面，并记录其index，\n",
    "        每次查找篮子里面没有对应的值。\n",
    "        :type nums: List[int]\n",
    "        :type target: int\n",
    "        :rtype: List[int]\n",
    "        \"\"\"\n",
    "        lookup = {}\n",
    "        for i, num in enumerate(nums):\n",
    "            if target - num in lookup:\n",
    "                return [lookup[target - num], i]\n",
    "            lookup[num] = i\n",
    "            print(lookup)\n",
    "        return []\n",
    "\n",
    "    def twoSum2(self, nums, target):\n",
    "        \"\"\"\n",
    "        每次都查找当前查找值的后面的值，前一个方法是向后查找，\n",
    "        这个方法是向前查找。\n",
    "        :type nums: List[int]\n",
    "        :type target: int\n",
    "        :rtype: List[int]\n",
    "        \"\"\"\n",
    "        k = 0\n",
    "        for i in nums:\n",
    "            j = target - i\n",
    "            k += 1\n",
    "            tmp_nums = nums[k:]\n",
    "            print(tmp_nums)\n",
    "            if j in tmp_nums:\n",
    "                return [k - 1, tmp_nums.index(j) + k]"
   ]
  },
  {
   "cell_type": "code",
   "execution_count": 16,
   "metadata": {},
   "outputs": [
    {
     "name": "stdout",
     "output_type": "stream",
     "text": [
      "(2, 7, 3)\n"
     ]
    },
    {
     "data": {
      "text/plain": [
       "[0, 3]"
      ]
     },
     "execution_count": 16,
     "metadata": {},
     "output_type": "execute_result"
    }
   ],
   "source": [
    "Solution().twoSum2((3, 2, 7, 3), 6)"
   ]
  },
  {
   "cell_type": "markdown",
   "metadata": {},
   "source": [
    "这两个方法hen"
   ]
  }
 ],
 "metadata": {
  "kernelspec": {
   "display_name": "Python 3",
   "language": "python",
   "name": "python3"
  },
  "language_info": {
   "codemirror_mode": {
    "name": "ipython",
    "version": 3
   },
   "file_extension": ".py",
   "mimetype": "text/x-python",
   "name": "python",
   "nbconvert_exporter": "python",
   "pygments_lexer": "ipython3",
   "version": "3.6.1"
  }
 },
 "nbformat": 4,
 "nbformat_minor": 2
}
