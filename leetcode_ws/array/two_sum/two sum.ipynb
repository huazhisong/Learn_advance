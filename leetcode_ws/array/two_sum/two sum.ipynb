{
 "cells": [
  {
   "cell_type": "markdown",
   "metadata": {},
   "source": [
    "\n",
    "    "
   ]
  },
  {
   "cell_type": "markdown",
   "metadata": {},
   "source": [
    "给定一个数组和一个target数字，找到数组中加起来等于target的两个数，并返回他们的索引。\n",
    "假定答案是唯一的，并且不允许两个数的索引是相同的。"
   ]
  },
  {
   "cell_type": "code",
   "execution_count": 22,
   "metadata": {
    "collapsed": true
   },
   "outputs": [],
   "source": [
    "def twoSum(nums, target):\n",
    "    \"\"\"\n",
    "    :type nums: List[int]\n",
    "    :type target: int\n",
    "    :rtype: List[int]\n",
    "    \"\"\"\n",
    "    i = 0\n",
    "    nums_len = len(nums)\n",
    "    j = nums_len - 1\n",
    "    nums_sorted = sorted(nums)\n",
    "    while i < j:\n",
    "        sum = nums_sorted[i] + nums_sorted[j]\n",
    "        if sum < target:\n",
    "            i += 1\n",
    "        elif sum > target:\n",
    "            j -= 1\n",
    "        else:\n",
    "            ii =  nums.index(nums_sorted[i])\n",
    "            if nums_sorted[i] == nums_sorted[j]:\n",
    "                nums.pop(ii)\n",
    "                j = nums.index(nums_sorted[j]) + 1\n",
    "            else:\n",
    "                j = nums.index(nums_sorted[j])\n",
    "            return min(ii, j), max(ii, j)\n",
    "             "
   ]
  },
  {
   "cell_type": "code",
   "execution_count": 23,
   "metadata": {},
   "outputs": [
    {
     "name": "stdout",
     "output_type": "stream",
     "text": [
      "(1, 2)\n"
     ]
    }
   ],
   "source": [
    "nums = [3, 2, 4]\n",
    "print(twoSum(nums, 6))"
   ]
  },
  {
   "cell_type": "markdown",
   "metadata": {
    "collapsed": true
   },
   "source": [
    "先将数组jinxi"
   ]
  },
  {
   "cell_type": "code",
   "execution_count": null,
   "metadata": {
    "collapsed": true
   },
   "outputs": [],
   "source": []
  }
 ],
 "metadata": {
  "kernelspec": {
   "display_name": "Python 3",
   "language": "python",
   "name": "python3"
  },
  "language_info": {
   "codemirror_mode": {
    "name": "ipython",
    "version": 3
   },
   "file_extension": ".py",
   "mimetype": "text/x-python",
   "name": "python",
   "nbconvert_exporter": "python",
   "pygments_lexer": "ipython3",
   "version": "3.6.1"
  }
 },
 "nbformat": 4,
 "nbformat_minor": 2
}
