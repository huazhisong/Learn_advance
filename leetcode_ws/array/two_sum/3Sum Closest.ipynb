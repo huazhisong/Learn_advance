{
 "cells": [
  {
   "cell_type": "markdown",
   "metadata": {},
   "source": [
    "Given an array S of n integers, find three integers in S such that the sum is closest to a given number, target. Return the sum of the three integers. You may assume that each input would have exactly one solution.\n",
    "\n",
    "    For example, given array S = {-1 2 1 -4}, and target = 1.\n",
    "\n",
    "    The sum that is closest to the target is 2. (-1 + 2 + 1 = 2)."
   ]
  },
  {
   "cell_type": "code",
   "execution_count": 16,
   "metadata": {},
   "outputs": [],
   "source": [
    "import pdb\n",
    "class Solution(object):\n",
    "    def threeSumClosest(self, nums, target):\n",
    "        \"\"\"\n",
    "        :type nums: List[int]\n",
    "        :type target: int\n",
    "        :rtype: int\n",
    "        \"\"\"\n",
    "        # nums list length\n",
    "        nums_len = len(nums)\n",
    "        # sort nums\n",
    "        nums.sort()\n",
    "        \n",
    "#         pdb.set_trace()\n",
    "        delta = abs(target - nums[0] - nums[1] - nums[2])\n",
    "        ans = 0\n",
    "        for i in range(nums_len - 2):\n",
    "            # 次级目标\n",
    "            t_target = target - nums[i]\n",
    "            j = i + 1\n",
    "            k = nums_len - 1\n",
    "            while j < k:\n",
    "                tmp = t_target - nums[j]- nums[k]\n",
    "                if tmp == 0:\n",
    "                    return nums[i] + nums[j] + nums[k]\n",
    "                if abs(tmp) <= delta:\n",
    "                    delta = abs(tmp)\n",
    "                    ans = nums[i] + nums[j] + nums[k]\n",
    "#                     print(i, j, k, ans1, ans2, ans3)\n",
    "                if tmp > 0 :\n",
    "                    j += 1\n",
    "                else:\n",
    "                    k -= 1\n",
    "                    \n",
    "        return ans\n",
    "            "
   ]
  },
  {
   "cell_type": "code",
   "execution_count": 17,
   "metadata": {},
   "outputs": [
    {
     "data": {
      "text/plain": [
       "2"
      ]
     },
     "execution_count": 17,
     "metadata": {},
     "output_type": "execute_result"
    }
   ],
   "source": [
    "Solution().threeSumClosest([-1,2, 1, -4], 1) # answer is 2"
   ]
  },
  {
   "cell_type": "code",
   "execution_count": 18,
   "metadata": {},
   "outputs": [
    {
     "data": {
      "text/plain": [
       "3"
      ]
     },
     "execution_count": 18,
     "metadata": {},
     "output_type": "execute_result"
    }
   ],
   "source": [
    "Solution().threeSumClosest([0, 1, 2], 3)# answer 3 此处没通过是因为27行tmp<= delta,我写成delta<temp"
   ]
  },
  {
   "cell_type": "code",
   "execution_count": 19,
   "metadata": {},
   "outputs": [
    {
     "data": {
      "text/plain": [
       "2"
      ]
     },
     "execution_count": 19,
     "metadata": {},
     "output_type": "execute_result"
    }
   ],
   "source": [
    "Solution().threeSumClosest([1,1,1,0], -100) # answer is 2 此处没有通过是因为忽略tmp和delta应该都是绝对值比较，不能只比较大小，abs(tmp)<= delta"
   ]
  },
  {
   "cell_type": "code",
   "execution_count": 20,
   "metadata": {},
   "outputs": [
    {
     "data": {
      "text/plain": [
       "82"
      ]
     },
     "execution_count": 20,
     "metadata": {},
     "output_type": "execute_result"
    }
   ],
   "source": [
    "Solution().threeSumClosest([1,2,4,8,16,32,64,128], 82) # answer is 82 此处没有通过是因为tmp要知道left和right的走向 修改tmp>0 left += 1, or right -= 1"
   ]
  },
  {
   "cell_type": "code",
   "execution_count": 22,
   "metadata": {},
   "outputs": [
    {
     "data": {
      "text/plain": [
       "-1"
      ]
     },
     "execution_count": 22,
     "metadata": {},
     "output_type": "execute_result"
    }
   ],
   "source": [
    "Solution().threeSumClosest([1,1,-1,-1,3], -1) # answer is -1 ,搞不懂一模一样的代码，当前代码可以通过，自己重新打的一遍死活不过，对比了一下，没有发现哪里有所不同"
   ]
  },
  {
   "cell_type": "code",
   "execution_count": null,
   "metadata": {
    "collapsed": true
   },
   "outputs": [],
   "source": []
  }
 ],
 "metadata": {
  "kernelspec": {
   "display_name": "Python 3",
   "language": "python",
   "name": "python3"
  },
  "language_info": {
   "codemirror_mode": {
    "name": "ipython",
    "version": 3
   },
   "file_extension": ".py",
   "mimetype": "text/x-python",
   "name": "python",
   "nbconvert_exporter": "python",
   "pygments_lexer": "ipython3",
   "version": "3.6.1"
  }
 },
 "nbformat": 4,
 "nbformat_minor": 2
}
