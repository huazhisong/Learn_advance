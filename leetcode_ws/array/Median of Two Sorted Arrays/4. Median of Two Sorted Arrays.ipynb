{
 "cells": [
  {
   "cell_type": "markdown",
   "metadata": {},
   "source": [
    "There are two sorted arrays nums1 and nums2 of size m and n respectively.\n",
    "\n",
    "Find the median of the two sorted arrays. The overall run time complexity should be O(log (m+n)).\n",
    "\n",
    "Example 1:\n",
    "nums1 = [1, 3]\n",
    "nums2 = [2]\n",
    "\n",
    "The median is 2.0\n",
    "Example 2:\n",
    "nums1 = [1, 2]\n",
    "nums2 = [3, 4]\n",
    "\n",
    "The median is (2 + 3)/2 = 2.5"
   ]
  },
  {
   "cell_type": "code",
   "execution_count": 43,
   "metadata": {},
   "outputs": [],
   "source": [
    "import pdb\n",
    "class Solution(object):\n",
    "    def findMedianSortedArrays(self, nums1, nums2):\n",
    "        \"\"\"\n",
    "        :type nums1: List[int]\n",
    "        :type nums2: List[int]\n",
    "        :rtype: float\n",
    "        \"\"\"\n",
    "        # nums1 list length\n",
    "        nums1_len = len(nums1)\n",
    "        nums2_len = len(nums2)\n",
    "        \n",
    "        i, j, k = 0, 0, -1\n",
    "        odd = True if (nums1_len + nums2_len) % 2 == 1  else False\n",
    "        median_index = int((nums1_len + nums2_len) / 2)\n",
    "        tmp = -1\n",
    "        median = 0\n",
    "        while i < nums1_len and j < nums2_len:\n",
    "            tmp = median\n",
    "            if nums1[i] < nums2[j]:\n",
    "                median = nums1[i]\n",
    "                i += 1\n",
    "            else:\n",
    "                median = nums2[j]\n",
    "                j+= 1\n",
    "            k += 1\n",
    "            \n",
    "            if k == median_index and odd:\n",
    "                return median\n",
    "            elif k == median_index and not odd:\n",
    "                return (median+tmp)/ 2.0\n",
    "        while i < nums1_len:\n",
    "            tmp = median\n",
    "            median = nums1[i]\n",
    "            i+=1\n",
    "            k += 1\n",
    "            if k == median_index and odd:\n",
    "                return median\n",
    "            elif k == median_index and not odd:\n",
    "                return (median+tmp)/ 2\n",
    "        while j < nums2_len:\n",
    "            tmp = median\n",
    "            median = nums2[j]\n",
    "            j += 1\n",
    "            k += 1\n",
    "            if k == median_index and odd:\n",
    "                return median\n",
    "            elif k == median_index and not odd:\n",
    "                return (median+tmp)/ 2"
   ]
  },
  {
   "cell_type": "code",
   "execution_count": 44,
   "metadata": {},
   "outputs": [
    {
     "data": {
      "text/plain": [
       "2"
      ]
     },
     "execution_count": 44,
     "metadata": {},
     "output_type": "execute_result"
    }
   ],
   "source": [
    "nums1 = [1, 3]\n",
    "nums2 = [2]\n",
    "Solution().findMedianSortedArrays(nums1, nums2) # answer is 2"
   ]
  },
  {
   "cell_type": "code",
   "execution_count": 45,
   "metadata": {},
   "outputs": [
    {
     "data": {
      "text/plain": [
       "2.5"
      ]
     },
     "execution_count": 45,
     "metadata": {},
     "output_type": "execute_result"
    }
   ],
   "source": [
    "nums1 = [1, 2]\n",
    "nums2 = [3, 4]\n",
    "Solution().findMedianSortedArrays(nums1, nums2) # answer is 2.5"
   ]
  },
  {
   "cell_type": "code",
   "execution_count": 46,
   "metadata": {},
   "outputs": [
    {
     "data": {
      "text/plain": [
       "3.5"
      ]
     },
     "execution_count": 46,
     "metadata": {},
     "output_type": "execute_result"
    }
   ],
   "source": [
    "nums1 = [1, 2, 3, 4]\n",
    "nums2 = [5, 6]\n",
    "Solution().findMedianSortedArrays(nums1, nums2) # answer is 3.5"
   ]
  },
  {
   "cell_type": "code",
   "execution_count": 47,
   "metadata": {},
   "outputs": [
    {
     "data": {
      "text/plain": [
       "3.5"
      ]
     },
     "execution_count": 47,
     "metadata": {},
     "output_type": "execute_result"
    }
   ],
   "source": [
    "nums1 = [1, 2]\n",
    "nums2 = [3, 4, 5, 6]\n",
    "Solution().findMedianSortedArrays(nums1, nums2) # answer is 3.5"
   ]
  },
  {
   "cell_type": "code",
   "execution_count": 48,
   "metadata": {},
   "outputs": [
    {
     "data": {
      "text/plain": [
       "4"
      ]
     },
     "execution_count": 48,
     "metadata": {},
     "output_type": "execute_result"
    }
   ],
   "source": [
    "nums1 = [1, 2, 3, 4, 4]\n",
    "nums2 = [3, 4, 5, 6]\n",
    "Solution().findMedianSortedArrays(nums1, nums2) # answer is 4"
   ]
  },
  {
   "cell_type": "code",
   "execution_count": 49,
   "metadata": {},
   "outputs": [
    {
     "data": {
      "text/plain": [
       "2"
      ]
     },
     "execution_count": 49,
     "metadata": {},
     "output_type": "execute_result"
    }
   ],
   "source": [
    "nums1 = [1, 3]\n",
    "nums2 = [2]\n",
    "Solution().findMedianSortedArrays(nums1, nums2) # answer is 2"
   ]
  },
  {
   "cell_type": "code",
   "execution_count": 50,
   "metadata": {},
   "outputs": [
    {
     "data": {
      "text/plain": [
       "1"
      ]
     },
     "execution_count": 50,
     "metadata": {},
     "output_type": "execute_result"
    }
   ],
   "source": [
    "nums1 = []\n",
    "nums2 = [1]\n",
    "Solution().findMedianSortedArrays(nums1, nums2) # answer is 1"
   ]
  },
  {
   "cell_type": "code",
   "execution_count": 51,
   "metadata": {},
   "outputs": [
    {
     "data": {
      "text/plain": [
       "2.5"
      ]
     },
     "execution_count": 51,
     "metadata": {},
     "output_type": "execute_result"
    }
   ],
   "source": [
    "nums1 = []\n",
    "nums2 = [2, 3 ]\n",
    "Solution().findMedianSortedArrays(nums1, nums2) # answer is 2.5"
   ]
  },
  {
   "cell_type": "code",
   "execution_count": 52,
   "metadata": {},
   "outputs": [
    {
     "data": {
      "text/plain": [
       "3"
      ]
     },
     "execution_count": 52,
     "metadata": {},
     "output_type": "execute_result"
    }
   ],
   "source": [
    "nums1 = []\n",
    "nums2 = [2, 3, 4 ]\n",
    "Solution().findMedianSortedArrays(nums1, nums2) # answer is 3"
   ]
  },
  {
   "cell_type": "code",
   "execution_count": 53,
   "metadata": {},
   "outputs": [
    {
     "data": {
      "text/plain": [
       "3"
      ]
     },
     "execution_count": 53,
     "metadata": {},
     "output_type": "execute_result"
    }
   ],
   "source": [
    "nums1 = [2, 3, 4 ]\n",
    "nums2 = []\n",
    "Solution().findMedianSortedArrays(nums1, nums2) # answer is 3"
   ]
  },
  {
   "cell_type": "code",
   "execution_count": 58,
   "metadata": {},
   "outputs": [
    {
     "data": {
      "text/plain": [
       "3.5"
      ]
     },
     "execution_count": 58,
     "metadata": {},
     "output_type": "execute_result"
    }
   ],
   "source": [
    "nums1 = [3, 4]\n",
    "nums2 = []\n",
    "Solution().findMedianSortedArrays(nums1, nums2) # answer is 3.5"
   ]
  },
  {
   "cell_type": "code",
   "execution_count": 59,
   "metadata": {},
   "outputs": [
    {
     "data": {
      "text/plain": [
       "2"
      ]
     },
     "execution_count": 59,
     "metadata": {},
     "output_type": "execute_result"
    }
   ],
   "source": [
    "nums1 = [2]\n",
    "nums2 = []\n",
    "Solution().findMedianSortedArrays(nums1, nums2) # answer is 2"
   ]
  },
  {
   "cell_type": "markdown",
   "metadata": {},
   "source": [
    "leetcode一定要看清楚，我们用的是python还是python3，哭死了"
   ]
  },
  {
   "cell_type": "code",
   "execution_count": null,
   "metadata": {
    "collapsed": true
   },
   "outputs": [],
   "source": []
  }
 ],
 "metadata": {
  "kernelspec": {
   "display_name": "Python 3",
   "language": "python",
   "name": "python3"
  },
  "language_info": {
   "codemirror_mode": {
    "name": "ipython",
    "version": 3
   },
   "file_extension": ".py",
   "mimetype": "text/x-python",
   "name": "python",
   "nbconvert_exporter": "python",
   "pygments_lexer": "ipython3",
   "version": "3.6.1"
  }
 },
 "nbformat": 4,
 "nbformat_minor": 2
}
