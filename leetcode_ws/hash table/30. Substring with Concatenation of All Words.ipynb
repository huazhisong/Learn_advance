{
 "cells": [
  {
   "cell_type": "markdown",
   "metadata": {},
   "source": [
    "You are given a string, s, and a list of words, words, that are all of the same length. Find all starting indices of substring(s) in s that is a concatenation of each word in words exactly once and without any intervening characters.\n",
    "\n",
    "For example, given:\n",
    "s: \"barfoothefoobarman\"\n",
    "words: [\"foo\", \"bar\"]\n",
    "\n",
    "You should return the indices: [0,9].\n",
    "(order does not matter)."
   ]
  },
  {
   "cell_type": "code",
   "execution_count": 10,
   "metadata": {
    "collapsed": true
   },
   "outputs": [],
   "source": [
    "class Solution(object):\n",
    "    def findSubstring(self, s, words):\n",
    "        \"\"\"\n",
    "        每次判断单词是否在words_set里面\n",
    "        需要注意的是bar的出现的次数比在words中多\n",
    "        :type s: str\n",
    "        :type words: List[str]\n",
    "        :rtype: List[int]\n",
    "        \"\"\"\n",
    "        words_set = {}\n",
    "        word_num = len(words)\n",
    "        for word in words:\n",
    "            if word not in words_set:\n",
    "                words_set[word] = 1\n",
    "            else:\n",
    "                words_set[word] += 1\n",
    "        word_len = len(words[0])\n",
    "        res = []\n",
    "        for i in range(len(s)+1-word_len * word_num):\n",
    "            curr, j = {}, 0\n",
    "            while j < word_num:\n",
    "                word = s[i+j*word_len: i + j*word_len + word_len]\n",
    "                if word not in words_set:\n",
    "                    break\n",
    "                if word not in curr:\n",
    "                    curr[word] = 1\n",
    "                else:\n",
    "                    curr[word] += 1\n",
    "                if curr[word] > words_set[word]: break\n",
    "                j+=1\n",
    "            if j == word_num:\n",
    "                res.append(i)\n",
    "        return res\n",
    "        "
   ]
  },
  {
   "cell_type": "code",
   "execution_count": 11,
   "metadata": {},
   "outputs": [
    {
     "data": {
      "text/plain": [
       "[0, 9]"
      ]
     },
     "execution_count": 11,
     "metadata": {},
     "output_type": "execute_result"
    }
   ],
   "source": [
    "Solution().findSubstring(\"barfoothefoobarman\", [\"foo\", \"bar\"])"
   ]
  },
  {
   "cell_type": "code",
   "execution_count": 3,
   "metadata": {},
   "outputs": [],
   "source": [
    "def all_sorted(s):\n",
    "    if len(s) == 1:\n",
    "        return s[0]\n",
    "    else:\n",
    "        return s[0]+all_sorted(s[1:])"
   ]
  },
  {
   "cell_type": "code",
   "execution_count": 4,
   "metadata": {},
   "outputs": [
    {
     "data": {
      "text/plain": [
       "'foobar'"
      ]
     },
     "execution_count": 4,
     "metadata": {},
     "output_type": "execute_result"
    }
   ],
   "source": [
    "all_sorted([\"foo\", \"bar\"])"
   ]
  },
  {
   "cell_type": "code",
   "execution_count": null,
   "metadata": {
    "collapsed": true
   },
   "outputs": [],
   "source": []
  }
 ],
 "metadata": {
  "kernelspec": {
   "display_name": "Python 3",
   "language": "python",
   "name": "python3"
  },
  "language_info": {
   "codemirror_mode": {
    "name": "ipython",
    "version": 3
   },
   "file_extension": ".py",
   "mimetype": "text/x-python",
   "name": "python",
   "nbconvert_exporter": "python",
   "pygments_lexer": "ipython3",
   "version": "3.6.1"
  }
 },
 "nbformat": 4,
 "nbformat_minor": 2
}
