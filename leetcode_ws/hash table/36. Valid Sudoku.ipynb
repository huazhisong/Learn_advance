{
 "cells": [
  {
   "cell_type": "markdown",
   "metadata": {},
   "source": [
    "Determine if a Sudoku is valid, according to: Sudoku Puzzles - The Rules.\n",
    "\n",
    "The Sudoku board could be partially filled, where empty cells are filled with the character '.'.\n",
    "\n",
    "\n",
    "A partially filled sudoku which is valid.\n",
    "\n",
    "Note:\n",
    "A valid Sudoku board (partially filled) is not necessarily solvable. Only the filled cells need to be validated."
   ]
  },
  {
   "cell_type": "code",
   "execution_count": 39,
   "metadata": {},
   "outputs": [],
   "source": [
    "import pdb\n",
    "class Solution(object):\n",
    "    def isValidSudoku(self, board):\n",
    "        \"\"\"\n",
    "        分别判断横行，竖行，还有9宫格的数字就好\n",
    "        :type board: List[List[str]]\n",
    "        :rtype: bool\n",
    "        \"\"\"\n",
    "\n",
    "        # judge row\n",
    "        for row in board:\n",
    "            s = ''\n",
    "            for c in row:\n",
    "                if c in s:\n",
    "                    return False\n",
    "                if c != '.':\n",
    "                    s += c\n",
    "    \n",
    "        # judge column\n",
    "        for j in range(9):\n",
    "            col = ''\n",
    "            for i in range(9):\n",
    "                if board[i][j] in col:\n",
    "                    return False\n",
    "                if board[i][j] != '.':\n",
    "                    col += board[i][j]\n",
    "            \n",
    "                    \n",
    "        row_column = [(0, 0), (0, 3), (0, 6), (3, 0), (3, 3), (3, 6), (6, 0), (6, 3), (6, 6)]\n",
    "        for d in row_column:\n",
    "            i, j = d\n",
    "            s = ''\n",
    "            for ti in range(3):\n",
    "                for tj in range(3):\n",
    "                    if board[i+ti][j+tj] in s:\n",
    "                        return False\n",
    "                    if board[i+ti][j+tj] != '.':\n",
    "                        s += board[i+ti][j+tj]\n",
    "        return True"
   ]
  },
  {
   "cell_type": "code",
   "execution_count": 40,
   "metadata": {},
   "outputs": [
    {
     "data": {
      "text/plain": [
       "False"
      ]
     },
     "execution_count": 40,
     "metadata": {},
     "output_type": "execute_result"
    }
   ],
   "source": [
    "Solution().isValidSudoku([\"..4...63.\",\".........\",\"5......9.\",\"...56....\",\"4.3.....1\",\"...7.....\",\"...5.....\",\".........\",\".........\"])"
   ]
  },
  {
   "cell_type": "code",
   "execution_count": 41,
   "metadata": {},
   "outputs": [
    {
     "data": {
      "text/plain": [
       "False"
      ]
     },
     "execution_count": 41,
     "metadata": {},
     "output_type": "execute_result"
    }
   ],
   "source": [
    "# judge column\n",
    "Solution().isValidSudoku([\".87654321\",\"2........\",\"3........\",\"4........\",\"5........\",\"6........\",\"7.....4..\",\"8......4.\",\"9........\"])"
   ]
  },
  {
   "cell_type": "code",
   "execution_count": 42,
   "metadata": {},
   "outputs": [
    {
     "data": {
      "text/plain": [
       "False"
      ]
     },
     "execution_count": 42,
     "metadata": {},
     "output_type": "execute_result"
    }
   ],
   "source": [
    "# judge column\n",
    "Solution().isValidSudoku([\".87654321\",\"2........\",\"3........\",\"4........\",\"5........\",\"6........\",\"7........\",\"8........\",\"9.......1\"])"
   ]
  },
  {
   "cell_type": "code",
   "execution_count": 43,
   "metadata": {},
   "outputs": [
    {
     "data": {
      "text/plain": [
       "True"
      ]
     },
     "execution_count": 43,
     "metadata": {},
     "output_type": "execute_result"
    }
   ],
   "source": [
    "# judge row\n",
    "Solution().isValidSudoku([\".87654321\",\"2........\",\"3........\",\"4........\",\"5........\",\"6........\",\"7........\",\"8........\",\"9........\"])"
   ]
  },
  {
   "cell_type": "code",
   "execution_count": 44,
   "metadata": {},
   "outputs": [],
   "source": [
    "class Solution:\n",
    "    # @param board, a 9x9 2D array\n",
    "    # @return a boolean\n",
    "    def isValidSudoku(self, board):\n",
    "        \"\"\"\n",
    "        使用3个list，每个list包含9个set\n",
    "        \"\"\" \n",
    "        row = [set([]) for i in range(9)]\n",
    "        col = [set([]) for i in range(9)]\n",
    "        grid = [set([]) for i in range(9)]\n",
    "\n",
    "        for r in range(9):\n",
    "            for c in range(9):\n",
    "                if board[r][c] == '.':\n",
    "                    continue\n",
    "                if board[r][c] in row[r]:\n",
    "                    return False\n",
    "                if board[r][c] in col[c]:\n",
    "                    return False\n",
    "\n",
    "                g = r / 3 * 3 + c / 3\n",
    "                if board[r][c] in grid[g]:\n",
    "                    return False\n",
    "                grid[g].add(board[r][c])\n",
    "                row[r].add(board[r][c])\n",
    "                col[c].add(board[r][c])\n",
    "\n",
    "        return True"
   ]
  },
  {
   "cell_type": "code",
   "execution_count": null,
   "metadata": {
    "collapsed": true
   },
   "outputs": [],
   "source": []
  }
 ],
 "metadata": {
  "kernelspec": {
   "display_name": "Python 3",
   "language": "python",
   "name": "python3"
  },
  "language_info": {
   "codemirror_mode": {
    "name": "ipython",
    "version": 3
   },
   "file_extension": ".py",
   "mimetype": "text/x-python",
   "name": "python",
   "nbconvert_exporter": "python",
   "pygments_lexer": "ipython3",
   "version": "3.6.1"
  }
 },
 "nbformat": 4,
 "nbformat_minor": 2
}
