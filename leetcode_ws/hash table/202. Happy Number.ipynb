{
 "cells": [
  {
   "cell_type": "markdown",
   "metadata": {},
   "source": [
    "Write an algorithm to determine if a number is \"happy\".\n",
    "\n",
    "A happy number is a number defined by the following process: Starting with any positive integer, replace the number by the sum of the squares of its digits, and repeat the process until the number equals 1 (where it will stay), or it loops endlessly in a cycle which does not include 1. Those numbers for which this process ends in 1 are happy numbers.\n",
    "\n",
    "Example: 19 is a happy number\n",
    "\n",
    "12 + 92 = 82\n",
    "82 + 22 = 68\n",
    "62 + 82 = 100\n",
    "12 + 02 + 02 = 1"
   ]
  },
  {
   "cell_type": "code",
   "execution_count": 3,
   "metadata": {
    "collapsed": true
   },
   "outputs": [],
   "source": [
    "class Solution(object):\n",
    "    def happy_jude(self, n):\n",
    "        s = str(n)\n",
    "        sum = 0\n",
    "        for c in s:\n",
    "            sum += (ord(c)-ord('0'))**2\n",
    "        return sum\n",
    "    \n",
    "    def isHappy(self, n):\n",
    "        \"\"\"\n",
    "        首先计算每个数字happy值，\n",
    "        仔细研究就会发现其实每个字都有自身的循环周期\n",
    "        所以这道题的关键就是找到这个循环周期，只要判断\n",
    "        1在不在这个周期里面就可以了\n",
    "        :type n: int\n",
    "        :rtype: bool\n",
    "        \"\"\"\n",
    "        a_set = set([n])\n",
    "        con = self.happy_jude(n)\n",
    "        while con not in a_set:\n",
    "            a_set.add(con)\n",
    "            con = self.happy_jude(con)\n",
    "        if 1 in a_set:\n",
    "            return True\n",
    "        else:\n",
    "            return False"
   ]
  },
  {
   "cell_type": "code",
   "execution_count": 4,
   "metadata": {},
   "outputs": [
    {
     "data": {
      "text/plain": [
       "True"
      ]
     },
     "execution_count": 4,
     "metadata": {},
     "output_type": "execute_result"
    }
   ],
   "source": [
    "Solution().isHappy(19)"
   ]
  },
  {
   "cell_type": "code",
   "execution_count": null,
   "metadata": {},
   "outputs": [],
   "source": [
    "def happy(n):\n",
    "    a_set = set([n])\n",
    "    con = happy_jude(n)\n",
    "    while con not in a_set:\n",
    "        a_set.add(con)\n",
    "        con = happy_jude(con)\n",
    "    if 1 in a_set:\n",
    "        return True\n",
    "    else:\n",
    "        return False"
   ]
  },
  {
   "cell_type": "code",
   "execution_count": null,
   "metadata": {},
   "outputs": [],
   "source": [
    "for i in range (1, 100):\n",
    "    print(\"num\", i)\n",
    "    print(happy(i))\n",
    "    print(\"num end\")"
   ]
  },
  {
   "cell_type": "code",
   "execution_count": null,
   "metadata": {
    "collapsed": true
   },
   "outputs": [],
   "source": []
  }
 ],
 "metadata": {
  "kernelspec": {
   "display_name": "Python 3",
   "language": "python",
   "name": "python3"
  },
  "language_info": {
   "codemirror_mode": {
    "name": "ipython",
    "version": 3
   },
   "file_extension": ".py",
   "mimetype": "text/x-python",
   "name": "python",
   "nbconvert_exporter": "python",
   "pygments_lexer": "ipython3",
   "version": "3.6.1"
  }
 },
 "nbformat": 4,
 "nbformat_minor": 2
}
