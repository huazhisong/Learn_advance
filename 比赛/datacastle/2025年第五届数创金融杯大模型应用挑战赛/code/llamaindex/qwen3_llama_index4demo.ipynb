{
 "cells": [
  {
   "cell_type": "code",
   "execution_count": 1,
   "id": "fd8183fd-74df-4cc4-b093-92c5582d131c",
   "metadata": {
    "ExecutionIndicator": {
     "show": true
    },
    "execution": {
     "iopub.execute_input": "2025-05-21T13:28:48.791839Z",
     "iopub.status.busy": "2025-05-21T13:28:48.791453Z",
     "iopub.status.idle": "2025-05-21T13:28:57.415848Z",
     "shell.execute_reply": "2025-05-21T13:28:57.415289Z",
     "shell.execute_reply.started": "2025-05-21T13:28:48.791823Z"
    },
    "tags": []
   },
   "outputs": [
    {
     "name": "stderr",
     "output_type": "stream",
     "text": [
      "/Users/hyjiang/miniforge3/envs/py311-tra/lib/python3.11/site-packages/tqdm/auto.py:21: TqdmWarning: IProgress not found. Please update jupyter and ipywidgets. See https://ipywidgets.readthedocs.io/en/stable/user_install.html\n",
      "  from .autonotebook import tqdm as notebook_tqdm\n"
     ]
    }
   ],
   "source": [
    "from jinja2 import Template\n",
    "import os\n",
    "from llama_index.core import VectorStoreIndex, SimpleDirectoryReader,get_response_synthesizer\n",
    "from llama_index.embeddings.huggingface import HuggingFaceEmbedding\n",
    "from llama_index.core import Settings,PromptTemplate\n",
    "from llama_index.llms.openai_like import OpenAILike\n",
    "from llama_index.core.query_engine import RetrieverQueryEngine\n",
    "from llama_index.core.postprocessor import SimilarityPostprocessor\n",
    "from llama_index.core.retrievers import VectorIndexRetriever\n",
    "import pandas as pd\n",
    "from pydantic import BaseModel\n",
    "from openai import OpenAI"
   ]
  },
  {
   "cell_type": "code",
   "execution_count": 2,
   "id": "fc7d0bb9-bc9b-4c7f-bf3b-f62692517258",
   "metadata": {
    "execution": {
     "iopub.execute_input": "2025-05-21T13:28:57.417098Z",
     "iopub.status.busy": "2025-05-21T13:28:57.416659Z",
     "iopub.status.idle": "2025-05-21T13:28:57.484784Z",
     "shell.execute_reply": "2025-05-21T13:28:57.484378Z",
     "shell.execute_reply.started": "2025-05-21T13:28:57.417082Z"
    },
    "tags": []
   },
   "outputs": [],
   "source": [
    "client = OpenAI(api_key=\"860f7bb0-8efc-4b48-8498-88ec0ef8a60e\",base_url=\"https://api-inference.modelscope.cn/v1/\")"
   ]
  },
  {
   "cell_type": "code",
   "execution_count": 3,
   "id": "70024a1e-6679-4f15-9440-a8121d59d571",
   "metadata": {
    "ExecutionIndicator": {
     "show": true
    },
    "execution": {
     "iopub.execute_input": "2025-05-21T13:28:57.485660Z",
     "iopub.status.busy": "2025-05-21T13:28:57.485374Z",
     "iopub.status.idle": "2025-05-21T13:28:57.489064Z",
     "shell.execute_reply": "2025-05-21T13:28:57.488563Z",
     "shell.execute_reply.started": "2025-05-21T13:28:57.485638Z"
    },
    "tags": []
   },
   "outputs": [],
   "source": [
    "# 格式化输出\n",
    "\n",
    "class choice(BaseModel):\n",
    "    \"\"\"正确的选项\"\"\"\n",
    "\n",
    "    correct_chice: str"
   ]
  },
  {
   "cell_type": "code",
   "execution_count": 4,
   "id": "6146436a-10b3-4b50-9480-0e8cecf565d8",
   "metadata": {
    "ExecutionIndicator": {
     "show": true
    },
    "execution": {
     "iopub.execute_input": "2025-05-21T13:49:35.650853Z",
     "iopub.status.busy": "2025-05-21T13:49:35.650569Z",
     "iopub.status.idle": "2025-05-21T13:49:35.654989Z",
     "shell.execute_reply": "2025-05-21T13:49:35.654516Z",
     "shell.execute_reply.started": "2025-05-21T13:49:35.650838Z"
    },
    "tags": []
   },
   "outputs": [],
   "source": [
    "prompt_choice='''\n",
    "{{question}}\n",
    "{{choice}}\n",
    "'''\n",
    "choice_template = Template(prompt_choice)\n",
    "\n",
    "prompt_jianda='''\n",
    "{{question}}\n",
    "'''\n",
    "jianda_template = Template(prompt_jianda)\n",
    "\n",
    "\n",
    "extract_answer = '''\n",
    "你是一个答案提取助手，请直接从我给出的包含答案选项和解析的文本中提取出正确答案选项,只返回选项对应的字母，不返回任何其他内容。\n",
    "\n",
    "文本陈述:\n",
    "{{chenshu}}\n",
    "'''\n",
    "\n",
    "jian_template = Template(extract_answer)"
   ]
  },
  {
   "cell_type": "code",
   "execution_count": 5,
   "id": "539c681c-cf7a-4d8f-a22c-bf37d65b601e",
   "metadata": {
    "ExecutionIndicator": {
     "show": false
    },
    "execution": {
     "iopub.execute_input": "2025-05-21T13:28:57.500133Z",
     "iopub.status.busy": "2025-05-21T13:28:57.499945Z",
     "iopub.status.idle": "2025-05-21T13:29:03.228085Z",
     "shell.execute_reply": "2025-05-21T13:29:03.227633Z",
     "shell.execute_reply.started": "2025-05-21T13:28:57.500107Z"
    },
    "tags": []
   },
   "outputs": [],
   "source": [
    "Settings.embed_model = HuggingFaceEmbedding(model_name=\"BAAI/bge-m3\",)"
   ]
  },
  {
   "cell_type": "code",
   "execution_count": 8,
   "id": "48336ed8-8b6c-42a4-aee0-4d515cb99e4e",
   "metadata": {
    "ExecutionIndicator": {
     "show": true
    },
    "execution": {
     "iopub.execute_input": "2025-05-21T13:29:03.228861Z",
     "iopub.status.busy": "2025-05-21T13:29:03.228666Z",
     "iopub.status.idle": "2025-05-21T13:29:13.626641Z",
     "shell.execute_reply": "2025-05-21T13:29:13.626196Z",
     "shell.execute_reply.started": "2025-05-21T13:29:03.228848Z"
    },
    "tags": []
   },
   "outputs": [
    {
     "name": "stderr",
     "output_type": "stream",
     "text": [
      "Loading files: 100%|██████████| 2/2 [00:00<00:00, 38.36it/s]\n"
     ]
    }
   ],
   "source": [
    "documents = SimpleDirectoryReader(\n",
    "    \"/Users/hyjiang/Downloads/tmp_downloads/2025xib_厦门国际银行数创金融杯/初赛/制度文档demo\",\n",
    "    recursive=True\n",
    ").load_data(show_progress=True)"
   ]
  },
  {
   "cell_type": "code",
   "execution_count": 9,
   "id": "bf562026-c4a3-4ffa-b04a-a93594b61ed0",
   "metadata": {
    "ExecutionIndicator": {
     "show": true
    },
    "execution": {
     "iopub.execute_input": "2025-05-21T13:29:13.628713Z",
     "iopub.status.busy": "2025-05-21T13:29:13.628560Z",
     "iopub.status.idle": "2025-05-21T13:33:45.581104Z",
     "shell.execute_reply": "2025-05-21T13:33:45.580624Z",
     "shell.execute_reply.started": "2025-05-21T13:29:13.628700Z"
    },
    "tags": []
   },
   "outputs": [],
   "source": [
    "Settings.llm = OpenAILike(\n",
    "    model=\"Qwen/Qwen3-8B\",\n",
    "    api_base='https://api-inference.modelscope.cn/v1/',\n",
    "    api_key='860f7bb0-8efc-4b48-8498-88ec0ef8a60e',\n",
    "    is_chat_model=True,\n",
    "    temperature=0.6,\n",
    "    top_p = 0.95,\n",
    "    top_k = 20,\n",
    "    additional_kwargs={\n",
    "        \"extra_body\": {\"enable_thinking\": False},\n",
    "    },\n",
    ")\n",
    "\n",
    "index = VectorStoreIndex.from_documents(documents)\n",
    "\n",
    "retriever = VectorIndexRetriever(\n",
    "    index=index,\n",
    "    similarity_top_k=3,\n",
    ")"
   ]
  },
  {
   "cell_type": "code",
   "execution_count": 10,
   "id": "1d962e5c-4115-4fb5-87a2-0cef5837b8f8",
   "metadata": {
    "ExecutionIndicator": {
     "show": true
    },
    "execution": {
     "iopub.execute_input": "2025-05-21T13:33:45.581875Z",
     "iopub.status.busy": "2025-05-21T13:33:45.581647Z",
     "iopub.status.idle": "2025-05-21T13:33:45.584486Z",
     "shell.execute_reply": "2025-05-21T13:33:45.584043Z",
     "shell.execute_reply.started": "2025-05-21T13:33:45.581856Z"
    },
    "tags": []
   },
   "outputs": [],
   "source": [
    "response_synthesizer = get_response_synthesizer(\n",
    "    \n",
    "        response_mode=\"tree_summarize\"\n",
    "        # output_cls=choice\n",
    ")"
   ]
  },
  {
   "cell_type": "code",
   "execution_count": 11,
   "id": "2c895750-1425-4394-b6a7-0e7aa7fdd28e",
   "metadata": {
    "ExecutionIndicator": {
     "show": false
    },
    "execution": {
     "iopub.execute_input": "2025-05-21T13:51:10.126410Z",
     "iopub.status.busy": "2025-05-21T13:51:10.126108Z",
     "iopub.status.idle": "2025-05-21T13:51:10.129424Z",
     "shell.execute_reply": "2025-05-21T13:51:10.128978Z",
     "shell.execute_reply.started": "2025-05-21T13:51:10.126395Z"
    },
    "tags": []
   },
   "outputs": [],
   "source": [
    "# 修改text_qa_template\n",
    "new_choice_tmpl_str = (    \"你是一个兼容监管制度知识专家。下面是上下文信息。\\n\"    \"{context_str}\\n\"    \"你将会再查询接受到一个金融监管制度方面不定项选择题和多个选项。请根据上下文信息和非先验知识, 在给出的选项中选出正确的答案（可能是单个或多个选项)\"    \"查询：{query_str}\\n\"    \"答案:\")\n",
    "new_choice_tmpl = PromptTemplate(new_choice_tmpl_str)\n",
    "\n",
    "new_jianda_tmpl_str = (    \"你是一个兼容监管制度知识专家。下面是上下文信息。\\n\"    \"{context_str}\\n\"    \"你将会再查询接受到一个金融监管制度方面简答题。请根据上下文信息和非先验知识, 对问题做出正确的解答\"    \"查询：{query_str}\\n\"    \"答案:\")\n",
    "new_jianda_tmpl = PromptTemplate(new_jianda_tmpl_str)"
   ]
  },
  {
   "cell_type": "code",
   "execution_count": 12,
   "id": "728d9960-8d87-40b6-a6e0-167cdeb35d72",
   "metadata": {
    "ExecutionIndicator": {
     "show": true
    },
    "execution": {
     "iopub.execute_input": "2025-05-21T13:51:12.347094Z",
     "iopub.status.busy": "2025-05-21T13:51:12.346822Z",
     "iopub.status.idle": "2025-05-21T13:51:12.350171Z",
     "shell.execute_reply": "2025-05-21T13:51:12.349544Z",
     "shell.execute_reply.started": "2025-05-21T13:51:12.347078Z"
    },
    "tags": []
   },
   "outputs": [],
   "source": [
    "# query_engine = index.as_query_engine(\n",
    "#         response_mode=\"tree_summarize\",\n",
    "#         output_cls=choice\n",
    "# )\n",
    "\n",
    "query_engine = RetrieverQueryEngine(\n",
    "    retriever=retriever,\n",
    "    response_synthesizer=response_synthesizer,\n",
    "    node_postprocessors=[SimilarityPostprocessor(similarity_cutoff=0.6)],\n",
    ")"
   ]
  },
  {
   "cell_type": "code",
   "execution_count": 14,
   "id": "0a7108eb-f6b3-4899-af61-d0da4ac11d29",
   "metadata": {
    "ExecutionIndicator": {
     "show": true
    },
    "execution": {
     "iopub.execute_input": "2025-05-21T13:52:08.080825Z",
     "iopub.status.busy": "2025-05-21T13:52:08.080546Z"
    },
    "tags": []
   },
   "outputs": [
    {
     "name": "stdout",
     "output_type": "stream",
     "text": [
      "=====================================\n",
      "根据提供的上下文信息，该文件是中国银行业监督管理委员会（现为中国银行保险监督管理委员会）于2007年发布的《关于加强商业性房地产信贷管理的通知》（银发〔2007〕359号），其内容主要涉及房地产信贷管理的若干规定，包括住房消费贷款、商业用房购房贷款、房地产开发贷款、土地储备贷款以及房地产信贷征信管理等方面。\n",
      "\n",
      "然而，**该文件并未提及商业银行的流动性覆盖率（LCR）相关监管要求**。流动性覆盖率是巴塞尔协议III中引入的重要监管指标，用于衡量银行在短期内（30天内）应对流动性需求的能力，通常由各国金融监管机构根据国际标准制定具体要求。\n",
      "\n",
      "因此，在给定的上下文中，并没有关于“商业银行的流动性覆盖率最低监管标准”的信息。\n",
      "\n",
      "### 正确答案：  \n",
      "**D. 根据资产规模动态调整**\n",
      "\n",
      "**理由**：由于上下文未提供具体的流动性覆盖率数值，且该通知仅针对房地产信贷管理，因此无法从文中直接得出具体数值。而选项D“根据资产规模动态调整”更符合实际监管实践中对流动性覆盖率的处理方式，即不同规模的银行可能有不同的监管标准。\n",
      "D\n",
      "=====================================\n",
      "根据提供的上下文信息，内容主要围绕**商业性房地产信贷管理**，包括住房消费贷款、商业用房购房贷款、房地产开发贷款、土地储备贷款等领域的监管要求。文中并未提及任何关于**绿色信贷**或**绿色项目支持**的内容。\n",
      "\n",
      "因此，从给定的上下文信息中无法直接推断出银行业发展绿色信贷时应优先支持的项目类型。\n",
      "\n",
      "但根据**金融监管的一般原则**和国家政策导向（如“双碳”目标、生态文明建设等），绿色信贷通常优先支持**节能环保、可持续发展**类项目。\n",
      "\n",
      "在选项中：\n",
      "\n",
      "- **A. 落后产能扩建** —— 不符合绿色信贷方向，可能增加污染。\n",
      "- **B. 符合标准的节能环保项目** —— 符合绿色信贷支持方向。\n",
      "- **C. 高污染工业设施** —— 明显不符合绿色信贷支持方向。\n",
      "- **D. 房地产开发** —— 从上下文看，房地产开发贷款有严格限制，且不一定是绿色信贷优先支持对象。\n",
      "\n",
      "### 正确答案：**B. 符合标准的节能环保项目**\n",
      "B\n",
      "=====================================\n",
      "Empty Response\n",
      "无\n",
      "=====================================\n",
      "Empty Response\n",
      "无\n",
      "=====================================\n",
      "Empty Response\n",
      "无\n",
      "=====================================\n",
      "Empty Response\n",
      "无\n",
      "=====================================\n",
      "Empty Response\n",
      "无\n",
      "=====================================\n",
      "============================================\n",
      "Empty Response\n",
      "=====================================\n",
      "============================================\n",
      "Empty Response\n",
      "=====================================\n",
      "============================================\n",
      "Empty Response\n",
      "=====================================\n",
      "============================================\n",
      "Empty Response\n"
     ]
    }
   ],
   "source": [
    "data = pd.read_json('/Users/hyjiang/Downloads/tmp_downloads/2025xib_厦门国际银行数创金融杯/初赛/数据集demo/demo_train.json',lines=True)\n",
    "results = {\n",
    "    \"id\":[],\n",
    "    \"answer\":[]\n",
    "}\n",
    "for idx,row in data.iterrows():\n",
    "    print(\"=====================================\")\n",
    "    if row['category']=='选择题':\n",
    "        query_engine.update_prompts(\n",
    "            {\"response_synthesizer:summary_template\": new_choice_tmpl}\n",
    "        )\n",
    "        prompt = choice_template.render(question=row['question'], choice = row['content'])\n",
    "        response = query_engine.query(prompt)\n",
    "        print(response)\n",
    "        chenshu = jian_template.render(chenshu=response)\n",
    "        message = [\n",
    "        # {'role':\"system\",\"content\":sys},\n",
    "        {\"role\": \"user\", \"content\": chenshu}]\n",
    "        result = client.chat.completions.create(messages=message,\n",
    "                                                model=\"Qwen/Qwen3-8B\",\n",
    "                                                temperature=0.1,\n",
    "                                                top_p=0.8,\n",
    "                                                max_tokens=1000,\n",
    "                                                extra_body={\n",
    "                                                    \"repetition_penalty\": 1.05,\n",
    "                                                    \"enable_thinking\": False\n",
    "                                                },)\n",
    "        print(result.choices[0].message.content)\n",
    "        result = [result.choices[0].message.content.strip()]\n",
    "        results[\"id\"].append(row[\"id\"])\n",
    "        results[\"answer\"].append(result)\n",
    "    else:\n",
    "        print(\"============================================\")\n",
    "        query_engine.update_prompts(\n",
    "            {\"response_synthesizer:summary_template\":new_jianda_tmpl}\n",
    "        )\n",
    "        prompt = jianda_template.render(question=row['question'])\n",
    "        response = query_engine.query(prompt)\n",
    "        print(response)\n",
    "        results[\"id\"].append(row[\"id\"])\n",
    "        results[\"answer\"].append(result)"
   ]
  },
  {
   "cell_type": "code",
   "execution_count": null,
   "id": "1265ec65",
   "metadata": {},
   "outputs": [],
   "source": []
  }
 ],
 "metadata": {
  "kernelspec": {
   "display_name": "py311-tra",
   "language": "python",
   "name": "python3"
  },
  "language_info": {
   "codemirror_mode": {
    "name": "ipython",
    "version": 3
   },
   "file_extension": ".py",
   "mimetype": "text/x-python",
   "name": "python",
   "nbconvert_exporter": "python",
   "pygments_lexer": "ipython3",
   "version": "3.11.12"
  }
 },
 "nbformat": 4,
 "nbformat_minor": 5
}
