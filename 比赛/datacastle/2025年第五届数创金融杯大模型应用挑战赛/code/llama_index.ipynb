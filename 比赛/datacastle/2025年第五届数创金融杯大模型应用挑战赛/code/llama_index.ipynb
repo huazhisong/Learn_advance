{
 "cells": [
  {
   "cell_type": "code",
   "execution_count": 1,
   "id": "fd8183fd-74df-4cc4-b093-92c5582d131c",
   "metadata": {
    "ExecutionIndicator": {
     "show": true
    },
    "execution": {
     "iopub.execute_input": "2025-05-21T13:28:48.791839Z",
     "iopub.status.busy": "2025-05-21T13:28:48.791453Z",
     "iopub.status.idle": "2025-05-21T13:28:57.415848Z",
     "shell.execute_reply": "2025-05-21T13:28:57.415289Z",
     "shell.execute_reply.started": "2025-05-21T13:28:48.791823Z"
    },
    "tags": []
   },
   "outputs": [
    {
     "name": "stderr",
     "output_type": "stream",
     "text": [
      "2025-05-21 21:28:55.002821: I tensorflow/core/util/port.cc:113] oneDNN custom operations are on. You may see slightly different numerical results due to floating-point round-off errors from different computation orders. To turn them off, set the environment variable `TF_ENABLE_ONEDNN_OPTS=0`.\n",
      "2025-05-21 21:28:55.049194: I tensorflow/core/platform/cpu_feature_guard.cc:210] This TensorFlow binary is optimized to use available CPU instructions in performance-critical operations.\n",
      "To enable the following instructions: AVX2 AVX512F AVX512_VNNI FMA, in other operations, rebuild TensorFlow with the appropriate compiler flags.\n",
      "2025-05-21 21:28:55.902951: W tensorflow/compiler/tf2tensorrt/utils/py_utils.cc:38] TF-TRT Warning: Could not find TensorRT\n"
     ]
    }
   ],
   "source": [
    "from jinja2 import Template\n",
    "import os\n",
    "from llama_index.core import VectorStoreIndex, SimpleDirectoryReader,get_response_synthesizer\n",
    "from llama_index.embeddings.huggingface import HuggingFaceEmbedding\n",
    "from llama_index.core import Settings,PromptTemplate\n",
    "from llama_index.llms.openai_like import OpenAILike\n",
    "from llama_index.core.query_engine import RetrieverQueryEngine\n",
    "from llama_index.core.postprocessor import SimilarityPostprocessor\n",
    "from llama_index.core.retrievers import VectorIndexRetriever\n",
    "import pandas as pd\n",
    "from pydantic import BaseModel\n",
    "from openai import OpenAI"
   ]
  },
  {
   "cell_type": "code",
   "execution_count": 2,
   "id": "fc7d0bb9-bc9b-4c7f-bf3b-f62692517258",
   "metadata": {
    "execution": {
     "iopub.execute_input": "2025-05-21T13:28:57.417098Z",
     "iopub.status.busy": "2025-05-21T13:28:57.416659Z",
     "iopub.status.idle": "2025-05-21T13:28:57.484784Z",
     "shell.execute_reply": "2025-05-21T13:28:57.484378Z",
     "shell.execute_reply.started": "2025-05-21T13:28:57.417082Z"
    },
    "tags": []
   },
   "outputs": [],
   "source": [
    "client = OpenAI(api_key=\"0\",base_url=\"http://0.0.0.0:8000/v1\")"
   ]
  },
  {
   "cell_type": "code",
   "execution_count": 3,
   "id": "70024a1e-6679-4f15-9440-a8121d59d571",
   "metadata": {
    "ExecutionIndicator": {
     "show": true
    },
    "execution": {
     "iopub.execute_input": "2025-05-21T13:28:57.485660Z",
     "iopub.status.busy": "2025-05-21T13:28:57.485374Z",
     "iopub.status.idle": "2025-05-21T13:28:57.489064Z",
     "shell.execute_reply": "2025-05-21T13:28:57.488563Z",
     "shell.execute_reply.started": "2025-05-21T13:28:57.485638Z"
    },
    "tags": []
   },
   "outputs": [],
   "source": [
    "# 格式化输出\n",
    "\n",
    "class choice(BaseModel):\n",
    "    \"\"\"正确的选项\"\"\"\n",
    "\n",
    "    correct_chice: str"
   ]
  },
  {
   "cell_type": "code",
   "execution_count": 24,
   "id": "6146436a-10b3-4b50-9480-0e8cecf565d8",
   "metadata": {
    "ExecutionIndicator": {
     "show": true
    },
    "execution": {
     "iopub.execute_input": "2025-05-21T13:49:35.650853Z",
     "iopub.status.busy": "2025-05-21T13:49:35.650569Z",
     "iopub.status.idle": "2025-05-21T13:49:35.654989Z",
     "shell.execute_reply": "2025-05-21T13:49:35.654516Z",
     "shell.execute_reply.started": "2025-05-21T13:49:35.650838Z"
    },
    "tags": []
   },
   "outputs": [],
   "source": [
    "prompt_choice='''\n",
    "{{question}}\n",
    "{{choice}}\n",
    "'''\n",
    "choice_template = Template(prompt_choice)\n",
    "\n",
    "prompt_jianda='''\n",
    "{{question}}\n",
    "'''\n",
    "jianda_template = Template(prompt_jianda)\n",
    "\n",
    "\n",
    "extract_answer = '''\n",
    "你是一个答案提取助手，请直接从我给出的包含答案选项和解析的文本中提取出正确答案选项,只返回选项对应的字母，不返回任何其他内容。\n",
    "\n",
    "文本陈述:\n",
    "{{chenshu}}\n",
    "'''\n",
    "\n",
    "jian_template = Template(extract_answer)"
   ]
  },
  {
   "cell_type": "code",
   "execution_count": 5,
   "id": "539c681c-cf7a-4d8f-a22c-bf37d65b601e",
   "metadata": {
    "ExecutionIndicator": {
     "show": false
    },
    "execution": {
     "iopub.execute_input": "2025-05-21T13:28:57.500133Z",
     "iopub.status.busy": "2025-05-21T13:28:57.499945Z",
     "iopub.status.idle": "2025-05-21T13:29:03.228085Z",
     "shell.execute_reply": "2025-05-21T13:29:03.227633Z",
     "shell.execute_reply.started": "2025-05-21T13:28:57.500107Z"
    },
    "tags": []
   },
   "outputs": [],
   "source": [
    "Settings.embed_model = HuggingFaceEmbedding(model_name=\"./BAAI/bge-m3\",device='cuda:0')"
   ]
  },
  {
   "cell_type": "code",
   "execution_count": 6,
   "id": "48336ed8-8b6c-42a4-aee0-4d515cb99e4e",
   "metadata": {
    "ExecutionIndicator": {
     "show": true
    },
    "execution": {
     "iopub.execute_input": "2025-05-21T13:29:03.228861Z",
     "iopub.status.busy": "2025-05-21T13:29:03.228666Z",
     "iopub.status.idle": "2025-05-21T13:29:13.626641Z",
     "shell.execute_reply": "2025-05-21T13:29:13.626196Z",
     "shell.execute_reply.started": "2025-05-21T13:29:03.228848Z"
    },
    "tags": []
   },
   "outputs": [
    {
     "data": {
      "application/vnd.jupyter.widget-view+json": {
       "model_id": "e393c4ff82f64e6b9b1a20768199ad6b",
       "version_major": 2,
       "version_minor": 0
      },
      "text/plain": [
       "Loading files:   0%|          | 0/895 [00:00<?, ?it/s]"
      ]
     },
     "metadata": {},
     "output_type": "display_data"
    }
   ],
   "source": [
    "documents = SimpleDirectoryReader(\n",
    "    \"./赛题制度文档\",\n",
    "    recursive=True\n",
    ").load_data(show_progress=True)"
   ]
  },
  {
   "cell_type": "code",
   "execution_count": 7,
   "id": "bf562026-c4a3-4ffa-b04a-a93594b61ed0",
   "metadata": {
    "ExecutionIndicator": {
     "show": true
    },
    "execution": {
     "iopub.execute_input": "2025-05-21T13:29:13.628713Z",
     "iopub.status.busy": "2025-05-21T13:29:13.628560Z",
     "iopub.status.idle": "2025-05-21T13:33:45.581104Z",
     "shell.execute_reply": "2025-05-21T13:33:45.580624Z",
     "shell.execute_reply.started": "2025-05-21T13:29:13.628700Z"
    },
    "tags": []
   },
   "outputs": [],
   "source": [
    "Settings.llm = OpenAILike(\n",
    "    model=\"Fin-R1\",\n",
    "    api_base='http://0.0.0.0:8000/v1',\n",
    "    api_key='0',\n",
    "    is_chat_model=True,\n",
    "    temperature=0.6,\n",
    "    top_p = 0.95,\n",
    "    top_k = 20\n",
    "    # additional_kwargs={\n",
    "    #     \"extra_body\": {\"enable_thinking\": False},\n",
    "    # },\n",
    ")\n",
    "\n",
    "index = VectorStoreIndex.from_documents(documents)\n",
    "\n",
    "retriever = VectorIndexRetriever(\n",
    "    index=index,\n",
    "    similarity_top_k=3,\n",
    ")"
   ]
  },
  {
   "cell_type": "code",
   "execution_count": 8,
   "id": "1d962e5c-4115-4fb5-87a2-0cef5837b8f8",
   "metadata": {
    "ExecutionIndicator": {
     "show": true
    },
    "execution": {
     "iopub.execute_input": "2025-05-21T13:33:45.581875Z",
     "iopub.status.busy": "2025-05-21T13:33:45.581647Z",
     "iopub.status.idle": "2025-05-21T13:33:45.584486Z",
     "shell.execute_reply": "2025-05-21T13:33:45.584043Z",
     "shell.execute_reply.started": "2025-05-21T13:33:45.581856Z"
    },
    "tags": []
   },
   "outputs": [],
   "source": [
    "response_synthesizer = get_response_synthesizer(\n",
    "    \n",
    "        response_mode=\"tree_summarize\"\n",
    "        # output_cls=choice\n",
    ")"
   ]
  },
  {
   "cell_type": "code",
   "execution_count": 25,
   "id": "2c895750-1425-4394-b6a7-0e7aa7fdd28e",
   "metadata": {
    "ExecutionIndicator": {
     "show": false
    },
    "execution": {
     "iopub.execute_input": "2025-05-21T13:51:10.126410Z",
     "iopub.status.busy": "2025-05-21T13:51:10.126108Z",
     "iopub.status.idle": "2025-05-21T13:51:10.129424Z",
     "shell.execute_reply": "2025-05-21T13:51:10.128978Z",
     "shell.execute_reply.started": "2025-05-21T13:51:10.126395Z"
    },
    "tags": []
   },
   "outputs": [],
   "source": [
    "# 修改text_qa_template\n",
    "new_choice_tmpl_str = (    \"你是一个兼容监管制度知识专家。下面是上下文信息。\\n\"    \"{context_str}\\n\"    \"你将会再查询接受到一个金融监管制度方面不定项选择题和多个选项。请根据上下文信息和非先验知识, 在给出的选项中选出正确的答案（可能是单个或多个选项)\"    \"查询：{query_str}\\n\"    \"答案:\")\n",
    "new_choice_tmpl = PromptTemplate(new_choice_tmpl_str)\n",
    "\n",
    "new_jianda_tmpl_str = (    \"你是一个兼容监管制度知识专家。下面是上下文信息。\\n\"    \"{context_str}\\n\"    \"你将会再查询接受到一个金融监管制度方面简答题。请根据上下文信息和非先验知识, 对问题做出正确的解答\"    \"查询：{query_str}\\n\"    \"答案:\")\n",
    "new_jianda_tmpl = PromptTemplate(new_jianda_tmpl_str)"
   ]
  },
  {
   "cell_type": "code",
   "execution_count": 26,
   "id": "728d9960-8d87-40b6-a6e0-167cdeb35d72",
   "metadata": {
    "ExecutionIndicator": {
     "show": true
    },
    "execution": {
     "iopub.execute_input": "2025-05-21T13:51:12.347094Z",
     "iopub.status.busy": "2025-05-21T13:51:12.346822Z",
     "iopub.status.idle": "2025-05-21T13:51:12.350171Z",
     "shell.execute_reply": "2025-05-21T13:51:12.349544Z",
     "shell.execute_reply.started": "2025-05-21T13:51:12.347078Z"
    },
    "tags": []
   },
   "outputs": [],
   "source": [
    "# query_engine = index.as_query_engine(\n",
    "#         response_mode=\"tree_summarize\",\n",
    "#         output_cls=choice\n",
    "# )\n",
    "\n",
    "query_engine = RetrieverQueryEngine(\n",
    "    retriever=retriever,\n",
    "    response_synthesizer=response_synthesizer,\n",
    "    node_postprocessors=[SimilarityPostprocessor(similarity_cutoff=0.6)],\n",
    ")"
   ]
  },
  {
   "cell_type": "code",
   "execution_count": null,
   "id": "0a7108eb-f6b3-4899-af61-d0da4ac11d29",
   "metadata": {
    "ExecutionIndicator": {
     "show": true
    },
    "execution": {
     "iopub.execute_input": "2025-05-21T13:52:08.080825Z",
     "iopub.status.busy": "2025-05-21T13:52:08.080546Z"
    },
    "tags": []
   },
   "outputs": [
    {
     "name": "stdout",
     "output_type": "stream",
     "text": [
      "=====================================\n",
      "\n",
      "\n",
      "根据提供的文档内容，消费金融公司需要在《金融机构大额交易和可疑交易报告管理办法（2016修订）》施行前完成大额交易报告主体资格申请。该办法自**2017年7月1日**起施行（见文件第三十条）。因此，消费金融公司需在**2017年6月30日**前完成相关申请，以确保符合新法规的要求。\n",
      "\n",
      "**答案: C. 2017年6月30日**\n",
      "\n",
      "\n",
      "C\n",
      "=====================================\n",
      "\n",
      "\n",
      "根据中国银监会办公厅2010年发布的《关于进一步提高两岸银行业相互开放水平有关工作的通知》（银监办发〔2010〕399号）规定，台湾银行在大陆的营业性机构申请经营人民币业务需满足以下条件：  \n",
      "- **提出申请前在大陆开业2年以上**；  \n",
      "- **提出申请前1年盈利**。  \n",
      "\n",
      "因此，正确答案是 **C. 开业2年且最近1年盈利**。  \n",
      "\n",
      "**答案: C**\n",
      "\n",
      "\n",
      "C\n",
      "=====================================\n"
     ]
    }
   ],
   "source": [
    "data = pd.read_json('./testA.json',lines=True)\n",
    "results = {\n",
    "    \"id\":[],\n",
    "    \"answer\":[]\n",
    "}\n",
    "for idx,row in data.iterrows():\n",
    "    print(\"=====================================\")\n",
    "    if row['category']=='选择题':\n",
    "        query_engine.update_prompts(\n",
    "            {\"response_synthesizer:summary_template\": new_choice_tmpl}\n",
    "        )\n",
    "        prompt = choice_template.render(question=row['question'], choice = row['content'])\n",
    "        response = query_engine.query(prompt)\n",
    "        print(response)\n",
    "        chenshu = jian_template.render(chenshu=response)\n",
    "        message = [\n",
    "        # {'role':\"system\",\"content\":sys},\n",
    "        {\"role\": \"user\", \"content\": chenshu}]\n",
    "        result = client.chat.completions.create(messages=message, model=\"Fin-R1\",\n",
    "                                                temperature=0.1,\n",
    "                                                top_p=0.8,\n",
    "                                                max_tokens=1000,\n",
    "                                                extra_body={\n",
    "                                                    \"repetition_penalty\": 1.05,\n",
    "                                                    \"enable_thinking\": False\n",
    "                                                },)\n",
    "        print(result.choices[0].message.content)\n",
    "        result = [result.choices[0].message.content.strip()]\n",
    "        results[\"id\"].append(row[\"id\"])\n",
    "        results[\"answer\"].append(result)\n",
    "    else:\n",
    "        print(\"============================================\")\n",
    "        query_engine.update_prompts(\n",
    "            {\"response_synthesizer:summary_template\":new_jianda_tmpl}\n",
    "        )\n",
    "        prompt = jianda_template.render(question=row['question'])\n",
    "        response = query_engine.query(prompt)\n",
    "        print(response)\n",
    "        results[\"id\"].append(row[\"id\"])\n",
    "        results[\"answer\"].append(result)"
   ]
  },
  {
   "cell_type": "code",
   "execution_count": null,
   "id": "5ec68f54",
   "metadata": {},
   "outputs": [],
   "source": [
    "# local usage\n",
    "embedding = OpenAIEmbedding().get_text_embedding(\"hello world\")\n",
    "embeddings = OpenAIEmbedding().get_text_embeddings(\n",
    "    [\"hello world\", \"hello world\"]\n",
    ")\n",
    "\n",
    "# per-index\n",
    "index = VectorStoreIndex.from_documents(documents, embed_model=embed_model)"
   ]
  },
  {
   "cell_type": "code",
   "execution_count": null,
   "id": "2f51c9b4",
   "metadata": {},
   "outputs": [],
   "source": []
  },
  {
   "cell_type": "code",
   "execution_count": null,
   "id": "2f515fc3",
   "metadata": {},
   "outputs": [],
   "source": []
  }
 ],
 "metadata": {
  "kernelspec": {
   "display_name": "Python 3 (ipykernel)",
   "language": "python",
   "name": "python3"
  },
  "language_info": {
   "codemirror_mode": {
    "name": "ipython",
    "version": 3
   },
   "file_extension": ".py",
   "mimetype": "text/x-python",
   "name": "python",
   "nbconvert_exporter": "python",
   "pygments_lexer": "ipython3",
   "version": "3.11.11"
  }
 },
 "nbformat": 4,
 "nbformat_minor": 5
}
